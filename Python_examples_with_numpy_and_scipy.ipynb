{
 "cells": [
  {
   "cell_type": "markdown",
   "id": "cdfa61de-73d9-423d-bd93-5188110592b5",
   "metadata": {},
   "source": [
    "# Computational Physics - NumPy & SciPy Essentials\n",
    "\n",
    "*A beginner's guide to essential numerical functions for physics computations*"
   ]
  },
  {
   "cell_type": "markdown",
   "id": "99ebf68a-c9d5-4af5-971e-3f8739d128d8",
   "metadata": {},
   "source": [
    "### Getting Started with NumPy"
   ]
  },
  {
   "cell_type": "code",
   "execution_count": 1,
   "id": "e4d1fba0-b700-4884-af47-cec404cf0718",
   "metadata": {},
   "outputs": [
    {
     "name": "stdout",
     "output_type": "stream",
     "text": [
      "Basic array x: [1 2 3 4 5]\n",
      "Linspace array y: [ 0.  1.  2.  3.  4.  5.  6.  7.  8.  9. 10.]\n",
      "Arange array z: [0.  0.5 1.  1.5 2.  2.5 3.  3.5 4.  4.5]\n",
      "Shape of y: (11,)\n",
      "Data type of x: int64\n",
      "\n",
      "Array statistics:\n",
      "Mean of x: 3.0\n",
      "Standard deviation: 1.4142135623730951\n",
      "Min/Max: 1, 5\n"
     ]
    }
   ],
   "source": [
    "import numpy as np\n",
    "\n",
    "# Create arrays - the foundation of numerical computing\n",
    "x = np.array([1, 2, 3, 4, 5]) #manually specify array values\n",
    "y = np.linspace(0, 10, 11)  # create evenly spaced values using linspace from 0 to 10\n",
    "z = np.arange(0, 5, 0.5)    # create evenly spaced values, increment 0.5 from 0 to 5 using arrange\n",
    "\n",
    "#print array contents\n",
    "print(\"Basic array x:\", x)\n",
    "print(\"Linspace array y:\", y)\n",
    "print(\"Arange array z:\", z)\n",
    "\n",
    "#print information about arrays\n",
    "print(\"Shape of y:\", y.shape)\n",
    "print(\"Data type of x:\", x.dtype)\n",
    "\n",
    "# Useful statistics on data arrays\n",
    "print(f\"\\nArray statistics:\")\n",
    "print(f\"Mean of x: {np.mean(x)}\")\n",
    "print(f\"Standard deviation: {np.std(x)}\")\n",
    "print(f\"Min/Max: {np.min(x)}, {np.max(x)}\")"
   ]
  },
  {
   "cell_type": "markdown",
   "id": "c8db6f2d-39b5-4160-bd87-b1a4f50c9d3b",
   "metadata": {},
   "source": [
    "### Mathematical Operations and Physics Constants"
   ]
  },
  {
   "cell_type": "code",
   "execution_count": 2,
   "id": "8646f934-4d6e-4604-ab25-17fd42991921",
   "metadata": {},
   "outputs": [
    {
     "name": "stdout",
     "output_type": "stream",
     "text": [
      "Mathematical functions work on entire arrays!\n",
      "x array has 100 points\n",
      "sin(x) calculated for all points simultaneously\n",
      "\n",
      "Useful Physics Constants:\n",
      "Speed of light: 3.00e+08 m/s\n",
      "Planck constant: 6.63e-34 J⋅s\n",
      "Electron mass: 9.11e-31 kg\n",
      "Elementary charge: 1.60e-19 C\n",
      "Boltzmann constant: 1.38e-23 J/K\n",
      "\n",
      "1.6×10⁻¹⁹ J = 1.0 eV\n"
     ]
    }
   ],
   "source": [
    "import scipy.constants as const\n",
    "\n",
    "# Basic mathematical operations (note numpy supports vectorized operations)\n",
    "x = np.linspace(0, 2*np.pi, 100)\n",
    "y_sin = np.sin(x)    # Sine example using x-values\n",
    "y_cos = np.cos(x)    # Cosine example using x-values\n",
    "y_exp = np.exp(-x/2)  # Exponential decay example using x-values\n",
    "\n",
    "#print information about arrays\n",
    "print(\"Mathematical functions work on entire arrays!\")\n",
    "print(f\"x array has {len(x)} points\")\n",
    "print(f\"sin(x) calculated for all points simultaneously\")\n",
    "\n",
    "# Pull useful physics constants from scipy\n",
    "print(f\"\\nUseful Physics Constants:\")\n",
    "print(f\"Speed of light: {const.c:.2e} m/s\")\n",
    "print(f\"Planck constant: {const.h:.2e} J⋅s\")\n",
    "print(f\"Electron mass: {const.m_e:.2e} kg\")\n",
    "print(f\"Elementary charge: {const.e:.2e} C\")\n",
    "print(f\"Boltzmann constant: {const.k:.2e} J/K\")\n",
    "\n",
    "# Example Unit conversion\n",
    "energy_joules = 1.6e-19  # 1 eV in Joules\n",
    "energy_ev = energy_joules / const.eV\n",
    "print(f\"\\n1.6×10⁻¹⁹ J = {energy_ev:.1f} eV\")"
   ]
  },
  {
   "cell_type": "markdown",
   "id": "b410a735-f472-4525-a770-c664d43829c3",
   "metadata": {},
   "source": [
    "### Numerical Differentiation with scipy"
   ]
  },
  {
   "cell_type": "code",
   "execution_count": 3,
   "id": "cd16c4b1-2243-4838-8de0-3a0b39ccf94f",
   "metadata": {},
   "outputs": [
    {
     "name": "stdout",
     "output_type": "stream",
     "text": [
      "\n",
      "Numerical Differentiation at t = 2.0s:\n",
      "Position: 17.0 m\n",
      "Velocity: 14.0 m/s\n",
      "Analytical velocity: 14.0 m/s\n"
     ]
    }
   ],
   "source": [
    "from scipy.differentiate import derivative\n",
    "\n",
    "def position(t):\n",
    "    \"\"\"Position as function of time: x(t) = 3t² + 2t + 1\"\"\"\n",
    "    return 3*t**2 + 2*t + 1\n",
    "\n",
    "# Calculate velocity via derivative function\n",
    "t_point = 2.0\n",
    "velocity = derivative(position, t_point)\n",
    "\n",
    "print(f\"\\nNumerical Differentiation at t = {t_point}s:\")\n",
    "print(f\"Position: {position(t_point)} m\")\n",
    "print(f\"Velocity: {velocity.df:.1f} m/s\")\n",
    "\n",
    "# Analytical derivative for comparison\n",
    "v_analytical = 6*t_point + 2  # d/dt(3t² + 2t + 1)\n",
    "print(f\"Analytical velocity: {v_analytical:.1f} m/s\")"
   ]
  },
  {
   "cell_type": "markdown",
   "id": "3153113f-69be-46b9-a0be-88b5dfa8c9f1",
   "metadata": {},
   "source": [
    "### Numerical Integration with scipy"
   ]
  },
  {
   "cell_type": "code",
   "execution_count": 4,
   "id": "23a15626-a907-4e46-9ce4-23afb51d3d22",
   "metadata": {},
   "outputs": [
    {
     "name": "stdout",
     "output_type": "stream",
     "text": [
      "Numerical Integration:\n",
      "∫₀^π x²sin(x) dx = 5.8696 ± 6.52e-14\n",
      "Analytical result: 5.8696\n",
      "Error: 8.88e-16\n"
     ]
    }
   ],
   "source": [
    "from scipy import integrate\n",
    "\n",
    "# Function to integrate: f(x) = x² * sin(x)\n",
    "def func(x):\n",
    "    return x**2 * np.sin(x)\n",
    "\n",
    "# Numerical integration\n",
    "result, error = integrate.quad(func, 0, np.pi)\n",
    "print(f\"Numerical Integration:\")\n",
    "print(f\"∫₀^π x²sin(x) dx = {result:.4f} ± {error:.2e}\")\n",
    "\n",
    "# Compare with analytical result: π² - 4\n",
    "analytical = np.pi**2 - 4\n",
    "print(f\"Analytical result: {analytical:.4f}\")\n",
    "print(f\"Error: {abs(result - analytical):.2e}\")"
   ]
  },
  {
   "cell_type": "markdown",
   "id": "b6f98254-7193-4eae-bb0b-d49dd132a7a3",
   "metadata": {},
   "source": [
    "### Basic Linear Algebra Operations with numpy"
   ]
  },
  {
   "cell_type": "code",
   "execution_count": 5,
   "id": "9038cfa3-ec56-40cf-a38a-4a8d4182f089",
   "metadata": {},
   "outputs": [
    {
     "name": "stdout",
     "output_type": "stream",
     "text": [
      "Vector Operations:\n",
      "Vector A: [3 4 0]\n",
      "Vector B: [1 2 2]\n",
      "Magnitude of A: 5.00\n",
      "Dot product A⋅B: 11\n",
      "Cross product A×B: [ 8 -6  2]\n",
      "\n",
      "2D Rotation (45°):\n",
      "Original vector: [1 0]\n",
      "Rotated vector: [0.70710678 0.70710678]\n",
      "Rotation matrix:\n",
      "[[ 0.70710678 -0.70710678]\n",
      " [ 0.70710678  0.70710678]]\n"
     ]
    }
   ],
   "source": [
    "from numpy import dot\n",
    "from numpy.linalg import norm, cross, inv\n",
    "\n",
    "# create arrays representing vectors in 3D space\n",
    "vec_a = np.array([3, 4, 0])\n",
    "vec_b = np.array([1, 2, 2])\n",
    "\n",
    "# peform vector operations to calculate length, dot product, and cross product\n",
    "magnitude_a = norm(vec_a)\n",
    "dot_product = dot(vec_a, vec_b)\n",
    "cross_product = cross(vec_a, vec_b)\n",
    "\n",
    "#print results\n",
    "print(\"Vector Operations:\")\n",
    "print(f\"Vector A: {vec_a}\")\n",
    "print(f\"Vector B: {vec_b}\")\n",
    "print(f\"Magnitude of A: {magnitude_a:.2f}\")\n",
    "print(f\"Dot product A⋅B: {dot_product}\")\n",
    "print(f\"Cross product A×B: {cross_product}\")\n",
    "\n",
    "# create arrays representing matricies (in this case a simple rotation maxtrix)\n",
    "rotation_matrix = np.array([[np.cos(np.pi/4), -np.sin(np.pi/4)],\n",
    "                           [np.sin(np.pi/4),  np.cos(np.pi/4)]])\n",
    "\n",
    "#create simple 2D vector and peform rotation\n",
    "vector_2d = np.array([1, 0])\n",
    "rotated_vector = rotation_matrix @ vector_2d  # Matrix multiplication\n",
    "\n",
    "#print information\n",
    "print(f\"\\n2D Rotation (45°):\")\n",
    "print(f\"Original vector: {vector_2d}\")\n",
    "print(f\"Rotated vector: {rotated_vector}\")\n",
    "print(f\"Rotation matrix:\\n{rotation_matrix}\")"
   ]
  },
  {
   "cell_type": "markdown",
   "id": "355b2ee8-1dc5-442c-9e42-83933f58a716",
   "metadata": {},
   "source": [
    "## A Few Example Physics Problems"
   ]
  },
  {
   "attachments": {},
   "cell_type": "markdown",
   "id": "4c29258f-5e49-4bbc-a5aa-01f4b9d92c1a",
   "metadata": {},
   "source": [
    "### Projectile Motion Example using functions"
   ]
  },
  {
   "cell_type": "code",
   "execution_count": 6,
   "id": "dd162076-7077-42c0-b1bf-f4e3bfdfe449",
   "metadata": {},
   "outputs": [
    {
     "name": "stdout",
     "output_type": "stream",
     "text": [
      "Projectile Motion Results:\n",
      "Initial velocity: 400 m/s at 30°\n",
      "Maximum height: 2040.82 m\n",
      "Maximum range: 14139.19 m\n",
      "Flight time: 40.82 s\n",
      "Final position: x=14139.19 m, y=0.000 m\n"
     ]
    }
   ],
   "source": [
    "#define a function so that we can easily repeat this calculation\n",
    "def projectile_motion(v0, angle_deg, g=9.8):\n",
    "    \"\"\"\n",
    "    Calculate projectile trajectory\n",
    "    v0: initial velocity (m/s)\n",
    "    angle_deg: launch angle (degrees)\n",
    "    g: gravitational acceleration (m/s²)\n",
    "    \"\"\"\n",
    "    angle_rad = np.radians(angle_deg)\n",
    "    \n",
    "    # Time of flight - you should recognize this equation from physics 1 :-)\n",
    "    t_flight = 2 * v0 * np.sin(angle_rad) / g\n",
    "    \n",
    "    # Time array from zero to end of flight\n",
    "    t = np.linspace(0, t_flight, 100)\n",
    "    \n",
    "    # Position equations - more physics 1\n",
    "    x = v0 * np.cos(angle_rad) * t\n",
    "    y = v0 * np.sin(angle_rad) * t - 0.5 * g * t**2\n",
    "    \n",
    "    # Maximum height and range - and more...\n",
    "    max_height = (v0 * np.sin(angle_rad))**2 / (2 * g)\n",
    "    max_range = v0**2 * np.sin(2 * angle_rad) / g\n",
    "    \n",
    "    return t, x, y, max_height, max_range\n",
    "\n",
    "# Example: cannon shot\n",
    "v0 = 400 # m/s\n",
    "angle = 30  # degrees\n",
    "\n",
    "t, x, y, h_max, r_max = projectile_motion(v0, angle)\n",
    "\n",
    "print(\"Projectile Motion Results:\")\n",
    "print(f\"Initial velocity: {v0} m/s at {angle}°\")\n",
    "print(f\"Maximum height: {h_max:.2f} m\")\n",
    "print(f\"Maximum range: {r_max:.2f} m\")\n",
    "print(f\"Flight time: {t[-1]:.2f} s\")\n",
    "print(f\"Final position: x={x[-1]:.2f} m, y={y[-1]:.3f} m\")"
   ]
  },
  {
   "cell_type": "markdown",
   "id": "efcb4666-ee02-4daf-a04c-b570be03c749",
   "metadata": {},
   "source": [
    "### Harmonic Oscillator Example using odeint from scipy"
   ]
  },
  {
   "cell_type": "code",
   "execution_count": 7,
   "id": "4e4e3215-7934-43a2-90e1-376dd884fc6c",
   "metadata": {},
   "outputs": [
    {
     "name": "stdout",
     "output_type": "stream",
     "text": [
      "Harmonic Oscillator Solution:\n",
      "Angular frequency: ω = 2.0 rad/s\n",
      "Period: T = 3.14 s\n",
      "Initial conditions: x₀ = 1.0 m, v₀ = 0.0 m/s\n",
      "\n",
      "Energy Conservation Check:\n",
      "Total energy range: 2.000000 to 2.000000\n",
      "Energy variation: 1.15e-07 (should be ~0)\n"
     ]
    }
   ],
   "source": [
    "from scipy.integrate import odeint\n",
    "\n",
    "#define function\n",
    "def harmonic_oscillator(state, t, omega):\n",
    "    \"\"\"\n",
    "    Simple harmonic oscillator: d²x/dt² = -ω²x\n",
    "    Converted to system of first-order ODEs: with dx/dt = v and dv/dt = -ω²x\n",
    "    state = [position, velocity]\n",
    "    Returns [dx/dt, dv/dt]\n",
    "    \"\"\"\n",
    "    x, v = state\n",
    "    dxdt = v\n",
    "    dvdt = -omega**2 * x\n",
    "    return [dxdt, dvdt]\n",
    "\n",
    "# Parameters\n",
    "omega = 2.0  # Angular frequency (rad/s)\n",
    "x0 = 1.0     # Initial position (m)\n",
    "v0 = 0.0     # Initial velocity (m/s)\n",
    "\n",
    "# Time array\n",
    "t = np.linspace(0, 2*np.pi/omega, 100)  # One complete period\n",
    "\n",
    "# Solve the ODE with specified initial values\n",
    "initial_state = [x0, v0]\n",
    "solution = odeint(harmonic_oscillator, initial_state, t, args=(omega,))\n",
    "\n",
    "x_numerical = solution[:, 0]  # Position\n",
    "v_numerical = solution[:, 1]  # Velocity\n",
    "\n",
    "print(\"Harmonic Oscillator Solution:\")\n",
    "print(f\"Angular frequency: ω = {omega} rad/s\")\n",
    "print(f\"Period: T = {2*np.pi/omega:.2f} s\")\n",
    "print(f\"Initial conditions: x₀ = {x0} m, v₀ = {v0} m/s\")\n",
    "\n",
    "# Check energy conservation\n",
    "E_kinetic = 0.5 * v_numerical**2\n",
    "E_potential = 0.5 * omega**2 * x_numerical**2\n",
    "E_total = E_kinetic + E_potential\n",
    "\n",
    "print(f\"\\nEnergy Conservation Check:\")\n",
    "print(f\"Total energy range: {np.min(E_total):.6f} to {np.max(E_total):.6f}\")\n",
    "print(f\"Energy variation: {np.std(E_total):.2e} (should be ~0)\")"
   ]
  },
  {
   "cell_type": "code",
   "execution_count": null,
   "id": "c9e5dcdf-42b3-440a-9209-4a1f6a82f023",
   "metadata": {},
   "outputs": [],
   "source": []
  }
 ],
 "metadata": {
  "kernelspec": {
   "display_name": "Python 3 (ipykernel)",
   "language": "python",
   "name": "python3"
  },
  "language_info": {
   "codemirror_mode": {
    "name": "ipython",
    "version": 3
   },
   "file_extension": ".py",
   "mimetype": "text/x-python",
   "name": "python",
   "nbconvert_exporter": "python",
   "pygments_lexer": "ipython3",
   "version": "3.12.11"
  }
 },
 "nbformat": 4,
 "nbformat_minor": 5
}
