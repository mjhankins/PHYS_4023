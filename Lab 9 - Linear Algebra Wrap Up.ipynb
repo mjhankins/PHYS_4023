{
 "cells": [
  {
   "cell_type": "markdown",
   "id": "39422b62",
   "metadata": {},
   "source": [
    "# Lab 9: Linear Algebra Wrap Up"
   ]
  },
  {
   "cell_type": "markdown",
   "id": "a6261d10",
   "metadata": {},
   "source": [
    "In this notebook, we'll look at a few remaining topics from our discussion of Linear Algebra including matrix diagonalization, Singular Value Decomposition (SVD), and Rank Reduction using SVD. "
   ]
  },
  {
   "cell_type": "code",
   "execution_count": null,
   "id": "ff979882",
   "metadata": {},
   "outputs": [],
   "source": [
    "#import a few packages we'll need to get started\n",
    "import numpy as np\n",
    "import matplotlib.pyplot as plt"
   ]
  },
  {
   "cell_type": "markdown",
   "id": "842e1f9b",
   "metadata": {},
   "source": [
    "### Activity 1: Matrix Diagonalization"
   ]
  },
  {
   "cell_type": "markdown",
   "id": "f530fc8b",
   "metadata": {},
   "source": [
    "Recall from class that matrix diagonalization is accomplished using the relation:\n",
    "\n",
    "$$\n",
    "A = P D P^{-1}\n",
    "$$\n",
    "\n",
    "where D is a diagonal matrix containing the eigenvalues of A along its diagonal and P is the matrix whose columns are the eigenvectors of A. Note for this process to work, the matrix P must be invertable, and this only is allowed for square matricies. \n",
    "\n",
    "In order to diagonalize a matrix, we must:\n",
    "* Compute eigenvalues and eigenvectors of A\n",
    "* Form diagonal matrix D from eigenvalues\n",
    "* Form the matrix P from the eigenvectors\n",
    "* Calculate P inverse\n",
    "* Finally check that the relation $A = PDP^{-1}$ is satisfied"
   ]
  },
  {
   "cell_type": "markdown",
   "id": "aea7b8ba",
   "metadata": {},
   "source": [
    "With the above instructions in mind, take a moment to review the code below. It goes through the process of constructing the matrix D and P for a given matrix A"
   ]
  },
  {
   "cell_type": "code",
   "execution_count": null,
   "id": "994cfed0",
   "metadata": {},
   "outputs": [],
   "source": [
    "def m_diag(A):\n",
    "    n = A.shape[0]\n",
    "    \n",
    "    # Compute eigenvalues and eigenvectors\n",
    "    eigenvalues, eigenvectors = np.linalg.eig(A)\n",
    "    \n",
    "    # Form the diagonal matrix D with eigenvalues on the diagonal\n",
    "    D = np.zeros((n, n))\n",
    "    for i in range(n):\n",
    "        D[i, i] = eigenvalues[i]\n",
    "    \n",
    "    # The matrix P has eigenvectors as its columns\n",
    "    P = eigenvectors.copy()\n",
    "    \n",
    "    # Compute det(P), if small the matrix may not be invertable\n",
    "    if np.abs(np.linalg.det(P))<1E-3:\n",
    "        print(\"Warning: Matrix P is ill conditioned. Matrix A may not be diagonalizable.\")\n",
    "        P_inverse = None\n",
    "    \n",
    "    return D, P"
   ]
  },
  {
   "cell_type": "markdown",
   "id": "acc2c48b",
   "metadata": {},
   "source": [
    "Define an example matrix A, then use our m_diag() function on it. Print the results. "
   ]
  },
  {
   "cell_type": "code",
   "execution_count": null,
   "id": "7354c9c2",
   "metadata": {},
   "outputs": [],
   "source": [
    "# Example Matrix A\n",
    "A = np.array([[4, 2, 3],\n",
    "              [1, 5, 2],\n",
    "              [2, 2, 7]])\n",
    "\n",
    "\n",
    "# get D and P from m_diag()\n",
    "D, P = m_diag(np.float32(A)) #go ahead and say the matrix entries are float to avoid errors\n",
    "\n",
    "#print results\n",
    "print(\"\\nDiagonal matrix D:\")\n",
    "print(D)\n",
    "\n",
    "print(\"\\nEigenvector matrix P:\")\n",
    "print(P)"
   ]
  },
  {
   "cell_type": "markdown",
   "id": "453a1833",
   "metadata": {},
   "source": [
    "Find and print P-inverse"
   ]
  },
  {
   "cell_type": "code",
   "execution_count": null,
   "id": "b1dcc718",
   "metadata": {},
   "outputs": [],
   "source": [
    "# Calculate inverse\n",
    "P_inv = np.linalg.inv(P)\n",
    "\n",
    "# print result\n",
    "print(\"P^-1:\")\n",
    "print(P_inv)"
   ]
  },
  {
   "cell_type": "markdown",
   "id": "f726a532",
   "metadata": {},
   "source": [
    "Perform reconstruction of A using relation $\\mathsf{PDP^{-1}$ = A}$"
   ]
  },
  {
   "cell_type": "code",
   "execution_count": null,
   "id": "d503c40c",
   "metadata": {},
   "outputs": [],
   "source": [
    "print(\"Original matrix A:\")\n",
    "print(A)\n",
    "\n",
    "\n",
    "#Calculate reconstruction - if you haven't seen this before @ is also multiplicaion symbol for matricies\n",
    "A_reconstructed = P @ D @ P_inv\n",
    "\n",
    "print(\"\\nReconstruction A = P * D * P^(-1):\")\n",
    "print(A_reconstructed)\n"
   ]
  },
  {
   "cell_type": "markdown",
   "id": "13458214",
   "metadata": {},
   "source": [
    "This result is close enough considering that we are likely to have some roundoff error, and applying modest rounding rules would return the original matrix."
   ]
  },
  {
   "cell_type": "markdown",
   "id": "3ac760bc",
   "metadata": {},
   "source": [
    "Next, let's take a closer look at this process by constructing a matrix with properties that are our own design"
   ]
  },
  {
   "cell_type": "code",
   "execution_count": null,
   "id": "01ac5954",
   "metadata": {},
   "outputs": [],
   "source": [
    "# Define eigenvalues to use\n",
    "lambda1, lambda2, lambda3 = ..., ..., ...\n",
    "\n",
    "\n",
    "# Define eigenvectors to use\n",
    "v1 = np.array([ ... , ... , ...])\n",
    "v2= np.array([ ... , ... , ...])\n",
    "v3 = np.array([... , ... , ...])\n"
   ]
  },
  {
   "cell_type": "markdown",
   "id": "2d73a2a5",
   "metadata": {},
   "source": [
    "Construct the matrix D from eigenvalues"
   ]
  },
  {
   "cell_type": "code",
   "execution_count": null,
   "id": "1aa63710",
   "metadata": {},
   "outputs": [],
   "source": [
    "D = np.diag([lambda1,lambda2,lambda3])\n",
    "\n",
    "print(\"\\nEigenvector matrix D:\")\n",
    "print(D)"
   ]
  },
  {
   "cell_type": "markdown",
   "id": "b688820e",
   "metadata": {},
   "source": [
    "Construct the matrix P from the eigenvectors"
   ]
  },
  {
   "cell_type": "code",
   "execution_count": null,
   "id": "0c5921a4",
   "metadata": {},
   "outputs": [],
   "source": [
    "#construct the matrix P\n",
    "P=np.column_stack((v1, v2, v3))\n",
    "\n",
    "print(\"\\nEigenvector matrix P:\")\n",
    "print(P)"
   ]
  },
  {
   "cell_type": "markdown",
   "id": "fdf6901e",
   "metadata": {},
   "source": [
    "For this process to work, P must be invertable. Try calculating the inverse. If this fails, then you might have to go back and adjust values in your eigenvectors."
   ]
  },
  {
   "cell_type": "code",
   "execution_count": null,
   "id": "1ef1869a",
   "metadata": {},
   "outputs": [],
   "source": [
    "# Calculate inverse\n",
    "P_inv = np.linalg.inv(P)\n",
    "\n",
    "# print result\n",
    "print(\"P^-1:\")\n",
    "print(P_inv)"
   ]
  },
  {
   "cell_type": "markdown",
   "id": "cf1753eb",
   "metadata": {},
   "source": [
    "Find the resulting matrix A"
   ]
  },
  {
   "cell_type": "code",
   "execution_count": null,
   "id": "0586c27e",
   "metadata": {},
   "outputs": [],
   "source": [
    "#Calculate resulting matrix A\n",
    "A_new = P @ D @ P_inv\n",
    "\n",
    "print(\"\\n Newly Constructed A:\")\n",
    "print(A_new)"
   ]
  },
  {
   "cell_type": "markdown",
   "id": "2d526510",
   "metadata": {},
   "source": [
    "Now verify that we get our original eigenvalues "
   ]
  },
  {
   "cell_type": "code",
   "execution_count": null,
   "id": "7998c51c",
   "metadata": {},
   "outputs": [],
   "source": [
    "#get eigenvalues and eigenvectors\n",
    "eigenvalues, eigenvectors = np.linalg.eig(A_new)\n",
    "\n",
    "print(\"Resulting Eigenvalues: \")\n",
    "print(eigenvalues)"
   ]
  },
  {
   "cell_type": "markdown",
   "id": "636fb6a7",
   "metadata": {},
   "source": [
    "And now the resulting eigenvectors"
   ]
  },
  {
   "cell_type": "code",
   "execution_count": null,
   "id": "c3868149",
   "metadata": {},
   "outputs": [],
   "source": [
    "v1_result = eigenvectors[:,0] \n",
    "v2_result = eigenvectors[:,1]  \n",
    "v3_result = eigenvectors[:,2]  \n",
    "\n",
    "print(\"\\nResulting Eigenvectors: \")\n",
    "print(\"v1:\", v1_result)\n",
    "print(\"v2:\", v2_result)\n",
    "print(\"v3:\", v3_result)"
   ]
  },
  {
   "cell_type": "markdown",
   "id": "052227a9",
   "metadata": {},
   "source": [
    "(optional) If you are not convinced v1, v2, v3 returned as exected, take a moment to work out the nomalization to verify the result"
   ]
  },
  {
   "cell_type": "code",
   "execution_count": null,
   "id": "a15e1c3e",
   "metadata": {},
   "outputs": [],
   "source": [
    "#get normalization\n",
    "vectornorm = np.linalg.norm(v2)\n",
    "\n",
    "# re-scale the vector\n",
    "scaled_vector = vectornorm*v1_result #note: you might have to switch which vector is referenced because they may not come back in the same order!\n",
    "\n",
    "#print result\n",
    "print(scaled_vector)"
   ]
  },
  {
   "cell_type": "markdown",
   "id": "46889627",
   "metadata": {},
   "source": [
    "### Activity 2: Singular Value Decomposition"
   ]
  },
  {
   "cell_type": "markdown",
   "id": "0163fe23",
   "metadata": {},
   "source": [
    "Recall from class that Singular Value Decomposition (SVD) is another type of matrix factorization technique that expresses a matrix as te producet of 3 matricies in the form:\n",
    "$$\n",
    "A = U \\Sigma V^T\n",
    "$$\n",
    "\n",
    "Notably this is different from the last procedure because we are not using eigenvalues and eigenvectors of A, and also this techinque works on non-square matricies!"
   ]
  },
  {
   "cell_type": "markdown",
   "id": "0cfefbe2",
   "metadata": {},
   "source": [
    "We'll reuse our earlier matrix A to start this activity."
   ]
  },
  {
   "cell_type": "code",
   "execution_count": null,
   "id": "05f1f1ed",
   "metadata": {},
   "outputs": [],
   "source": [
    "print(\"Matrix A:\")\n",
    "print(A)"
   ]
  },
  {
   "cell_type": "markdown",
   "id": "f098e5dc",
   "metadata": {},
   "source": [
    "Perform SVD and print the results"
   ]
  },
  {
   "cell_type": "code",
   "execution_count": null,
   "id": "14a4a0c6",
   "metadata": {},
   "outputs": [],
   "source": [
    "# get SVD\n",
    "U, sigma, VT = np.linalg.svd(A)\n",
    "\n",
    "# note sigma are just the singular values, so we have to 'rebuild' it to the Sigma Matrix\n",
    "Sigma = np.zeros(A.shape)\n",
    "Sigma[:len(sigma), :len(sigma)] = np.diag(sigma)\n",
    "\n",
    "print(f\" Matrix U:\")\n",
    "print(U)\n",
    "print(f\"\\nMatrix Sigma:\")\n",
    "print(Sigma)\n",
    "print(f\"\\nMatrix V^T:\")\n",
    "print(VT)\n"
   ]
  },
  {
   "cell_type": "markdown",
   "id": "b95bccc3",
   "metadata": {},
   "source": [
    "Verify that we can use these results to reconstruct A"
   ]
  },
  {
   "cell_type": "code",
   "execution_count": null,
   "id": "c8f26ea8",
   "metadata": {},
   "outputs": [],
   "source": [
    "#Calculate reconstruction\n",
    "A_reconstructed = U @ Sigma @ VT\n",
    "\n",
    "print(\"\\nReconstruction A = U * \\Sigma * V^T:\")\n",
    "print(A_reconstructed)"
   ]
  },
  {
   "cell_type": "markdown",
   "id": "6ab95c4c",
   "metadata": {},
   "source": [
    "### Activity 3: SVD and Reducing Rank"
   ]
  },
  {
   "cell_type": "markdown",
   "id": "f1471a17",
   "metadata": {},
   "source": [
    "In this activity, we will take a look at how SVD allows for dimensionality reduction as discussed in class. Specifically we will look at application to file compression "
   ]
  },
  {
   "cell_type": "code",
   "execution_count": null,
   "id": "b394e3bd",
   "metadata": {},
   "outputs": [],
   "source": [
    "# import libraries needed\n",
    "from skimage import data, color"
   ]
  },
  {
   "cell_type": "markdown",
   "id": "76430ea1",
   "metadata": {},
   "source": [
    "We need to load in data for this activity. We will use an image of astronaut Eileen Collins that is included in the skimage package. Create a plot of the image to see what we are working with"
   ]
  },
  {
   "cell_type": "code",
   "execution_count": null,
   "id": "58c14379",
   "metadata": {},
   "outputs": [],
   "source": [
    "# Load a sample grayscale image\n",
    "image = color.rgb2gray(data.astronaut())\n",
    "\n",
    "# Print the shape of data\n",
    "print('Shape of image data:')\n",
    "print(np.shape(image))\n",
    "\n",
    "# take a quick look at the image\n",
    "plt.figure()\n",
    "plt.imshow(image,cmap='gray')\n",
    "plt.show()\n"
   ]
  },
  {
   "cell_type": "markdown",
   "id": "70ea00a9",
   "metadata": {},
   "source": [
    "While this is an image, remember that it is representable as a matrix. Run the cell below to print the first 10x10 entries, but remember the 'full' image is represented by a 512x512 matrix."
   ]
  },
  {
   "cell_type": "code",
   "execution_count": null,
   "id": "0adace98",
   "metadata": {},
   "outputs": [],
   "source": [
    "#set how much of image matrix to show\n",
    "n = 10\n",
    "\n",
    "# print slice of image\n",
    "print('Slice of small part of image matrix: ')\n",
    "print(image[:n,:n])\n",
    "\n"
   ]
  },
  {
   "cell_type": "markdown",
   "id": "463da06e",
   "metadata": {},
   "source": [
    "Peform SVD on the image"
   ]
  },
  {
   "cell_type": "code",
   "execution_count": null,
   "id": "0ae80fca",
   "metadata": {},
   "outputs": [],
   "source": [
    "# Perform SVD\n",
    "U, S, VT = np.linalg.svd(image)"
   ]
  },
  {
   "cell_type": "markdown",
   "id": "8d036019",
   "metadata": {},
   "source": [
    "Let's now look at reducing the deminsionality of data kept for reconstructing the image. Use the parameter K below to only keep the top 51 singular values (essentially 10%) of the original matrix data. "
   ]
  },
  {
   "cell_type": "code",
   "execution_count": null,
   "id": "4a82e2b2",
   "metadata": {},
   "outputs": [],
   "source": [
    "# Keep only the top 'k' singular values\n",
    "k = ...\n",
    "\n",
    "# use the specified k above to slice the SVD matricies appropriately\n",
    "Sigma_k = np.diag(S[:k])\n",
    "U_k = U[:, :k]\n",
    "VT_k = VT[:k, :]"
   ]
  },
  {
   "cell_type": "markdown",
   "id": "633ad42f",
   "metadata": {},
   "source": [
    "Perform the image reconstruction"
   ]
  },
  {
   "cell_type": "code",
   "execution_count": null,
   "id": "847d9612",
   "metadata": {},
   "outputs": [],
   "source": [
    "# Reconstruct the image using only the top k components\n",
    "compressed_image = U_k @ Sigma_k @ VT_k"
   ]
  },
  {
   "cell_type": "markdown",
   "id": "03b8717e",
   "metadata": {},
   "source": [
    "Plot the reconstructed image side by side with the original. How well has this process worked, even with keeping an small amount of the original data?"
   ]
  },
  {
   "cell_type": "code",
   "execution_count": null,
   "id": "ad895b0f",
   "metadata": {},
   "outputs": [],
   "source": [
    "plt.figure(figsize=(10, 5))\n",
    "\n",
    "plt.subplot(1, 2, 1)\n",
    "plt.imshow(image, cmap='gray')\n",
    "plt.title('Original Image')\n",
    "plt.axis('off')\n",
    "\n",
    "plt.subplot(1, 2, 2)\n",
    "plt.imshow(compressed_image, cmap='gray')\n",
    "plt.title(f'Compressed Image (k={k})')\n",
    "plt.axis('off')\n",
    "\n",
    "plt.tight_layout()\n",
    "plt.show()\n",
    "\n",
    "print(f\"This uses only {k/len(S)*100:.2f}% of the singular values of the original image matrix!\")"
   ]
  },
  {
   "cell_type": "markdown",
   "id": "68280db6",
   "metadata": {},
   "source": [
    "Try this out again using different amounts of data retained in the reconstruction by adjusting the value of 'k'. Try to answer the following questions\n",
    " - What is the minimum value needed to at least retain some of the original image that is recognisable? \n",
    " - Can you 'by eye' tell any difference when 80, 85, 90, 95, ...% of the data is kept? "
   ]
  },
  {
   "cell_type": "code",
   "execution_count": null,
   "id": "d3ac6fba",
   "metadata": {},
   "outputs": [],
   "source": []
  }
 ],
 "metadata": {
  "kernelspec": {
   "display_name": "Python 3 (ipykernel)",
   "language": "python",
   "name": "python3"
  },
  "language_info": {
   "codemirror_mode": {
    "name": "ipython",
    "version": 3
   },
   "file_extension": ".py",
   "mimetype": "text/x-python",
   "name": "python",
   "nbconvert_exporter": "python",
   "pygments_lexer": "ipython3",
   "version": "3.9.7"
  }
 },
 "nbformat": 4,
 "nbformat_minor": 5
}
