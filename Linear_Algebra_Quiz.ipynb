{
 "cells": [
  {
   "cell_type": "markdown",
   "id": "9068a90d-a1e2-467b-ae18-c579c72aae23",
   "metadata": {},
   "source": [
    "# Linear Algebra Quiz"
   ]
  },
  {
   "cell_type": "markdown",
   "id": "886a5520-2c8c-4a84-a3ef-e10da18604ea",
   "metadata": {},
   "source": [
    "*Instructions* - Download and/or copy this notebook to your code repository. Complete the blank items in code ceels to get the desired value(s). Save and upload (or push) to github when finished. "
   ]
  },
  {
   "cell_type": "code",
   "execution_count": null,
   "id": "9217faff-4d69-4bd4-82bc-1c78e6cb374f",
   "metadata": {},
   "outputs": [],
   "source": [
    "#import required packages\n",
    "import numpy as np"
   ]
  },
  {
   "cell_type": "markdown",
   "id": "95f8e997-dc3a-4445-91de-e4b04cae00f5",
   "metadata": {},
   "source": [
    "## Part 1: Solutions to Systems of Equations"
   ]
  },
  {
   "cell_type": "markdown",
   "id": "a4c72ab7-9777-480e-96d8-e62e956c9394",
   "metadata": {},
   "source": [
    "Consider solving a linar system of equations represented by the matrix $\\mathsf{M}$ and vector $\\vec{b}$:"
   ]
  },
  {
   "cell_type": "code",
   "execution_count": null,
   "id": "b3e7f938-041c-404d-9c97-85df04bb1e45",
   "metadata": {},
   "outputs": [],
   "source": [
    "M = np.array([[1.0,  -4.0, -0.5, -2.5,  2.0],\n",
    "              [-4.0,  3.0, -5.5, -5.5, -3.5],\n",
    "              [-0.5, -5.5,  7.0, -2.0,  3.5],\n",
    "              [-2.5, -5.5, -2.0, -2.0, -4.0],\n",
    "              [ 2.0, -3.5, -3.5, -4.0,  1.0]])\n",
    "\n",
    "b = np.array([1, -1, 2, -1, 0])"
   ]
  },
  {
   "cell_type": "markdown",
   "id": "3284f5f8-ce43-4b96-8166-5ce0071652da",
   "metadata": {},
   "source": [
    "Use the code below to see the representation of $\\mathsf{M}$ and $\\vec{b}$ as a system of equations"
   ]
  },
  {
   "cell_type": "code",
   "execution_count": null,
   "id": "c2c84cbc-9d6a-4e33-bb5c-fea4a3738d84",
   "metadata": {},
   "outputs": [],
   "source": [
    "for i in range(M.shape[0]):\n",
    "    terms = []\n",
    "    for j in range(M.shape[1]):\n",
    "        terms.append(\"{1} x[{0}]\".format(j, M[i, j]))\n",
    "    print(\" + \".join(terms), \"=\", b[i])"
   ]
  },
  {
   "cell_type": "markdown",
   "id": "ffcb87a6-238e-40f6-ac73-49b045243bf3",
   "metadata": {},
   "source": [
    "We want to determine the solution vector $\\vec{x}$ for the system, but let's try a different method than a direct call to `np.linalg.solve()`. Remember in class our discussion of QR factorisation. Start by $\\mathsf{Q}$ and $\\mathsf{R}$ from $\\mathsf{M}$:"
   ]
  },
  {
   "cell_type": "code",
   "execution_count": null,
   "id": "437d384f-acad-4a12-931f-9c1ee41c1660",
   "metadata": {},
   "outputs": [],
   "source": [
    "Q, R = ... # 1. Fill in the blank to complete the expression \n",
    "\n",
    "print(\"Matrix Q:\")\n",
    "print(Q)\n",
    "print(\"\\nMatrix R:\")\n",
    "print(R)"
   ]
  },
  {
   "cell_type": "markdown",
   "id": "46ff87b3-f963-42b8-ae53-821846274900",
   "metadata": {},
   "source": [
    "An alternative way of solving the system of equations takes advantage of the QR form of M to rewrite the original expression as:\n",
    "$$\n",
    "\\mathsf{R}\\vec{x} = \\mathsf{Q^T}\\vec{b}\n",
    "$$\n",
    "where we have used the fact that $\\mathsf{Q^T = Q^{-1}}$ given that Q is an orthogonal matrix. Run the cell below to verify this property of the matrix $\\mathsf{Q}$:"
   ]
  },
  {
   "cell_type": "code",
   "execution_count": null,
   "id": "d1ac7a02-a7e7-4617-879c-959400afa664",
   "metadata": {},
   "outputs": [],
   "source": [
    "print(\"Result of Q^T * Q: \")\n",
    "print(Q.T @ Q)"
   ]
  },
  {
   "cell_type": "markdown",
   "id": "d0e9b41e-318f-4b0a-b227-1d249677eb74",
   "metadata": {},
   "source": [
    "When using QR factorisation to solve a system of equations, it is typical to recast the RHS equation to:\n",
    "$$\n",
    "\\vec{y} = \\mathsf{Q^T}\\vec{b}\n",
    "$$\n",
    "\n",
    "Following this the equation of intrest becomes:\n",
    "$$\n",
    "\\mathsf{R}\\vec{x} = \\vec{y}\n",
    "$$\n",
    "Complete the code block below to find the solution of the system of equations"
   ]
  },
  {
   "cell_type": "code",
   "execution_count": null,
   "id": "703aa797-51e3-4d12-aea0-135039da1d9f",
   "metadata": {},
   "outputs": [],
   "source": [
    "y = ....   # 2. Fill in the blank to complete the expression \n",
    "\n",
    "x = ... # 3. Fill in the blank to complete the expression \n",
    "\n",
    "print(\"The solution to the provided system of equations is: \", x)"
   ]
  },
  {
   "cell_type": "markdown",
   "id": "f4095b88-b828-43c7-8791-fd12da4509f8",
   "metadata": {},
   "source": [
    "Take a moment to verify that we get the same result using 'np.linalg.solve()' directly on $\\mathsf{M}$:"
   ]
  },
  {
   "cell_type": "code",
   "execution_count": null,
   "id": "3d7e7ed2-9ae7-444b-b759-e15becb47336",
   "metadata": {},
   "outputs": [],
   "source": [
    "x_M = np.linalg.solve(M, b) \n",
    "\n",
    "print(\"The solution to the provided system of equations is: \", x_M)"
   ]
  },
  {
   "cell_type": "markdown",
   "id": "d8f6cece-50d3-462d-b3fb-5958af906588",
   "metadata": {},
   "source": [
    "## 2. Matrix Diagonalization"
   ]
  },
  {
   "cell_type": "markdown",
   "id": "4cd2d9a9-8d8f-43c6-9efe-fc006300b8f4",
   "metadata": {},
   "source": [
    "Consider the example matrix $\\mathsf{A}$ provided below:"
   ]
  },
  {
   "cell_type": "code",
   "execution_count": null,
   "id": "aae4e454-553e-4cc8-bf64-3048b1297c31",
   "metadata": {},
   "outputs": [],
   "source": [
    "A = np.array([[16, 10, 7],\n",
    "              [10, -8, 0],\n",
    "              [7, 0, 6]])"
   ]
  },
  {
   "cell_type": "markdown",
   "id": "2872d43c-2d9d-4158-9b5e-4b75c5907666",
   "metadata": {},
   "source": [
    "Find the eigenvalues and eigenvectors of $\\mathsf{A}$:"
   ]
  },
  {
   "cell_type": "code",
   "execution_count": null,
   "id": "6ec69bc7-e4f0-497c-b8be-5f0de059745c",
   "metadata": {},
   "outputs": [],
   "source": [
    "eigvalues, eigvectors = ... # 4. Fill in the blank to complete the expression \n",
    "\n",
    "print(f\"\\nEigenvalues: {eigvalues}\")\n",
    "print(f\"Eigenvectors:\\n{eigvectors}\")"
   ]
  },
  {
   "cell_type": "markdown",
   "id": "f2a5d7e6-bd21-4156-8874-19aca6449037",
   "metadata": {},
   "source": [
    "Using the results of the above cell, we will perform dianolaliztaion on the original matrix $\n",
    "\\mathsf{A}$. Start by constructing the matricies $\\mathsf{D}$ and $\\mathsf{P}$"
   ]
  },
  {
   "cell_type": "code",
   "execution_count": null,
   "id": "8e979a39-f0c8-46b2-a89e-beb51fae659a",
   "metadata": {},
   "outputs": [],
   "source": [
    "D = ...  # 4. Fill in the blank to complete the expression \n",
    "\n",
    "P = eigvectors\n",
    "\n",
    "print(\"Matrix D:\")\n",
    "print(D)\n",
    "\n",
    "print(\"\\nMatrix P:\")\n",
    "print(P)"
   ]
  },
  {
   "cell_type": "markdown",
   "id": "5ca091de-3243-41a4-acee-dca56f026e93",
   "metadata": {},
   "source": [
    "Now find the inverse of P:"
   ]
  },
  {
   "cell_type": "code",
   "execution_count": null,
   "id": "edf43a3e-4a83-4b58-91df-bbe4b88a9206",
   "metadata": {},
   "outputs": [],
   "source": [
    "P_inverse = ... # 5. Fill in the blank to complete the expression \n",
    "\n",
    "print(\"Matrix P-inverse:\")\n",
    "print(P_inverse)"
   ]
  },
  {
   "cell_type": "markdown",
   "id": "2d9dd4c5-57d0-4b44-a720-bb67d75857c2",
   "metadata": {},
   "source": [
    "Now verify the expression:\n",
    "$$\n",
    "\\mathsf{A = P  D  P^{-1}}\n",
    "$$"
   ]
  },
  {
   "cell_type": "code",
   "execution_count": null,
   "id": "8d099a76-f043-41e2-8c16-c7b7e610eb7e",
   "metadata": {},
   "outputs": [],
   "source": [
    "print(\"Original Matrix A:\")\n",
    "print(A)\n",
    "\n",
    "print(\"\\nResult of PDP^-1:\")\n",
    "print((P@D@P_inverse))"
   ]
  },
  {
   "cell_type": "markdown",
   "id": "4b17b4fe-554e-4419-ac27-25bc62f06025",
   "metadata": {},
   "source": [
    "Remember that values may not match exactly becuase of issues with machine precision, but they should be close to the original result if things are done correctly!"
   ]
  },
  {
   "cell_type": "code",
   "execution_count": null,
   "id": "9865a4c6-53e4-4c43-b28d-47d8e17b9123",
   "metadata": {},
   "outputs": [],
   "source": []
  }
 ],
 "metadata": {
  "kernelspec": {
   "display_name": "Python 3 (ipykernel)",
   "language": "python",
   "name": "python3"
  },
  "language_info": {
   "codemirror_mode": {
    "name": "ipython",
    "version": 3
   },
   "file_extension": ".py",
   "mimetype": "text/x-python",
   "name": "python",
   "nbconvert_exporter": "python",
   "pygments_lexer": "ipython3",
   "version": "3.12.11"
  }
 },
 "nbformat": 4,
 "nbformat_minor": 5
}
