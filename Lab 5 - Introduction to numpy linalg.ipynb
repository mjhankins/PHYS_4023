{
 "cells": [
  {
   "cell_type": "markdown",
   "metadata": {},
   "source": [
    "# Lab 5  - Introduction to numpy.linalg\n"
   ]
  },
  {
   "cell_type": "markdown",
   "metadata": {},
   "source": [
    "In this activity, we will learn how to do many common Linear Algebra tasks with `numpy.linalg` "
   ]
  },
  {
   "cell_type": "code",
   "execution_count": null,
   "metadata": {
    "execution": {
     "iopub.execute_input": "2025-09-16T14:57:27.482512Z",
     "iopub.status.busy": "2025-09-16T14:57:27.482185Z",
     "iopub.status.idle": "2025-09-16T14:57:27.486841Z",
     "shell.execute_reply": "2025-09-16T14:57:27.485890Z",
     "shell.execute_reply.started": "2025-09-16T14:57:27.482486Z"
    }
   },
   "outputs": [],
   "source": [
    "#import statement(s)\n",
    "import numpy as np"
   ]
  },
  {
   "cell_type": "markdown",
   "metadata": {},
   "source": [
    "Let's take a look at the methods (functions) inside of `numpy.linalg`. \n",
    "A handy way of doing this uses the 'dir' command. "
   ]
  },
  {
   "cell_type": "code",
   "execution_count": null,
   "metadata": {
    "execution": {
     "iopub.execute_input": "2025-09-16T14:57:28.731364Z",
     "iopub.status.busy": "2025-09-16T14:57:28.731002Z",
     "iopub.status.idle": "2025-09-16T14:57:28.736921Z",
     "shell.execute_reply": "2025-09-16T14:57:28.736136Z",
     "shell.execute_reply.started": "2025-09-16T14:57:28.731337Z"
    }
   },
   "outputs": [],
   "source": [
    "print(dir(np.linalg))"
   ]
  },
  {
   "cell_type": "markdown",
   "metadata": {},
   "source": [
    "We can ignore the entries starting and ending with underscore. The remaining options are methods that we can use contained inside the class. We will look at a few examples below"
   ]
  },
  {
   "cell_type": "markdown",
   "metadata": {},
   "source": [
    "## Example: Solving a system of coupled linear equations\n",
    "Solve the coupled system of linear equations of the general form\n",
    "$$\n",
    "\\mathsf{A} \\mathbf{x} = \\mathbf{b}.\n",
    "$$"
   ]
  },
  {
   "cell_type": "markdown",
   "metadata": {},
   "source": [
    "Our matrix A and vector b are defined below"
   ]
  },
  {
   "cell_type": "code",
   "execution_count": null,
   "metadata": {
    "execution": {
     "iopub.execute_input": "2025-09-16T15:05:24.798191Z",
     "iopub.status.busy": "2025-09-16T15:05:24.797852Z",
     "iopub.status.idle": "2025-09-16T15:05:24.802795Z",
     "shell.execute_reply": "2025-09-16T15:05:24.801831Z",
     "shell.execute_reply.started": "2025-09-16T15:05:24.798166Z"
    }
   },
   "outputs": [],
   "source": [
    "A = np.array([\n",
    "        [1, 5, 10],\n",
    "        [2, 4, 8],\n",
    "        [1, 0, 2]\n",
    "    ])\n",
    "b = np.array([9, 6, 3])"
   ]
  },
  {
   "cell_type": "code",
   "execution_count": null,
   "metadata": {
    "execution": {
     "iopub.execute_input": "2025-09-16T15:43:11.487678Z",
     "iopub.status.busy": "2025-09-16T15:43:11.487361Z",
     "iopub.status.idle": "2025-09-16T15:43:11.493070Z",
     "shell.execute_reply": "2025-09-16T15:43:11.492073Z",
     "shell.execute_reply.started": "2025-09-16T15:43:11.487655Z"
    }
   },
   "outputs": [],
   "source": [
    "print(\"Matrix A:\")\n",
    "print(A)\n",
    "\n",
    "print(\"Vector b:\")\n",
    "print(b)"
   ]
  },
  {
   "cell_type": "markdown",
   "metadata": {},
   "source": [
    "What does this look like as a system of equations?"
   ]
  },
  {
   "cell_type": "code",
   "execution_count": null,
   "metadata": {
    "execution": {
     "iopub.execute_input": "2025-09-16T15:07:01.697979Z",
     "iopub.status.busy": "2025-09-16T15:07:01.697639Z",
     "iopub.status.idle": "2025-09-16T15:07:01.703990Z",
     "shell.execute_reply": "2025-09-16T15:07:01.702903Z",
     "shell.execute_reply.started": "2025-09-16T15:07:01.697955Z"
    }
   },
   "outputs": [],
   "source": [
    "for i in range(A.shape[0]):\n",
    "    terms = []\n",
    "    for j in range(A.shape[1]):\n",
    "        terms.append(\"{1} x[{0}]\".format(j, A[i, j]))\n",
    "    print(\" + \".join(terms), \"=\", b[i])"
   ]
  },
  {
   "cell_type": "markdown",
   "metadata": {},
   "source": [
    "Now solve it with `numpy.linalg.solve`:"
   ]
  },
  {
   "cell_type": "code",
   "execution_count": null,
   "metadata": {
    "execution": {
     "iopub.execute_input": "2025-09-16T15:07:07.034808Z",
     "iopub.status.busy": "2025-09-16T15:07:07.034522Z",
     "iopub.status.idle": "2025-09-16T15:07:07.040867Z",
     "shell.execute_reply": "2025-09-16T15:07:07.039811Z",
     "shell.execute_reply.started": "2025-09-16T15:07:07.034787Z"
    }
   },
   "outputs": [],
   "source": [
    "x = np.linalg.solve(A, b)\n",
    "print(x)"
   ]
  },
  {
   "cell_type": "markdown",
   "metadata": {},
   "source": [
    "Test that it satisfies the original equation:\n",
    "$$\n",
    "\\mathsf{A} \\mathbf{x} - \\mathbf{b} = 0\n",
    "$$"
   ]
  },
  {
   "cell_type": "code",
   "execution_count": null,
   "metadata": {
    "execution": {
     "iopub.execute_input": "2025-09-16T15:07:32.417577Z",
     "iopub.status.busy": "2025-09-16T15:07:32.417304Z",
     "iopub.status.idle": "2025-09-16T15:07:32.423776Z",
     "shell.execute_reply": "2025-09-16T15:07:32.423080Z",
     "shell.execute_reply.started": "2025-09-16T15:07:32.417557Z"
    }
   },
   "outputs": [],
   "source": [
    "np.dot(A, x) - b"
   ]
  },
  {
   "cell_type": "markdown",
   "metadata": {},
   "source": [
    "Note the difference in the quantities are zero (or at least consistent with zero at the level of machine precision), which verifies the solution."
   ]
  },
  {
   "cell_type": "markdown",
   "metadata": {},
   "source": [
    "## Activity 1: Solving matrix equations"
   ]
  },
  {
   "cell_type": "markdown",
   "metadata": {},
   "source": [
    "Following the example above, solve the coupled system of linear equations of the form\n",
    "$$\n",
    "\\mathsf{A} \\mathbf{x} = \\mathbf{b}.\n",
    "$$\n",
    "\n",
    "with\n",
    "$$\n",
    "\\mathsf{A} = \\left(\\begin{array}{ccc}\n",
    "   2 & 1 & 1\\\\\n",
    "   1 & 1 & -2\\\\\n",
    "   5 & 10 & 5\n",
    "   \\end{array}\\right)\n",
    "$$\n",
    "and \n",
    "\n",
    "$$\n",
    "\\mathbf{b} = \\left(\\begin{array}{c}\n",
    "   8 \\\\ -2 \\\\ +10\n",
    "   \\end{array}\\right)  \n",
    "$$\n"
   ]
  },
  {
   "cell_type": "code",
   "execution_count": null,
   "metadata": {
    "execution": {
     "iopub.execute_input": "2025-09-16T15:31:01.933135Z",
     "iopub.status.busy": "2025-09-16T15:31:01.932122Z",
     "iopub.status.idle": "2025-09-16T15:31:01.940106Z",
     "shell.execute_reply": "2025-09-16T15:31:01.938390Z",
     "shell.execute_reply.started": "2025-09-16T15:31:01.933096Z"
    }
   },
   "outputs": [],
   "source": [
    "### Add Code to define A and b as shown in the cell above\n",
    "A = np.array([ .... ])\n",
    "\n",
    "b = np.array([ .... ])"
   ]
  },
  {
   "cell_type": "markdown",
   "metadata": {},
   "source": [
    "Print and verify they are correct"
   ]
  },
  {
   "cell_type": "code",
   "execution_count": null,
   "metadata": {
    "execution": {
     "iopub.execute_input": "2025-09-16T15:44:57.346371Z",
     "iopub.status.busy": "2025-09-16T15:44:57.346009Z",
     "iopub.status.idle": "2025-09-16T15:44:57.351328Z",
     "shell.execute_reply": "2025-09-16T15:44:57.350415Z",
     "shell.execute_reply.started": "2025-09-16T15:44:57.346347Z"
    }
   },
   "outputs": [],
   "source": [
    "print(\"Matrix A:\")\n",
    "print(A)\n",
    "\n",
    "print(\"Vector b:\")\n",
    "print(b)"
   ]
  },
  {
   "cell_type": "markdown",
   "metadata": {},
   "source": [
    "Now use `np.linalg.solve()` to find $x$"
   ]
  },
  {
   "cell_type": "code",
   "execution_count": null,
   "metadata": {
    "execution": {
     "iopub.execute_input": "2025-09-16T15:31:02.793006Z",
     "iopub.status.busy": "2025-09-16T15:31:02.792689Z",
     "iopub.status.idle": "2025-09-16T15:31:02.799065Z",
     "shell.execute_reply": "2025-09-16T15:31:02.797941Z",
     "shell.execute_reply.started": "2025-09-16T15:31:02.792983Z"
    }
   },
   "outputs": [],
   "source": [
    "x = np.linalg.solve(A, b)\n",
    "print(x)"
   ]
  },
  {
   "cell_type": "markdown",
   "metadata": {},
   "source": [
    "Verify your solution"
   ]
  },
  {
   "cell_type": "code",
   "execution_count": null,
   "metadata": {
    "execution": {
     "iopub.execute_input": "2025-09-16T15:31:10.525950Z",
     "iopub.status.busy": "2025-09-16T15:31:10.525650Z",
     "iopub.status.idle": "2025-09-16T15:31:10.531464Z",
     "shell.execute_reply": "2025-09-16T15:31:10.530476Z",
     "shell.execute_reply.started": "2025-09-16T15:31:10.525927Z"
    }
   },
   "outputs": [],
   "source": [
    "print(A.dot(x) - b)"
   ]
  },
  {
   "cell_type": "markdown",
   "metadata": {},
   "source": [
    "## Activity 2: Finding the Matrix Inverse "
   ]
  },
  {
   "cell_type": "markdown",
   "metadata": {},
   "source": [
    "Let's find the inverse of $\\mathsf{A}$. Recall that we have the relationship:\n",
    "$$\n",
    "\\mathsf{A}\\mathsf{A}^{-1} = \\mathsf{A}^{-1}\\mathsf{A} = \\mathsf{1}\n",
    "$$"
   ]
  },
  {
   "cell_type": "markdown",
   "metadata": {},
   "source": [
    "First let's check that the inverse exists (remember singular matrcies don't have an inverse!)"
   ]
  },
  {
   "cell_type": "code",
   "execution_count": null,
   "metadata": {
    "execution": {
     "iopub.execute_input": "2025-09-16T15:49:39.578184Z",
     "iopub.status.busy": "2025-09-16T15:49:39.577473Z",
     "iopub.status.idle": "2025-09-16T15:49:39.583708Z",
     "shell.execute_reply": "2025-09-16T15:49:39.582775Z",
     "shell.execute_reply.started": "2025-09-16T15:49:39.578156Z"
    }
   },
   "outputs": [],
   "source": [
    "det_A = np.linalg.det(A)\n",
    "\n",
    "print(r\"Determinate of A is: \", det_A)\n",
    "\n",
    "if det_A != 0:\n",
    "    print(r'The matrix A is not singular, the inverse can be found')\n",
    "else:\n",
    "    print(r'The matrix A is singular, the inverse cannot be found')"
   ]
  },
  {
   "cell_type": "markdown",
   "metadata": {},
   "source": [
    "The solution aove 'checks out', so we can use `numpy.linalg.inv()` can calculate the inverse:"
   ]
  },
  {
   "cell_type": "code",
   "execution_count": null,
   "metadata": {
    "execution": {
     "iopub.execute_input": "2025-09-16T15:50:33.562892Z",
     "iopub.status.busy": "2025-09-16T15:50:33.562610Z",
     "iopub.status.idle": "2025-09-16T15:50:33.568752Z",
     "shell.execute_reply": "2025-09-16T15:50:33.567759Z",
     "shell.execute_reply.started": "2025-09-16T15:50:33.562869Z"
    }
   },
   "outputs": [],
   "source": [
    "Ainv = np.linalg.inv(A)\n",
    "print(\"Matrix A^-1:\")\n",
    "print(Ainv)"
   ]
  },
  {
   "cell_type": "markdown",
   "metadata": {},
   "source": [
    "Check that our solution behaves like an inverse in that $\\mathsf{A}\\mathsf{A}^{-1} = \\mathbf{I} $"
   ]
  },
  {
   "cell_type": "code",
   "execution_count": null,
   "metadata": {
    "execution": {
     "iopub.execute_input": "2025-09-16T15:34:26.455810Z",
     "iopub.status.busy": "2025-09-16T15:34:26.455519Z",
     "iopub.status.idle": "2025-09-16T15:34:26.459926Z",
     "shell.execute_reply": "2025-09-16T15:34:26.459072Z",
     "shell.execute_reply.started": "2025-09-16T15:34:26.455789Z"
    }
   },
   "outputs": [],
   "source": [
    "### ADD YOUR CODE HERE\n"
   ]
  },
  {
   "cell_type": "markdown",
   "metadata": {},
   "source": [
    "Let's check our result from activity 1 using the matrix inverse:\n",
    "$$\n",
    "\\mathbf{x} = \\mathsf{A}^{-1} \\mathbf{b}\n",
    "$$"
   ]
  },
  {
   "cell_type": "code",
   "execution_count": null,
   "metadata": {
    "execution": {
     "iopub.execute_input": "2025-09-16T15:39:05.429151Z",
     "iopub.status.busy": "2025-09-16T15:39:05.428785Z",
     "iopub.status.idle": "2025-09-16T15:39:05.436179Z",
     "shell.execute_reply": "2025-09-16T15:39:05.435217Z",
     "shell.execute_reply.started": "2025-09-16T15:39:05.429128Z"
    }
   },
   "outputs": [],
   "source": [
    "Ainv.dot(b)"
   ]
  },
  {
   "cell_type": "markdown",
   "metadata": {},
   "source": [
    "Verify the solution matches our earlier result. "
   ]
  }
 ],
 "metadata": {
  "anaconda-cloud": {},
  "kaggle": {
   "accelerator": "none",
   "dataSources": [],
   "dockerImageVersionId": 31089,
   "isGpuEnabled": false,
   "isInternetEnabled": true,
   "language": "python",
   "sourceType": "notebook"
  },
  "kernelspec": {
   "display_name": "Python 3 (ipykernel)",
   "language": "python",
   "name": "python3"
  },
  "language_info": {
   "codemirror_mode": {
    "name": "ipython",
    "version": 3
   },
   "file_extension": ".py",
   "mimetype": "text/x-python",
   "name": "python",
   "nbconvert_exporter": "python",
   "pygments_lexer": "ipython3",
   "version": "3.9.7"
  }
 },
 "nbformat": 4,
 "nbformat_minor": 4
}
