{
 "cells": [
  {
   "cell_type": "markdown",
   "id": "97428534-5af6-46e2-a7e1-9eda1c9b4818",
   "metadata": {},
   "source": [
    "# Lab 4: Numeric Derivatives Part II"
   ]
  },
  {
   "cell_type": "markdown",
   "id": "8cb5d315-f599-4fe2-bff5-bf2b0b9ca0dd",
   "metadata": {},
   "source": [
    "In this set of lab activities, we will investiate a set of data collected from a mass-spring system. Remember that we have the following equations that can describe a mass spring system:\n",
    "\n",
    "$$\n",
    "F_{sp} = - kx\n",
    "$$\n",
    "\n",
    "and\n",
    "\n",
    "$$\n",
    "U_{sp} = \\frac{1}{2} kx^2\n",
    "$$\n",
    "\n",
    "We will use both of these in approaches to better characterize the data that has been collected. "
   ]
  },
  {
   "cell_type": "markdown",
   "id": "c6e28993-4281-4053-9e6c-5156a315b321",
   "metadata": {},
   "source": [
    "## Activity 1: An Ideal Mass Spring System "
   ]
  },
  {
   "cell_type": "markdown",
   "id": "2fc017bd-5d5b-4929-b539-3be07cf8c5e6",
   "metadata": {},
   "source": [
    "In this first activity, we will consider data from an 'ideal' mass spring system that does not contain noise (Note this is not real experimental data that will always contain noise, but it has been generated via other means for our purposes here)"
   ]
  },
  {
   "cell_type": "markdown",
   "id": "55a60b74-8c63-4c45-ab6b-2fdcaf19f262",
   "metadata": {},
   "source": [
    "First, import functions and load in data"
   ]
  },
  {
   "cell_type": "code",
   "execution_count": null,
   "id": "3bfa94eb-2186-4fa7-a7fa-6d3973c72cef",
   "metadata": {},
   "outputs": [],
   "source": [
    "import matplotlib.pyplot as plt\n",
    "import numpy as np"
   ]
  },
  {
   "cell_type": "code",
   "execution_count": null,
   "id": "1ae1bb30-e770-4a46-a094-32c7950d0226",
   "metadata": {},
   "outputs": [],
   "source": [
    "#load in dataset 1\n",
    "data1=np.loadtxt('Lab_Data/Mass_Spring_Ideal.csv',delimiter=',') #replace with your path to the appropriate .csv file\n",
    "\n",
    "#determine shpae of data\n",
    "np.shape(data1)"
   ]
  },
  {
   "cell_type": "markdown",
   "id": "6e8020ec-e674-4c8e-9938-ef3ab1ca5187",
   "metadata": {},
   "source": [
    "The data contains two colums, the first is time in seconds, the second is x position in meters"
   ]
  },
  {
   "cell_type": "code",
   "execution_count": null,
   "id": "f409a79d-75b3-40b8-b699-ef9931bbd6e5",
   "metadata": {},
   "outputs": [],
   "source": [
    "t = data1[:,0] #unpack time data\n",
    "x = data1[:,1] #unpack position data"
   ]
  },
  {
   "cell_type": "markdown",
   "id": "fc9d063f-7949-4fd9-83b9-0bd60d971db6",
   "metadata": {},
   "source": [
    "Let's plot and examine the data"
   ]
  },
  {
   "cell_type": "code",
   "execution_count": null,
   "id": "c05ae7f0-e763-4c6b-bee0-c2bec478c917",
   "metadata": {},
   "outputs": [],
   "source": [
    "plt.figure()\n",
    "\n",
    "plt.plot(t,x,label='x(t)')\n",
    "\n",
    "#plt.legend()\n",
    "\n",
    "plt.ylabel('Postion (m)')\n",
    "plt.xlabel('time (s)')\n",
    "\n",
    "plt.show()"
   ]
  },
  {
   "cell_type": "markdown",
   "id": "336618a3-3027-4ac5-8688-4f6fb2f7a7bf",
   "metadata": {},
   "source": [
    "We will want to take derivatives of this function to get velocity and acceleration for the system. "
   ]
  },
  {
   "cell_type": "code",
   "execution_count": null,
   "id": "74d9ce29-f511-44d0-bd33-8fd55ff6863e",
   "metadata": {},
   "outputs": [],
   "source": [
    "# Define central difference function -  Take a look at the code to verify that it does what you'd expect\n",
    "def CentralDiff(x,y): \n",
    "    h=x[1]-x[0] #find h based on delta x of data points\n",
    "    forward = np.roll(y,-1) #forward step\n",
    "    backward = np.roll(y,+1) #backward step\n",
    "    dycd=(forward-backward)/(2*h) #perform difference\n",
    "    dycd=dycd[1:-1] #trim boundaries\n",
    "    dxcd=x[1:-1] #trim boundaries\n",
    "    return dxcd, dycd #return the array of the central difference values"
   ]
  },
  {
   "cell_type": "code",
   "execution_count": null,
   "id": "63cf68ae-45b1-44d8-a4f2-4a2cb4158d06",
   "metadata": {},
   "outputs": [],
   "source": [
    "# Define 2nd derivative central difference function - Take a look at the code to verify that it does what you'd expect\n",
    "def CDiff_d2f(x,y): \n",
    "    h=x[1]-x[0] #find h based on delta x of data points\n",
    "    forward = np.roll(y,-1) #forward step\n",
    "    backward = np.roll(y,+1) #backward step\n",
    "    d2f = (forward - 2 * y + backward) / h**2 #2nd derivative approximation\n",
    "    d2f=d2f[1:-1] #trim boundaries\n",
    "    dx=x[1:-1] #trim boundaries\n",
    "    return dx, d2f #return the array of 2nd derivative values"
   ]
  },
  {
   "cell_type": "code",
   "execution_count": null,
   "id": "9a9a0dcd-63bb-4f19-9d3c-fa0e0e2f6a37",
   "metadata": {},
   "outputs": [],
   "source": [
    "# run central difference to get velocity and corresponding time array\n",
    "t_v,v=CentralDiff(t,x)\n",
    "\n",
    "# run 2nd derivative central difference to get acceleration and corresponding time array\n",
    "t_a,a=CDiff_d2f(t,x)"
   ]
  },
  {
   "cell_type": "markdown",
   "id": "d05ce249-6e49-4764-8bb9-93c60e57133f",
   "metadata": {},
   "source": [
    "Plot the results"
   ]
  },
  {
   "cell_type": "code",
   "execution_count": null,
   "id": "3704d541-7577-400f-960e-c716414b5fc3",
   "metadata": {},
   "outputs": [],
   "source": [
    "#we'll use subplots here to make the data easier to see. If plotted together the accelration is much larger amplitude than position. \n",
    "fig, axs = plt.subplots(nrows=3, ncols=1, sharex=True, figsize=(8, 6))\n",
    "\n",
    "axs[0].plot(t,x, color='blue')\n",
    "axs[0].set_ylabel('Position (m)')\n",
    "\n",
    "axs[1].plot(t_v,v, color='green')\n",
    "axs[1].set_ylabel('Velocity (m/s)')\n",
    "\n",
    "\n",
    "axs[2].plot(t_a,a, color='red')\n",
    "axs[2].set_ylabel(r'Acceleration (m/s$^2$)')\n",
    "axs[2].set_xlabel('Time (s)') \n",
    "\n",
    "# Adjust layout to prevent titles/labels from overlapping\n",
    "plt.tight_layout()\n",
    "\n",
    "# Display the plot\n",
    "plt.show()"
   ]
  },
  {
   "cell_type": "markdown",
   "id": "e721a2f2-a7ab-4730-bbf3-8fe83cba6d53",
   "metadata": {},
   "source": [
    "From this we can see that we have the expected behavior in terms of phase. Both position and acceleration are matched in phase, while velocity is out of phase. "
   ]
  },
  {
   "cell_type": "markdown",
   "id": "1dd794ee-1375-4b3a-bc3c-39a9b22aa27c",
   "metadata": {},
   "source": [
    "Now let's see if we can determine the spring constant value 'k' from the data. Recall that $F=ma$ and $F=-kx$. "
   ]
  },
  {
   "cell_type": "code",
   "execution_count": null,
   "id": "3f626cfc-b1cf-445a-98c5-398d966edcc9",
   "metadata": {},
   "outputs": [],
   "source": [
    "# for the experiment, our object mass was 350 g\n",
    "mass = 0.350\n",
    "\n",
    "# define force\n",
    "Force = mass * a"
   ]
  },
  {
   "cell_type": "markdown",
   "id": "1261ade7-85b0-49bb-9ea7-3a0878c87bdd",
   "metadata": {},
   "source": [
    "Now let's make a plot of Force vs position "
   ]
  },
  {
   "cell_type": "code",
   "execution_count": null,
   "id": "934fa178-bacb-4cf9-b360-76bde9b77334",
   "metadata": {},
   "outputs": [],
   "source": [
    "plt.figure()\n",
    "plt.title('Force vs. Position')\n",
    "plt.plot(x[1:-1],Force,'.m') #note the x array must be trimmed to match the length of Force\n",
    "plt.show()"
   ]
  },
  {
   "cell_type": "markdown",
   "id": "ca9ace2a-abe5-4b2a-a9c5-75624fdc1ef1",
   "metadata": {},
   "source": [
    "Note the linear relationship, which is expected! Our value of 'k' is equal to the negative slope. Let's determine that next!"
   ]
  },
  {
   "cell_type": "code",
   "execution_count": null,
   "id": "5d9de776-d80f-4d64-8981-2d4ecd97780a",
   "metadata": {},
   "outputs": [],
   "source": [
    "# Numpy has a handy curve fitting routine for polynomials we will use here. \n",
    "coefs = np.polyfit(x[1:-1],Force, 1) #feed it the plotted values. The last argument says fit it as a linear function\n",
    "\n",
    "# Extract the slope and intercept\n",
    "slope = coefs[0]\n",
    "intercept = coefs[1]\n",
    "\n",
    "# get the determined k value\n",
    "k_exp=-1*slope\n",
    "\n",
    "print(f\"The spring constant derived from the data is: {k_exp:.2f}\")"
   ]
  },
  {
   "cell_type": "markdown",
   "id": "379eed20-88e5-4425-b2af-9269ad2b5ff2",
   "metadata": {},
   "source": [
    "The actual spring constant was 70 N/m. How close were we?"
   ]
  },
  {
   "cell_type": "code",
   "execution_count": null,
   "id": "ecf2d9cc-e367-4b08-8f03-c908e7ebf2ad",
   "metadata": {},
   "outputs": [],
   "source": [
    "#determine percent difference from expected value\n",
    "k_actual=70\n",
    "\n",
    "k_err=np.abs(k_exp-k_actual)/k_actual*100\n",
    "\n",
    "print(f\"The percent difference in the spring constant is: {k_err:.2f} %\")"
   ]
  },
  {
   "cell_type": "markdown",
   "id": "cdab76f4-7ed1-4001-b52d-f6e5a3441784",
   "metadata": {},
   "source": [
    "Now, what about energy conservation?"
   ]
  },
  {
   "cell_type": "code",
   "execution_count": null,
   "id": "af64c534-6c44-41e9-a8a6-1b0f74b3bd92",
   "metadata": {},
   "outputs": [],
   "source": [
    "# define kinetic energy based on velocity \n",
    "E_kinetic = 0.5 * mass * v**2\n",
    "\n",
    "# define potential energy based on x and our determined 'k' value\n",
    "E_potential = 0.5 * k_exp * x**2\n",
    "\n",
    "# combine results to total energy\n",
    "E_total = E_kinetic + E_potential[1:-1] #note we have to trim E_potential a bit to match the len of E_kinetic"
   ]
  },
  {
   "cell_type": "markdown",
   "id": "45ebbe21-9306-463f-9e18-9c9ed03038cc",
   "metadata": {},
   "source": [
    "Plot the results"
   ]
  },
  {
   "cell_type": "code",
   "execution_count": null,
   "id": "5aece705-82d3-42c9-a395-a6dbe7fae734",
   "metadata": {},
   "outputs": [],
   "source": [
    "plt.figure(figsize=(8,4))\n",
    "plt.plot(t_v,E_total,label='Total E')\n",
    "plt.plot(t_v,E_kinetic,label='Kinetic')\n",
    "plt.plot(t,E_potential,label='Potential')\n",
    "plt.xlabel('Time (s)')\n",
    "plt.ylabel('Energy (J)')\n",
    "plt.legend()\n",
    "plt.show()"
   ]
  },
  {
   "cell_type": "markdown",
   "id": "2d9890e4-7003-4e2e-867f-e6b3bb384d4d",
   "metadata": {},
   "source": [
    "Note the behavior of E_total is not exactly as expected because it has 'wiggles' rather than being constant. Don't worry, this is just the impact of rounding errors in this sort of approach!"
   ]
  },
  {
   "cell_type": "code",
   "execution_count": null,
   "id": "7adc86f5-82ab-47d2-b2fc-1252b946c93d",
   "metadata": {},
   "outputs": [],
   "source": [
    "# let's determine system energy by taking the average\n",
    "Eavg=np.mean(E_total)\n",
    "\n",
    "# determine the scatter in energy via the standard deviation\n",
    "Estd=np.std(E_total)\n",
    "\n",
    "# print the energy with an error bar based on the scatter\n",
    "print(f\"The Total Energy: {Eavg:.2f} +/- {Estd:.2f} J\")\n"
   ]
  },
  {
   "cell_type": "markdown",
   "id": "3d485545-6bbd-4b24-ad81-f126bf3b5106",
   "metadata": {},
   "source": [
    "## Activity 2: A Mass Spring System with Realistic Noise"
   ]
  },
  {
   "cell_type": "markdown",
   "id": "f7e72ab9-b4f9-4846-86d4-9e74ea06194c",
   "metadata": {},
   "source": [
    "In this activity, we will consider data a more realistic dataset that has measurment noise included. "
   ]
  },
  {
   "cell_type": "code",
   "execution_count": null,
   "id": "a47fc122-1f13-49f1-a65f-4e829e8002d5",
   "metadata": {},
   "outputs": [],
   "source": [
    "#load in the new data set\n",
    "#load in dataset 1\n",
    "data2=np.loadtxt('Lab_Data/Mass_Spring_Noise.csv',delimiter=',') #replace with your path to the appropriate .csv file\n",
    "\n",
    "#unpack the data\n",
    "t = data2[:,0]\n",
    "x = data2[:,1]\n"
   ]
  },
  {
   "cell_type": "markdown",
   "id": "14703779-e27a-4f81-bf8d-730ee9ec6e2a",
   "metadata": {},
   "source": [
    "Plot the data x vs t"
   ]
  },
  {
   "cell_type": "code",
   "execution_count": null,
   "id": "076d531e-d7a3-4334-968a-32d888b03a31",
   "metadata": {},
   "outputs": [],
   "source": [
    "### Add your code here\n",
    "\n",
    "\n",
    "\n",
    "\n",
    "\n"
   ]
  },
  {
   "cell_type": "markdown",
   "id": "fd23e399-2ed9-4646-9f4d-adf0307319e1",
   "metadata": {},
   "source": [
    "Next, we will want to determine the derivatives of x(t) to find v(t) and a(t). We will repeat the steps as done in activity #1"
   ]
  },
  {
   "cell_type": "code",
   "execution_count": null,
   "id": "58165a54-82ca-44ff-a869-0e68f7d5a792",
   "metadata": {},
   "outputs": [],
   "source": [
    "# run central difference to get velocity and corresponding time array\n",
    "t_v,v=CentralDiff(t,x)\n",
    "\n",
    "# run 2nd derivative central difference to get acceleration and corresponding time array\n",
    "t_a,a=CDiff_d2f(t,x)"
   ]
  },
  {
   "cell_type": "markdown",
   "id": "edbac521-2071-4914-81a2-fc5d239bbb1d",
   "metadata": {},
   "source": [
    "Plot the results. What do you notice here?"
   ]
  },
  {
   "cell_type": "code",
   "execution_count": null,
   "id": "a6eda471-a827-486e-895a-03cb28454c51",
   "metadata": {},
   "outputs": [],
   "source": [
    "#we'll use subplots here to make the data easier to see. If plotted together the accelration is much larger amplitude than position. \n",
    "fig, axs = plt.subplots(nrows=3, ncols=1, sharex=True, figsize=(8, 6))\n",
    "\n",
    "axs[0].plot(t,x, color='blue')\n",
    "axs[0].set_ylabel('Position (m)')\n",
    "\n",
    "axs[1].plot(t_v,v, color='green')\n",
    "axs[1].set_ylabel('Velocity (m/s)')\n",
    "\n",
    "\n",
    "axs[2].plot(t_a,a, color='red')\n",
    "axs[2].set_ylabel(r'Acceleration (m/s$^2$)')\n",
    "axs[2].set_xlabel('Time (s)') \n",
    "\n",
    "# Adjust layout to prevent titles/labels from overlapping\n",
    "plt.tight_layout()\n",
    "\n",
    "# Display the plot\n",
    "plt.show()"
   ]
  },
  {
   "cell_type": "markdown",
   "id": "9d9314ec-20a2-43ee-b903-7022aaa849f4",
   "metadata": {},
   "source": [
    "Punchline - even small noise almost completely obliterates the 2nd derivative in this form... How can we fix it? Lets revisit smoothing!"
   ]
  },
  {
   "cell_type": "code",
   "execution_count": null,
   "id": "f37faa5c-b8ab-48a1-8da8-5cd52bac6cd4",
   "metadata": {},
   "outputs": [],
   "source": [
    "### EDIT- fixed the wrap issue in these functions that caused a phase shift later on\n",
    "\n",
    "#define a smoothing function\n",
    "def smooth(x,n,wrap=False):\n",
    "    A=np.zeros((n,len(x)))\n",
    "    for i in range(0,n):\n",
    "        A[i]=np.roll(x,i)\n",
    "    sdata=np.mean(A,axis=0)\n",
    "    \n",
    "    sdata=np.roll(sdata,np.int32(-n/2)) #wrap data if appropriate\n",
    "\n",
    "    if wrap==False:\n",
    "        sdata=sdata[np.int32(n/2):np.int32(-n/2)] #trim returned data if not wrap\n",
    "    return sdata\n",
    "\n",
    "#we'll aslo define a 'trimming function here that will help keep our data more uniform in terms of lengths\n",
    "def TrimWindow(x,n):\n",
    "    xnew=x[np.int32(n/2):np.int32(-n/2)]\n",
    "    return xnew"
   ]
  },
  {
   "cell_type": "markdown",
   "id": "68fbd979-ef1d-424e-a989-b2ac9496141f",
   "metadata": {},
   "source": [
    "Try smoothing data before taking derivatives. Also, we will take two first order derivatives rather than the single 2nd order step, which is heavily impacted by noise"
   ]
  },
  {
   "cell_type": "code",
   "execution_count": null,
   "id": "06b88d9a-38c5-49dd-a86a-2fc8c4663202",
   "metadata": {},
   "outputs": [],
   "source": [
    "### EDIT - changed over hardcoded 'n' to a variable 'window' to keep better track of things...\n",
    "\n",
    "#smoothing window 'n'\n",
    "window=5\n",
    "\n",
    "#perform smoothing\n",
    "xsmooth=smooth(x,window)\n",
    "\n",
    "# do centeral difference. Note we will have some trimming required due to smoothing function (no wrapping assumed here)\n",
    "t_v,v=CentralDiff(TrimWindow(t,window),xsmooth) #removed slicing on t array\n",
    "\n",
    "#perform smoothing\n",
    "vsmooth=smooth(v,window)\n",
    "tv2=TrimWindow(t_v,window)\n",
    "\n",
    "# do centeral difference. Note we will have some trimming required due to smoothing function (no wrapping assumed here)\n",
    "t_a,a=CentralDiff(tv2,vsmooth)"
   ]
  },
  {
   "cell_type": "markdown",
   "id": "d40c71c6-28cb-4406-9545-d833d5229378",
   "metadata": {},
   "source": [
    "Plot the updated results with the smoothed functions"
   ]
  },
  {
   "cell_type": "code",
   "execution_count": null,
   "id": "a14db1c9-1852-4a8c-99ef-1591fe8b803d",
   "metadata": {},
   "outputs": [],
   "source": [
    "#we'll use subplots here to make the data easier to see. If plotted together the accelration is much larger amplitude than position. \n",
    "fig, axs = plt.subplots(nrows=3, ncols=1, sharex=True, figsize=(8, 6))\n",
    "\n",
    "axs[0].plot(t,x, color='blue')\n",
    "axs[0].set_ylabel('Position (m)')\n",
    "\n",
    "axs[1].plot(t_v,v, color='green')\n",
    "axs[1].set_ylabel('Velocity (m/s)')\n",
    "\n",
    "\n",
    "axs[2].plot(t_a,a, color='red')\n",
    "axs[2].set_ylabel(r'Acceleration (m/s$^2$)')\n",
    "axs[2].set_xlabel('Time (s)') \n",
    "\n",
    "# Adjust layout to prevent titles/labels from overlapping\n",
    "plt.tight_layout()\n",
    "\n",
    "# Display the plot\n",
    "plt.show()"
   ]
  },
  {
   "cell_type": "markdown",
   "id": "841fad3f-992b-4c47-88e7-6b43aced2396",
   "metadata": {},
   "source": [
    "Note the acceleration data now appears much more reasonable! We have lost some data on the edges, but this is unavoidable sometimes!"
   ]
  },
  {
   "cell_type": "markdown",
   "id": "ef39970c-9b01-4918-aaee-a1274b842ae5",
   "metadata": {},
   "source": [
    "### New Cells Below (9/11/25) - Hopefully will help with remaining parts!"
   ]
  },
  {
   "cell_type": "markdown",
   "id": "704dc8d2-e568-4be3-bebe-e309dfbd925f",
   "metadata": {},
   "source": [
    "Next steps:\n",
    "\n",
    " - Determine the spring constant using the methods from activty #1\n",
    " - Look at energy conservation and determine the impact of noise on determining total energy"
   ]
  },
  {
   "cell_type": "markdown",
   "id": "835089fa-5ddb-4c7a-af36-634046a9acc3",
   "metadata": {},
   "source": [
    "### Create F vs x plot and determine 'k' value"
   ]
  },
  {
   "cell_type": "code",
   "execution_count": null,
   "id": "5e869e1a-b451-4ba3-b7eb-4f547bbf6d00",
   "metadata": {},
   "outputs": [],
   "source": [
    "#calculate Force on object using 'a' array\n",
    "\n",
    "# for the experiment, our object mass was 350 g\n",
    "mass = 0.350\n",
    "\n",
    "# define force\n",
    "Force = mass * a"
   ]
  },
  {
   "cell_type": "code",
   "execution_count": null,
   "id": "b2c061ca-2e34-4f6e-a4fe-1964d79ca49b",
   "metadata": {},
   "outputs": [],
   "source": [
    "plt.figure()\n",
    "plt.title('Force vs. Position')\n",
    "plt.plot(x[window+1:-(window+1)],Force,'.m') #note the x array must be trimmed to match the length of Force\n",
    "plt.xlabel('Postion (m)')\n",
    "plt.ylabel('Force (N)')\n",
    "plt.show()"
   ]
  },
  {
   "cell_type": "code",
   "execution_count": null,
   "id": "14dae408-35e2-4b36-a53d-df2fc32620af",
   "metadata": {},
   "outputs": [],
   "source": [
    "# Numpy has a handy curve fitting routine for polynomials we will use here. \n",
    "coefs = np.polyfit(x[1+window:-(1+window)],Force, 1) #feed it the plotted values. The last argument says fit it as a linear function\n",
    "\n",
    "# Extract the slope and intercept\n",
    "slope = coefs[0]\n",
    "intercept = coefs[1]\n",
    "\n",
    "# get the determined k value\n",
    "k_exp=-1*slope\n",
    "\n",
    "print(f\"The spring constant derived from the data is: {k_exp:.2f}\")"
   ]
  },
  {
   "cell_type": "code",
   "execution_count": null,
   "id": "b3d47d41-7a65-4c5e-86fe-fcb4e72e89f7",
   "metadata": {},
   "outputs": [],
   "source": [
    "#determine percent difference from expected value\n",
    "k_actual=70\n",
    "\n",
    "k_err=np.abs(k_exp-k_actual)/k_actual*100\n",
    "\n",
    "print(f\"The percent difference in the spring constant is: {k_err:.2f} %\")"
   ]
  },
  {
   "cell_type": "markdown",
   "id": "7cf3ca48-eaf3-4227-bac4-a93855b61f7f",
   "metadata": {},
   "source": [
    "### Energy Conservation & Determination of Total Energy"
   ]
  },
  {
   "cell_type": "code",
   "execution_count": null,
   "id": "ca408163-7788-4d13-8455-c5ef4bdbd319",
   "metadata": {},
   "outputs": [],
   "source": [
    "# define kinetic energy based on velocity - use smoothed functions to improve results\n",
    "E_kinetic = 0.5 * mass * vsmooth**2\n",
    "\n",
    "# define potential energy based on x and our determined 'k' value\n",
    "E_potential = 0.5 * k_exp * x**2\n",
    "\n",
    "# combine results to total energy\n",
    "E_total = E_kinetic + E_potential[window:-window] #note we have to trim E_potential a bit to match the len of E_kinetic"
   ]
  },
  {
   "cell_type": "code",
   "execution_count": null,
   "id": "0ebbbc92-39ac-4589-874d-36f266f6fc74",
   "metadata": {},
   "outputs": [],
   "source": [
    "plt.figure(figsize=(8,4))\n",
    "plt.plot(tv2,E_total,label='Total E')\n",
    "plt.plot(tv2,E_kinetic,label='Kinetic')\n",
    "plt.plot(t,E_potential,label='Potential')\n",
    "plt.xlabel('Time (s)')\n",
    "plt.ylabel('Energy (J)')\n",
    "plt.legend()\n",
    "plt.show()"
   ]
  },
  {
   "cell_type": "code",
   "execution_count": null,
   "id": "ba806121-e413-46f7-a5f4-8d32d95e9e01",
   "metadata": {},
   "outputs": [],
   "source": [
    "# let's determine system energy by taking the average\n",
    "Eavg=np.mean(E_total)\n",
    "\n",
    "# determine the scatter in energy via the standard deviation\n",
    "Estd=np.std(E_total)\n",
    "\n",
    "# print the energy with an error bar based on the scatter\n",
    "print(f\"The Total Energy: {Eavg:.2f} +/- {Estd:.2f} J\")"
   ]
  },
  {
   "cell_type": "markdown",
   "id": "636b0350-f87e-470a-bcf2-b24577ad1de5",
   "metadata": {},
   "source": [
    "### What if? Suppose we were concerned that some energy might be lost from the system, how would we know in this case with noisy data?"
   ]
  },
  {
   "cell_type": "code",
   "execution_count": null,
   "id": "bf8002e5-f8d4-443e-b31a-147eb66cf3c8",
   "metadata": {},
   "outputs": [],
   "source": [
    "# Split the data into parts- For this , I'm just going to split it in halfs\n",
    "\n",
    "#find the 'halfway' point in terms of length\n",
    "splitpoint=np.int32(len(E_total)/2)\n",
    "\n",
    "#split into first half and 2nd half\n",
    "first_half=E_total[splitpoint:]\n",
    "last_half=E_total[:-splitpoint]"
   ]
  },
  {
   "cell_type": "markdown",
   "id": "93052493-05c1-4750-83cd-0890b4c553ce",
   "metadata": {},
   "source": [
    "Create a histogram to show the results"
   ]
  },
  {
   "cell_type": "code",
   "execution_count": null,
   "id": "828840a0-8ea2-455f-ad90-628f07cd1cd1",
   "metadata": {},
   "outputs": [],
   "source": [
    "plt.figure()\n",
    "\n",
    "#define bins for 'nicer' plotting\n",
    "pbins=np.linspace(10,19,20)\n",
    "\n",
    "plt.hist(first_half,bins=pbins,alpha=0.5,label='1st half data') #here the alpha parameter helps us set transparancy so we can easily see overlapping data\n",
    "plt.hist(last_half,bins=pbins,alpha=0.5,label='2nd half data') #here the alpha parameter helps us set transparancy so we can easily see overlapping data\n",
    "\n",
    "plt.xlabel('Energy (J)')\n",
    "plt.ylabel('Counts')\n",
    "\n",
    "plt.legend()\n",
    "\n",
    "plt.show()"
   ]
  },
  {
   "cell_type": "markdown",
   "id": "44cf1c0d-7f67-4c2d-b0c8-cc6d70339af0",
   "metadata": {},
   "source": [
    "We can see that these are roughly Gaussian in both data sets. Let's find statistics next"
   ]
  },
  {
   "cell_type": "code",
   "execution_count": null,
   "id": "436c2fb5-4e1b-423a-a6cd-30f669e9d9e9",
   "metadata": {},
   "outputs": [],
   "source": [
    "# print the energy with an error bar based on the scatter\n",
    "print(f\"The Total Energy in 1st half data set: {np.mean(first_half):.2f} +/- {np.std(first_half):.2f} J\")\n",
    "\n",
    "# print the energy with an error bar based on the scatter\n",
    "print(f\"The Total Energy in 2nd half data set: {np.mean(last_half):.2f} +/- {np.std(last_half):.2f} J\")"
   ]
  },
  {
   "cell_type": "markdown",
   "id": "ec516265-29d6-4372-b5ca-4d62ef46c419",
   "metadata": {},
   "source": [
    "Note these distrobutions are almost statistically identical in terms ov average and standard deviation. So there is no evidence for energy loss here. We are still in a somewhat 'idealistic' regime with Total energy being conserved. "
   ]
  },
  {
   "cell_type": "markdown",
   "id": "8868d70d-1834-4d05-8629-2a2ab86a7a96",
   "metadata": {},
   "source": [
    "## Activity 3: A Mass Spring System with Realistic Noise"
   ]
  },
  {
   "cell_type": "markdown",
   "id": "197d482e-7b62-44f4-b7e0-86752682598a",
   "metadata": {},
   "source": [
    "Now we will turn our attention to a 3rd dataset, which now contains the effects of friction in addition to having realistic noise"
   ]
  },
  {
   "cell_type": "code",
   "execution_count": null,
   "id": "fc9ea4bc-3edb-4c40-bac9-9880e5489138",
   "metadata": {},
   "outputs": [],
   "source": [
    "#load in the new data set\n",
    "#load in dataset 1\n",
    "data3=np.loadtxt('Lab_Data/Mass_Spring_Friction.csv',delimiter=',') #replace with your path to the appropriate .csv file\n",
    "\n",
    "#unpack the data\n",
    "t = data3[:,0]\n",
    "x = data3[:,1]"
   ]
  },
  {
   "cell_type": "markdown",
   "id": "5aaf1a28-fb4c-433c-9c7b-b13655d230c7",
   "metadata": {},
   "source": [
    "Plot the data to see if this looks as expected"
   ]
  },
  {
   "cell_type": "code",
   "execution_count": null,
   "id": "b46b40e5-289a-4cf7-8f4e-554d9f08a4ad",
   "metadata": {},
   "outputs": [],
   "source": [
    "plt.plot(t,x,label='x(t)')\n",
    "\n",
    "plt.ylabel('Postion (m)')\n",
    "plt.xlabel('time (s)')\n",
    "\n",
    "plt.show()"
   ]
  },
  {
   "cell_type": "markdown",
   "id": "bd86ada9-b733-4240-8f8c-65993c1127da",
   "metadata": {},
   "source": [
    "Now to start the analysis. We will want to take derivatives as needed, but let's go ahead and use smoothing to help improve our results!"
   ]
  },
  {
   "cell_type": "code",
   "execution_count": null,
   "id": "479df016-05ae-4ded-bfa9-8b32defb8cb6",
   "metadata": {},
   "outputs": [],
   "source": [
    "#smoothing window\n",
    "window=5\n",
    "\n",
    "#perform smoothing\n",
    "xsmooth=smooth(x,window)\n",
    "\n",
    "# do centeral difference. Note we will have some trimming required due to smoothing function (no wrapping assumed here)\n",
    "t_v,v=CentralDiff(TrimWindow(t,window),xsmooth) #removed slicing on t array\n",
    "\n",
    "#perform smoothing\n",
    "vsmooth=smooth(v,window)\n",
    "tv2=TrimWindow(t_v,window)\n",
    "\n",
    "# do centeral difference. Note we will have some trimming required due to smoothing function (no wrapping assumed here)\n",
    "t_a,a=CentralDiff(tv2,vsmooth)"
   ]
  },
  {
   "cell_type": "code",
   "execution_count": null,
   "id": "27f793fa-2e91-4c97-b528-145335f66e97",
   "metadata": {},
   "outputs": [],
   "source": [
    "#we'll use subplots here to make the data easier to see. If plotted together the accelration is much larger amplitude than position. \n",
    "fig, axs = plt.subplots(nrows=3, ncols=1, sharex=True, figsize=(8, 6))\n",
    "\n",
    "axs[0].plot(t,x, color='blue')\n",
    "axs[0].set_ylabel('Position (m)')\n",
    "\n",
    "axs[1].plot(t_v,v, color='green')\n",
    "axs[1].set_ylabel('Velocity (m/s)')\n",
    "\n",
    "\n",
    "axs[2].plot(t_a,a, color='red')\n",
    "axs[2].set_ylabel(r'Acceleration (m/s$^2$)')\n",
    "axs[2].set_xlabel('Time (s)') \n",
    "\n",
    "# Adjust layout to prevent titles/labels from overlapping\n",
    "plt.tight_layout()\n",
    "\n",
    "# Display the plot\n",
    "plt.show()"
   ]
  },
  {
   "cell_type": "markdown",
   "id": "7ec87d36-e6d3-4dc6-bcc3-60486027305f",
   "metadata": {},
   "source": [
    "### Now let's determine spring constant the same as before. Note we are using the same spring. Will we get the same result?"
   ]
  },
  {
   "cell_type": "code",
   "execution_count": null,
   "id": "29cfb26e-ee8a-4341-bafa-30a1a8bc9255",
   "metadata": {},
   "outputs": [],
   "source": [
    "# for the experiment, our object mass was 350 g\n",
    "mass = 0.350\n",
    "\n",
    "# define force\n",
    "Force = mass * a"
   ]
  },
  {
   "cell_type": "markdown",
   "id": "1e79b48c-6e28-4bdc-84b7-153e28409fca",
   "metadata": {},
   "source": [
    "Create a plot of F vs. x (Don't forget that you will need to use array slicing to get equal lengths between F and x for plotting!)"
   ]
  },
  {
   "cell_type": "code",
   "execution_count": null,
   "id": "af5b4ed5-1e0b-4fc4-8887-5e14fa106415",
   "metadata": {},
   "outputs": [],
   "source": [
    "plt.figure()\n",
    "\n",
    "### Add your code below ###\n",
    "\n",
    "\n",
    "\n",
    "\n",
    "plt.show()"
   ]
  },
  {
   "cell_type": "markdown",
   "id": "8a94afbb-6ff9-4837-91e5-e0309e118a35",
   "metadata": {},
   "source": [
    "Determine the 'k' value. How close are we to earlier? Does the result make sense?"
   ]
  },
  {
   "cell_type": "code",
   "execution_count": null,
   "id": "4fe84448-8007-4a9a-803f-10a0257c66e9",
   "metadata": {},
   "outputs": [],
   "source": [
    "# Numpy has a handy curve fitting routine for polynomials we will use here. \n",
    "coefs = np.polyfit(x[1+window:-(1+window)],Force, 1) #feed it the plotted values. The last argument says fit it as a linear function\n",
    "\n",
    "# Extract the slope and intercept\n",
    "slope = coefs[0]\n",
    "intercept = coefs[1]\n",
    "\n",
    "# get the determined k value\n",
    "k_exp=-1*slope\n",
    "\n",
    "print(f\"The spring constant derived from the data is: {k_exp:.2f}\")"
   ]
  },
  {
   "cell_type": "code",
   "execution_count": null,
   "id": "b12dc2c8-2f51-4afa-9fd5-c38b2969dc66",
   "metadata": {},
   "outputs": [],
   "source": [
    "#determine percent difference from expected value\n",
    "k_actual=70\n",
    "\n",
    "k_err=np.abs(k_exp-k_actual)/k_actual*100\n",
    "\n",
    "print(f\"The percent difference in the spring constant is: {k_err:.2f} %\")"
   ]
  },
  {
   "cell_type": "markdown",
   "id": "953d6bd1-03e1-4e41-9387-aff8675684ee",
   "metadata": {},
   "source": [
    "### Now we will turn to look at energy of the system"
   ]
  },
  {
   "cell_type": "code",
   "execution_count": null,
   "id": "6e2e1211-ebcb-47a8-99d2-80bad1b3266a",
   "metadata": {},
   "outputs": [],
   "source": [
    "# define kinetic energy based on velocity \n",
    "E_kinetic = 0.5 * mass * vsmooth**2\n",
    "\n",
    "# define potential energy based on x and our determined 'k' value\n",
    "E_potential = 0.5 * k_exp * x**2\n",
    "\n",
    "# combine results to total energy\n",
    "E_total = E_kinetic + E_potential[window:-window] #note we have to trim E_potential"
   ]
  },
  {
   "cell_type": "markdown",
   "id": "2441913b-0838-4038-a060-22a61d26df66",
   "metadata": {},
   "source": [
    "Plot the Results"
   ]
  },
  {
   "cell_type": "code",
   "execution_count": null,
   "id": "0e0d989d-6369-46d9-9bea-8f0010dee1e3",
   "metadata": {},
   "outputs": [],
   "source": [
    "plt.figure(figsize=(8,4))\n",
    "plt.plot(tv2,E_total,label='Total E')\n",
    "plt.plot(tv2,E_kinetic,label='Kinetic')\n",
    "plt.plot(t,E_potential,label='Potential')\n",
    "plt.xlabel('Time (s)')\n",
    "plt.ylabel('Energy (J)')\n",
    "plt.legend()\n",
    "plt.show()"
   ]
  },
  {
   "cell_type": "markdown",
   "id": "ff864892-e4e5-41cc-8777-8f408710cf4e",
   "metadata": {},
   "source": [
    "We can easily see that E_total is decreasing with time. This is the impact of friction where mechanical energy is 'lost' to $\\Delta E_{inernal}$. How much energy is lost over the time frame we're given?"
   ]
  },
  {
   "cell_type": "code",
   "execution_count": null,
   "id": "42ac035f-fb1e-4363-8f2c-9c742f73f5b6",
   "metadata": {},
   "outputs": [],
   "source": [
    "# find the 'starting' energy by taking an average of times from 0.0 to 0.5 seconds\n",
    "# Note an average is still appropriate here because of the presence of noise!\n",
    "E_start=np.mean(E_total[:45])\n",
    "\n",
    "# Do the same for the last part of the data we have from 4.5 to 5.0 seconds\n",
    "E_end=np.mean(E_total[-45:])\n",
    "\n",
    "# find the change in energy\n",
    "delta_E=E_end-E_start\n",
    "\n",
    "print(f\"The difference in system energy is: {delta_E:.2f}\")"
   ]
  },
  {
   "cell_type": "markdown",
   "id": "f305849f-57cf-48e7-8653-2954b2c8f8bb",
   "metadata": {},
   "source": [
    "### Determining the Coefficient of Kinetic Friction"
   ]
  },
  {
   "cell_type": "markdown",
   "id": "8bfc5d54-53aa-4811-b91a-9fd78e483c11",
   "metadata": {},
   "source": [
    "With the data in hand, we can determine the coefficent of kinetic friction $\\mu_k$. Recall that $\\Delta E_{int} = \\mu N d = \\mu m g d$. Where $N$ is the normal force (equal to $mg$ if were on a flat surface, which we will assume here), and $d$ is the distance traveled. "
   ]
  },
  {
   "cell_type": "markdown",
   "id": "7631bceb-77ae-4d14-96b4-bbd02f4a5ba8",
   "metadata": {},
   "source": [
    "Determine the distance traveled from our x array"
   ]
  },
  {
   "cell_type": "code",
   "execution_count": null,
   "id": "b8ee22e4-b47a-4d09-b2fb-8aa3521a4ba6",
   "metadata": {},
   "outputs": [],
   "source": [
    "#determine dx motion for each time step (roll is a clever way to do this, but feel free to look at other implementations if this is not clear)\n",
    "dx=x-np.roll(x,1)\n",
    "\n",
    "#determine total distance as the sum of dx. Note we have to cut off the fist value from the impact of np.roll, and need abs() because distances are scalar (without sign)\n",
    "dist=np.sum(np.abs(dx[1:]))\n",
    "\n",
    "#print distance traveled\n",
    "print(f\"The distance traveled by the mass in our data is: {dist:.2f} m\")"
   ]
  },
  {
   "cell_type": "markdown",
   "id": "cf1a9575-b306-472f-be8d-d611b4c478e4",
   "metadata": {},
   "source": [
    "Now let's use this along with the other information we have to find $\\mu_k$"
   ]
  },
  {
   "cell_type": "code",
   "execution_count": null,
   "id": "366180db-7219-41a5-b098-3f96873bb6aa",
   "metadata": {},
   "outputs": [],
   "source": [
    "#calculate mu\n",
    "mu=(-delta_E)/(mass*9.81*dist) # Note we take delta E to be negative here because energy 'lost' by the system is 'gained' by delta_E_int\n",
    "\n",
    "print( f'coefficient of static friction is: {mu:.2f}') "
   ]
  },
  {
   "cell_type": "markdown",
   "id": "a9d8763e-b12a-4a51-a049-b671143b7754",
   "metadata": {},
   "source": [
    "Note this problem would not be easy to solve analytically because we'd have no way of keeping track of total distance traveled. But this approach allows us to do it!"
   ]
  },
  {
   "cell_type": "code",
   "execution_count": null,
   "id": "90f4de42-4b4c-4ff6-9d0a-c4d2ba92d273",
   "metadata": {},
   "outputs": [],
   "source": []
  }
 ],
 "metadata": {
  "kernelspec": {
   "display_name": "Python 3 (ipykernel)",
   "language": "python",
   "name": "python3"
  },
  "language_info": {
   "codemirror_mode": {
    "name": "ipython",
    "version": 3
   },
   "file_extension": ".py",
   "mimetype": "text/x-python",
   "name": "python",
   "nbconvert_exporter": "python",
   "pygments_lexer": "ipython3",
   "version": "3.12.11"
  }
 },
 "nbformat": 4,
 "nbformat_minor": 5
}
