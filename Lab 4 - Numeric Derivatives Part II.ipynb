{
 "cells": [
  {
   "cell_type": "markdown",
   "id": "97428534-5af6-46e2-a7e1-9eda1c9b4818",
   "metadata": {},
   "source": [
    "# Lab 4: Numeric Derivatives Part II"
   ]
  },
  {
   "cell_type": "markdown",
   "id": "8cb5d315-f599-4fe2-bff5-bf2b0b9ca0dd",
   "metadata": {},
   "source": [
    "In this set of lab activities, we will investiate a set of data collected from a mass-spring system. Remember that we have the following equations that can describe a mass spring system:\n",
    "\n",
    "$$\n",
    "F_{sp} = - kx\n",
    "$$\n",
    "\n",
    "and\n",
    "\n",
    "$$\n",
    "U_{sp} = \\frac{1}{2} kx^2\n",
    "$$\n",
    "\n",
    "We will use both of these in approaches to better characterize the data that has been collected. "
   ]
  },
  {
   "cell_type": "markdown",
   "id": "c6e28993-4281-4053-9e6c-5156a315b321",
   "metadata": {},
   "source": [
    "## Activity 1: An Ideal Mass Spring System "
   ]
  },
  {
   "cell_type": "markdown",
   "id": "2fc017bd-5d5b-4929-b539-3be07cf8c5e6",
   "metadata": {},
   "source": [
    "In this first activity, we will consider data from an 'ideal' mass spring system that does not contain noise (Note this is not real experimental data that will always contain noise, but it has been generated via other means for our purposes here)"
   ]
  },
  {
   "cell_type": "markdown",
   "id": "55a60b74-8c63-4c45-ab6b-2fdcaf19f262",
   "metadata": {},
   "source": [
    "First, import functions and load in data"
   ]
  },
  {
   "cell_type": "code",
   "execution_count": null,
   "id": "3bfa94eb-2186-4fa7-a7fa-6d3973c72cef",
   "metadata": {},
   "outputs": [],
   "source": [
    "import matplotlib.pyplot as plt\n",
    "import numpy as np"
   ]
  },
  {
   "cell_type": "code",
   "execution_count": null,
   "id": "1ae1bb30-e770-4a46-a094-32c7950d0226",
   "metadata": {},
   "outputs": [],
   "source": [
    "#load in dataset 1\n",
    "data1=np.loadtxt('Lab_Data/Mass_Spring_Ideal.csv',delimiter=',') #replace with your path to the appropriate .csv file\n",
    "\n",
    "#determine shpae of data\n",
    "np.shape(data1)"
   ]
  },
  {
   "cell_type": "markdown",
   "id": "6e8020ec-e674-4c8e-9938-ef3ab1ca5187",
   "metadata": {},
   "source": [
    "The data contains two colums, the first is time in seconds, the second is x position in meters"
   ]
  },
  {
   "cell_type": "code",
   "execution_count": null,
   "id": "f409a79d-75b3-40b8-b699-ef9931bbd6e5",
   "metadata": {},
   "outputs": [],
   "source": [
    "t = data1[:,0] #unpack time data\n",
    "x = data1[:,1] #unpack position data"
   ]
  },
  {
   "cell_type": "markdown",
   "id": "fc9d063f-7949-4fd9-83b9-0bd60d971db6",
   "metadata": {},
   "source": [
    "Let's plot and examine the data"
   ]
  },
  {
   "cell_type": "code",
   "execution_count": null,
   "id": "c05ae7f0-e763-4c6b-bee0-c2bec478c917",
   "metadata": {},
   "outputs": [],
   "source": [
    "plt.figure()\n",
    "\n",
    "plt.plot(t,x,label='x(t)')\n",
    "\n",
    "#plt.legend()\n",
    "\n",
    "plt.ylabel('Postion (m)')\n",
    "plt.xlabel('time (s)')\n",
    "\n",
    "plt.show()"
   ]
  },
  {
   "cell_type": "markdown",
   "id": "336618a3-3027-4ac5-8688-4f6fb2f7a7bf",
   "metadata": {},
   "source": [
    "We will want to take derivatives of this function to get velocity and acceleration for the system. "
   ]
  },
  {
   "cell_type": "code",
   "execution_count": null,
   "id": "74d9ce29-f511-44d0-bd33-8fd55ff6863e",
   "metadata": {},
   "outputs": [],
   "source": [
    "# Define central difference function -  Take a look at the code to verify that it does what you'd expect\n",
    "def CentralDiff(x,y): \n",
    "    h=x[1]-x[0] #find h based on delta x of data points\n",
    "    forward = np.roll(y,-1) #forward step\n",
    "    backward = np.roll(y,+1) #backward step\n",
    "    dycd=(forward-backward)/(2*h) #perform difference\n",
    "    dycd=dycd[1:-1] #trim boundaries\n",
    "    dxcd=x[1:-1] #trim boundaries\n",
    "    return dxcd, dycd #return the array of the central difference values"
   ]
  },
  {
   "cell_type": "code",
   "execution_count": null,
   "id": "63cf68ae-45b1-44d8-a4f2-4a2cb4158d06",
   "metadata": {},
   "outputs": [],
   "source": [
    "# Define 2nd derivative central difference function - Take a look at the code to verify that it does what you'd expect\n",
    "def CDiff_d2f(x,y): \n",
    "    h=x[1]-x[0] #find h based on delta x of data points\n",
    "    forward = np.roll(y,-1) #forward step\n",
    "    backward = np.roll(y,+1) #backward step\n",
    "    d2f = (forward - 2 * y + backward) / h**2 #2nd derivative approximation\n",
    "    d2f=d2f[1:-1] #trim boundaries\n",
    "    dx=x[1:-1] #trim boundaries\n",
    "    return dx, d2f #return the array of 2nd derivative values"
   ]
  },
  {
   "cell_type": "code",
   "execution_count": null,
   "id": "9a9a0dcd-63bb-4f19-9d3c-fa0e0e2f6a37",
   "metadata": {},
   "outputs": [],
   "source": [
    "# run central difference to get velocity and corresponding time array\n",
    "t_v,v=CentralDiff(t,x)\n",
    "\n",
    "# run 2nd derivative central difference to get acceleration and corresponding time array\n",
    "t_a,a=CDiff_d2f(t,x)"
   ]
  },
  {
   "cell_type": "markdown",
   "id": "d05ce249-6e49-4764-8bb9-93c60e57133f",
   "metadata": {},
   "source": [
    "Plot the results"
   ]
  },
  {
   "cell_type": "code",
   "execution_count": null,
   "id": "3704d541-7577-400f-960e-c716414b5fc3",
   "metadata": {},
   "outputs": [],
   "source": [
    "#we'll use subplots here to make the data easier to see. If plotted together the accelration is much larger amplitude than position. \n",
    "fig, axs = plt.subplots(nrows=3, ncols=1, sharex=True, figsize=(8, 6))\n",
    "\n",
    "axs[0].plot(t,x, color='blue')\n",
    "axs[0].set_ylabel('Position (m)')\n",
    "\n",
    "axs[1].plot(t_v,v, color='green')\n",
    "axs[1].set_ylabel('Velocity (m/s)')\n",
    "\n",
    "\n",
    "axs[2].plot(t_a,a, color='red')\n",
    "axs[2].set_ylabel(r'Acceleration (m/s$^2$)')\n",
    "axs[2].set_xlabel('Time (s)') \n",
    "\n",
    "# Adjust layout to prevent titles/labels from overlapping\n",
    "plt.tight_layout()\n",
    "\n",
    "# Display the plot\n",
    "plt.show()"
   ]
  },
  {
   "cell_type": "markdown",
   "id": "e721a2f2-a7ab-4730-bbf3-8fe83cba6d53",
   "metadata": {},
   "source": [
    "From this we can see that we have the expected behavior in terms of phase. Both position and acceleration are matched in phase, while velocity is out of phase. "
   ]
  },
  {
   "cell_type": "markdown",
   "id": "1dd794ee-1375-4b3a-bc3c-39a9b22aa27c",
   "metadata": {},
   "source": [
    "Now let's see if we can determine the spring constant value 'k' from the data. Recall that $F=ma$ and $F=-kx$. "
   ]
  },
  {
   "cell_type": "code",
   "execution_count": null,
   "id": "3f626cfc-b1cf-445a-98c5-398d966edcc9",
   "metadata": {},
   "outputs": [],
   "source": [
    "# for the experiment, our object mass was 350 g\n",
    "mass = 0.350\n",
    "\n",
    "# define force\n",
    "Force = mass * a"
   ]
  },
  {
   "cell_type": "markdown",
   "id": "1261ade7-85b0-49bb-9ea7-3a0878c87bdd",
   "metadata": {},
   "source": [
    "Now let's make a plot of Force vs position "
   ]
  },
  {
   "cell_type": "code",
   "execution_count": null,
   "id": "934fa178-bacb-4cf9-b360-76bde9b77334",
   "metadata": {},
   "outputs": [],
   "source": [
    "plt.figure()\n",
    "plt.title('Force vs. Position')\n",
    "plt.plot(x[1:-1],Force,'.m') #note the x array must be trimmed to match the length of Force\n",
    "plt.show()"
   ]
  },
  {
   "cell_type": "markdown",
   "id": "ca9ace2a-abe5-4b2a-a9c5-75624fdc1ef1",
   "metadata": {},
   "source": [
    "Note the linear relationship, which is expected! Our value of 'k' is equal to the negative slope. Let's determine that next!"
   ]
  },
  {
   "cell_type": "code",
   "execution_count": null,
   "id": "5d9de776-d80f-4d64-8981-2d4ecd97780a",
   "metadata": {},
   "outputs": [],
   "source": [
    "# Numpy has a handy curve fitting routine for polynomials we will use here. \n",
    "coefs = np.polyfit(x[1:-1],Force, 1) #feed it the plotted values. The last argument says fit it as a linear function\n",
    "\n",
    "# Extract the slope and intercept\n",
    "slope = coefs[0]\n",
    "intercept = coefs[1]\n",
    "\n",
    "# get the determined k value\n",
    "k_exp=-1*slope\n",
    "\n",
    "print(f\"The spring constant derived from the data is: {k_exp:.2f}\")"
   ]
  },
  {
   "cell_type": "markdown",
   "id": "379eed20-88e5-4425-b2af-9269ad2b5ff2",
   "metadata": {},
   "source": [
    "The actual spring constant was 70 N/m. How close were we?"
   ]
  },
  {
   "cell_type": "code",
   "execution_count": null,
   "id": "ecf2d9cc-e367-4b08-8f03-c908e7ebf2ad",
   "metadata": {},
   "outputs": [],
   "source": [
    "#determine percent difference from expected value\n",
    "k_actual=70\n",
    "\n",
    "k_err=np.abs(k_exp-k_actual)/k_actual*100\n",
    "\n",
    "print(f\"The percent difference in the spring constant is: {k_err:.2f} %\")"
   ]
  },
  {
   "cell_type": "markdown",
   "id": "cdab76f4-7ed1-4001-b52d-f6e5a3441784",
   "metadata": {},
   "source": [
    "Now, what about energy conservation?"
   ]
  },
  {
   "cell_type": "code",
   "execution_count": null,
   "id": "af64c534-6c44-41e9-a8a6-1b0f74b3bd92",
   "metadata": {},
   "outputs": [],
   "source": [
    "# define kinetic energy based on velocity \n",
    "E_kinetic = 0.5 * mass * v**2\n",
    "\n",
    "# define potential energy based on x and our determined 'k' value\n",
    "E_potential = 0.5 * k_exp * x**2\n",
    "\n",
    "# combine results to total energy\n",
    "E_total = E_kinetic + E_potential[1:-1] #note we have to trim E_potential a bit to match the len of E_kinetic"
   ]
  },
  {
   "cell_type": "markdown",
   "id": "45ebbe21-9306-463f-9e18-9c9ed03038cc",
   "metadata": {},
   "source": [
    "Plot the results"
   ]
  },
  {
   "cell_type": "code",
   "execution_count": null,
   "id": "5aece705-82d3-42c9-a395-a6dbe7fae734",
   "metadata": {},
   "outputs": [],
   "source": [
    "plt.figure(figsize=(8,4))\n",
    "plt.plot(t_v,E_total,label='Total E')\n",
    "plt.plot(t_v,E_kinetic,label='Kinetic')\n",
    "plt.plot(t,E_potential,label='Potential')\n",
    "plt.xlabel('Time (s)')\n",
    "plt.ylabel('Energy (J)')\n",
    "plt.legend()\n",
    "plt.show()"
   ]
  },
  {
   "cell_type": "markdown",
   "id": "2d9890e4-7003-4e2e-867f-e6b3bb384d4d",
   "metadata": {},
   "source": [
    "Note the behavior of E_total is not exactly as expected because it has 'wiggles' rather than being constant. Don't worry, this is just the impact of rounding errors in this sort of approach!"
   ]
  },
  {
   "cell_type": "code",
   "execution_count": null,
   "id": "7adc86f5-82ab-47d2-b2fc-1252b946c93d",
   "metadata": {},
   "outputs": [],
   "source": [
    "# let's determine system energy by taking the average\n",
    "Eavg=np.mean(E_total)\n",
    "\n",
    "# determine the scatter in energy via the standard deviation\n",
    "Estd=np.std(E_total)\n",
    "\n",
    "# print the energy with an error bar based on the scatter\n",
    "print(f\"The Total Energy: {Eavg:.2f} +/- {Estd:.2f} J\")\n"
   ]
  },
  {
   "cell_type": "markdown",
   "id": "3d485545-6bbd-4b24-ad81-f126bf3b5106",
   "metadata": {},
   "source": [
    "## Activity 2: A Mass Spring System with Realistic Noise"
   ]
  },
  {
   "cell_type": "markdown",
   "id": "f7e72ab9-b4f9-4846-86d4-9e74ea06194c",
   "metadata": {},
   "source": [
    "In this activity, we will consider data a more realistic dataset that has measurment noise included. "
   ]
  },
  {
   "cell_type": "code",
   "execution_count": null,
   "id": "a47fc122-1f13-49f1-a65f-4e829e8002d5",
   "metadata": {},
   "outputs": [],
   "source": [
    "#load in the new data set\n",
    "#load in dataset 1\n",
    "data2=np.loadtxt('Lab_Data/Mass_Spring_Noise.csv',delimiter=',') #replace with your path to the appropriate .csv file\n",
    "\n",
    "#unpack the data\n",
    "t = data2[:,0]\n",
    "x = data2[:,1]\n"
   ]
  },
  {
   "cell_type": "markdown",
   "id": "14703779-e27a-4f81-bf8d-730ee9ec6e2a",
   "metadata": {},
   "source": [
    "Plot the data x vs t"
   ]
  },
  {
   "cell_type": "code",
   "execution_count": null,
   "id": "076d531e-d7a3-4334-968a-32d888b03a31",
   "metadata": {},
   "outputs": [],
   "source": [
    "### Add your code here\n",
    "\n",
    "\n",
    "\n",
    "\n",
    "\n"
   ]
  },
  {
   "cell_type": "markdown",
   "id": "fd23e399-2ed9-4646-9f4d-adf0307319e1",
   "metadata": {},
   "source": [
    "Next, we will want to determine the derivatives of x(t) to find v(t) and a(t). We will repeat the steps as done in activity #1"
   ]
  },
  {
   "cell_type": "code",
   "execution_count": null,
   "id": "58165a54-82ca-44ff-a869-0e68f7d5a792",
   "metadata": {},
   "outputs": [],
   "source": [
    "# run central difference to get velocity and corresponding time array\n",
    "t_v,v=CentralDiff(t,x)\n",
    "\n",
    "# run 2nd derivative central difference to get acceleration and corresponding time array\n",
    "t_a,a=CDiff_d2f(t,x)"
   ]
  },
  {
   "cell_type": "markdown",
   "id": "edbac521-2071-4914-81a2-fc5d239bbb1d",
   "metadata": {},
   "source": [
    "Plot the results. What do you notice here?"
   ]
  },
  {
   "cell_type": "code",
   "execution_count": null,
   "id": "a6eda471-a827-486e-895a-03cb28454c51",
   "metadata": {},
   "outputs": [],
   "source": [
    "#we'll use subplots here to make the data easier to see. If plotted together the accelration is much larger amplitude than position. \n",
    "fig, axs = plt.subplots(nrows=3, ncols=1, sharex=True, figsize=(8, 6))\n",
    "\n",
    "axs[0].plot(t,x, color='blue')\n",
    "axs[0].set_ylabel('Position (m)')\n",
    "\n",
    "axs[1].plot(t_v,v, color='green')\n",
    "axs[1].set_ylabel('Velocity (m/s)')\n",
    "\n",
    "\n",
    "axs[2].plot(t_a,a, color='red')\n",
    "axs[2].set_ylabel(r'Acceleration (m/s$^2$)')\n",
    "axs[2].set_xlabel('Time (s)') \n",
    "\n",
    "# Adjust layout to prevent titles/labels from overlapping\n",
    "plt.tight_layout()\n",
    "\n",
    "# Display the plot\n",
    "plt.show()"
   ]
  },
  {
   "cell_type": "markdown",
   "id": "9d9314ec-20a2-43ee-b903-7022aaa849f4",
   "metadata": {},
   "source": [
    "Punchline - even small noise almost completely obliterates the 2nd derivative in this form... How can we fix it? Lets revisit smoothing!"
   ]
  },
  {
   "cell_type": "code",
   "execution_count": null,
   "id": "f37faa5c-b8ab-48a1-8da8-5cd52bac6cd4",
   "metadata": {},
   "outputs": [],
   "source": [
    "#define a smoothing function\n",
    "def smooth(x,n,wrap=False):\n",
    "    A=np.zeros((n,len(x)))\n",
    "    for i in range(0,n):\n",
    "        A[i]=np.roll(x,i)\n",
    "    sdata=np.mean(A,axis=0)\n",
    "    if wrap==True:\n",
    "        sdata=np.roll(sdata,np.int32(-n/2)) #wrap data if appropriate\n",
    "    else:\n",
    "        sdata=sdata[n:-n] #trim returned data if not wrap\n",
    "    return sdata"
   ]
  },
  {
   "cell_type": "markdown",
   "id": "68fbd979-ef1d-424e-a989-b2ac9496141f",
   "metadata": {},
   "source": [
    "Try smoothing data before taking derivatives. Also, we will take two first order derivatives rather than the single 2nd order step, which is heavily impacted by noise"
   ]
  },
  {
   "cell_type": "code",
   "execution_count": null,
   "id": "06b88d9a-38c5-49dd-a86a-2fc8c4663202",
   "metadata": {},
   "outputs": [],
   "source": [
    "#perform smoothing\n",
    "xsmooth=smooth(x,11)\n",
    "\n",
    "# do centeral difference. Note we will have some trimming required due to smoothing function (no wrapping assumed here)\n",
    "t_v,v=CentralDiff(t[11:-11],xsmooth)\n",
    "\n",
    "#perform smoothing\n",
    "vsmooth=smooth(v,11)\n",
    "\n",
    "# do centeral difference. Note we will have some trimming required due to smoothing function (no wrapping assumed here)\n",
    "t_a,a=CentralDiff(t_v[11:-11],vsmooth)"
   ]
  },
  {
   "cell_type": "markdown",
   "id": "d40c71c6-28cb-4406-9545-d833d5229378",
   "metadata": {},
   "source": [
    "Plot the updated results with the smoothed functions"
   ]
  },
  {
   "cell_type": "code",
   "execution_count": null,
   "id": "a14db1c9-1852-4a8c-99ef-1591fe8b803d",
   "metadata": {},
   "outputs": [],
   "source": [
    "#we'll use subplots here to make the data easier to see. If plotted together the accelration is much larger amplitude than position. \n",
    "fig, axs = plt.subplots(nrows=3, ncols=1, sharex=True, figsize=(8, 6))\n",
    "\n",
    "axs[0].plot(t,x, color='blue')\n",
    "axs[0].set_ylabel('Position (m)')\n",
    "\n",
    "axs[1].plot(t_v[11:-11],vsmooth, color='green')\n",
    "axs[1].set_ylabel('Velocity (m/s)')\n",
    "\n",
    "\n",
    "axs[2].plot(t_a,a, color='red')\n",
    "axs[2].set_ylabel(r'Acceleration (m/s$^2$)')\n",
    "axs[2].set_xlabel('Time (s)') \n",
    "\n",
    "# Adjust layout to prevent titles/labels from overlapping\n",
    "plt.tight_layout()\n",
    "\n",
    "# Display the plot\n",
    "plt.show()"
   ]
  },
  {
   "cell_type": "markdown",
   "id": "841fad3f-992b-4c47-88e7-6b43aced2396",
   "metadata": {},
   "source": [
    "Note the acceleration data now appears much more reasonable! We have lost some data on the edges, but this is unavoidable sometimes!"
   ]
  },
  {
   "cell_type": "markdown",
   "id": "704dc8d2-e568-4be3-bebe-e309dfbd925f",
   "metadata": {},
   "source": [
    "Next steps:\n",
    "\n",
    " - Determine the spring constant using the methods from activty #1\n",
    " - Look at energy conservation and determine the impact of noise on determining total energy"
   ]
  },
  {
   "cell_type": "code",
   "execution_count": null,
   "id": "5e869e1a-b451-4ba3-b7eb-4f547bbf6d00",
   "metadata": {},
   "outputs": [],
   "source": [
    "# Add code and cells below as needed"
   ]
  },
  {
   "cell_type": "code",
   "execution_count": null,
   "id": "b2c061ca-2e34-4f6e-a4fe-1964d79ca49b",
   "metadata": {},
   "outputs": [],
   "source": []
  }
 ],
 "metadata": {
  "kernelspec": {
   "display_name": "Python 3 (ipykernel)",
   "language": "python",
   "name": "python3"
  },
  "language_info": {
   "codemirror_mode": {
    "name": "ipython",
    "version": 3
   },
   "file_extension": ".py",
   "mimetype": "text/x-python",
   "name": "python",
   "nbconvert_exporter": "python",
   "pygments_lexer": "ipython3",
   "version": "3.12.11"
  }
 },
 "nbformat": 4,
 "nbformat_minor": 5
}
