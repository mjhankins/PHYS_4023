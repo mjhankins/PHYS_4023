{
 "cells": [
  {
   "cell_type": "markdown",
   "metadata": {},
   "source": [
    "# Sine Series Activity\n",
    "\n",
    "*An Introduction to series and recursion*"
   ]
  },
  {
   "cell_type": "markdown",
   "metadata": {},
   "source": [
    "## The Taylor Series of sin(x)\n",
    "\n",
    "The $\\sin$ function can be evaluatied using it series representation, which you should be at least somewhat familiar with from calculus:\n",
    "$$\n",
    "\\sin x = x - \\frac{x^3}{3!} + \\frac{x^5}{5!} - \\frac{x^7}{7!} + \\dots\n",
    "$$\n"
   ]
  },
  {
   "cell_type": "markdown",
   "metadata": {},
   "source": [
    "A simple approach to implementing this series as an algorithm is to sum the series up to the $N$th term:\n",
    "$$\n",
    "\\sin x \\approx \\sum_{n=1}^N \\frac{(-1)^{n-1} x^{2n-1}}{(2n - 1)!}\n",
    "$$"
   ]
  },
  {
   "cell_type": "markdown",
   "metadata": {},
   "source": [
    "However, there are some issues to consider with this 'direct' method:\n",
    "- In theory, the series is infinite, how do we know when to stop the sum?\n",
    "- The division of large terms is potentially dangerous leading to overflows\n",
    "- Powers and factorials are computationally expensive!"
   ]
  },
  {
   "cell_type": "markdown",
   "metadata": {},
   "source": [
    "### Building a better algorithm"
   ]
  },
  {
   "cell_type": "markdown",
   "metadata": {},
   "source": [
    "To address the first bullet point, one can use a recursive algorithm. Recusion works by calculating series terms $a_n$ using previous the term $a_{n-1}$. This generally works well for series sums that converge to finite values. Specifically in the case of sine we can write the recursion relation as:\n",
    "\n",
    "\\begin{align}\n",
    "a_n &= a_{n-1} \\times q_n\\\\\n",
    "a_n &= \\frac{(-1)^{n-1} x^{2n-1}}{(2n - 1)!} = \\frac{(-1)^{n-2} x^{2n-3}}{(2n - 3)!} \\frac{-x^2}{(2n - 1)(2n - 2)}\\\\\n",
    "a_n & = a_{n-1} \\frac{-x^2}{(2n - 1)(2n - 2)}\n",
    "\\end{align}"
   ]
  },
  {
   "cell_type": "markdown",
   "metadata": {},
   "source": [
    "Accuracy in this method can be approximately the last term in the sum, $a_N$. This approach is relative error rather than absolute (which is not straighforward), but it is sufficient for our purposes. Ideally, we should aim for error to be better than machine precision. "
   ]
  },
  {
   "cell_type": "markdown",
   "metadata": {},
   "source": [
    "## Activity\n",
    "\n",
    "Create a function called `sin_recursive`. An outline is provided in the next cell, but you will need to add some code to complete it. The function should:\n",
    "* Use the recursive approach discussed above \n",
    "* return the computed value of $\\sin(x)$\n",
    "\n",
    "Examine the behavior of the function by picking arguments to feed `sin_recursive` and plot the resulting error\n",
    "* A function `relerror_sin` is provided to to help with this part\n",
    "* Simply follow the instructions in the cells below and add code as needed"
   ]
  },
  {
   "cell_type": "code",
   "execution_count": null,
   "metadata": {},
   "outputs": [],
   "source": [
    "def sin_recursive(x, N=1000):\n",
    "    \"\"\"\n",
    "    Calculate sin(x)\n",
    "    x: argument of sin(x)\n",
    "    N: nth term in expansion\n",
    "    \"\"\"\n",
    "    t0 = x #first order term\n",
    "    tl = x #initialize sum\n",
    "    \n",
    "    for n in range(2,N):\n",
    "\n",
    "        ### Add your code here...\n",
    "\n",
    "\n",
    "\n",
    "        \n",
    "        \n",
    "    return tl"
   ]
  },
  {
   "cell_type": "code",
   "execution_count": null,
   "metadata": {},
   "outputs": [],
   "source": [
    "def relerror_sin(N_values, x):\n",
    "    \"\"\"\n",
    "    Calculate the relative error in our sin(x) function using the numpy sin(x) for comparison\n",
    "    N_values: array of values of N to pass to sin_recursive\n",
    "    x: argument of sin(x)\n",
    "    \"\"\"\n",
    "    npsine = np.sin(x) #use numpy sine for comparison\n",
    "    y = np.array([sin_recursive(x, N=N) for N in N_values]) #calculate sine for each arguement in the 'x' array\n",
    "    diff = y - npsine #determine difference in values\n",
    "    relative_error = np.abs(diff/npsine) #get relative error\n",
    "    return relative_error"
   ]
  },
  {
   "cell_type": "markdown",
   "metadata": {},
   "source": [
    "## Evaluation and plotting with single value"
   ]
  },
  {
   "cell_type": "code",
   "execution_count": null,
   "metadata": {},
   "outputs": [],
   "source": [
    "import numpy as np\n",
    "import matplotlib.pyplot as plt"
   ]
  },
  {
   "cell_type": "markdown",
   "metadata": {},
   "source": [
    "Start by defining a value of x to test our function with (e.g., $x = \\pi/3$, etc.)\n",
    "Then perform a single percent error calculation for the function compared to the \n",
    "numpy implementaiton of $sin(x)$. Use the default $N$ value for this initial \n",
    "evaluation of sin_recursive(x)"
   ]
  },
  {
   "cell_type": "code",
   "execution_count": null,
   "metadata": {},
   "outputs": [],
   "source": [
    "testvalue = ... #add your code here"
   ]
  },
  {
   "cell_type": "markdown",
   "metadata": {},
   "source": [
    "Now let's see how well the function converges for our test value for different values of N. "
   ]
  },
  {
   "cell_type": "code",
   "execution_count": null,
   "metadata": {},
   "outputs": [],
   "source": [
    "N_values = np.arange(1, 1000)\n",
    "r = relerror_sin(N_values, testvalue)"
   ]
  },
  {
   "cell_type": "code",
   "execution_count": null,
   "metadata": {},
   "outputs": [],
   "source": [
    "plt.figure()\n",
    "plt.loglog(r)\n",
    "plt.xlabel(\"N\")\n",
    "plt.ylabel(\"relative error\")\n",
    "plt.show()"
   ]
  },
  {
   "cell_type": "markdown",
   "metadata": {},
   "source": [
    "## Evaluation and plotting with multiple values"
   ]
  },
  {
   "cell_type": "markdown",
   "metadata": {
    "execution": {
     "iopub.execute_input": "2023-09-12T14:25:14.973499Z",
     "iopub.status.busy": "2023-09-12T14:25:14.973150Z",
     "iopub.status.idle": "2023-09-12T14:25:14.995829Z",
     "shell.execute_reply": "2023-09-12T14:25:14.993935Z",
     "shell.execute_reply.started": "2023-09-12T14:25:14.973473Z"
    }
   },
   "source": [
    "Now, let's examine the function in a more systematic fashion. Define an array of x values that are multiples of $\\pi$ (pick at least 4), and a list of N values (this is already done for you)"
   ]
  },
  {
   "cell_type": "code",
   "execution_count": null,
   "metadata": {},
   "outputs": [],
   "source": [
    "x_values = np.array([....]) #add your code here\n",
    "N_values = np.arange(1, 300)"
   ]
  },
  {
   "cell_type": "markdown",
   "metadata": {},
   "source": [
    "Let's now run the relative error function to test the angle values. Create a plot below to examine the convergence. You can use the earlier plot code to assist with this part. But please add a legend to aid in differentiating the angle values. "
   ]
  },
  {
   "cell_type": "code",
   "execution_count": null,
   "metadata": {},
   "outputs": [],
   "source": [
    "plt.figure()\n",
    "\n",
    "### Add your code here.\n",
    "\n",
    "\n",
    "\n",
    "\n",
    "\n",
    "\n",
    "plt.xlabel(\"N\")\n",
    "plt.ylabel(\"relative error\")\n",
    "plt.show()"
   ]
  },
  {
   "cell_type": "markdown",
   "metadata": {},
   "source": [
    "### Next Steps:\n",
    "Add code cells below as needed to perform the following tasks:\n",
    "* Feed a large range of x values to `recursive sine`. Use this to determine an inverval over which the algorithm converges and agrees well with the numpy sin(x) function\n",
    "* Following from the first item, demonstrate that there is a range of x values  converges but it converges to an incorrect value (why is this?)\n",
    "* Show that for large x, there is a regime where the algorithm does not converge\n",
    "* Finally, create a new (and improved) recursive sin function with an added input variable 'eps' to specify the desired accuracy. Have the function return early if the desired accuracy is reached before the specified 'N' value. Have the function return both the value of sin(x) and the 'N' value where the calculation terminated. \n",
    "* After making the new (and improved) recursive sine function, compare its performance with the original function in terms of accuracy and time (simply use the built in function %time). *Note:* it may take many evaluations (looping) to get robust timing results."
   ]
  },
  {
   "cell_type": "code",
   "execution_count": null,
   "metadata": {},
   "outputs": [],
   "source": [
    "..."
   ]
  }
 ],
 "metadata": {
  "anaconda-cloud": {},
  "kernelspec": {
   "display_name": "Python 3 (ipykernel)",
   "language": "python",
   "name": "python3"
  },
  "language_info": {
   "codemirror_mode": {
    "name": "ipython",
    "version": 3
   },
   "file_extension": ".py",
   "mimetype": "text/x-python",
   "name": "python",
   "nbconvert_exporter": "python",
   "pygments_lexer": "ipython3",
   "version": "3.12.11"
  }
 },
 "nbformat": 4,
 "nbformat_minor": 4
}
