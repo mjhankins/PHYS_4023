{
 "cells": [
  {
   "cell_type": "markdown",
   "id": "7667bd1c-2b02-4268-9746-507a02779163",
   "metadata": {},
   "source": [
    "# Investigating Supernova Lightcurves\n",
    "\n",
    "*An Introductory Lab activity for matplotlib and scipy curve_fit*"
   ]
  },
  {
   "cell_type": "code",
   "execution_count": null,
   "id": "de1208dc-c752-4a39-8c55-bffd729ee486",
   "metadata": {},
   "outputs": [],
   "source": [
    "import numpy as np # linear algebra\n",
    "import matplotlib.pyplot as plt #plotting tools"
   ]
  },
  {
   "cell_type": "code",
   "execution_count": null,
   "id": "5ee2a21c-0951-4a65-bae7-a5df76ac2ca1",
   "metadata": {},
   "outputs": [],
   "source": [
    "#optional - import data directly from Kaggle\n",
    "#import kagglehub "
   ]
  },
  {
   "cell_type": "markdown",
   "id": "705c23db-48e3-4cd8-b19e-8e3be532e1ba",
   "metadata": {},
   "source": [
    "## Activity 1: Examine Data from SN 1987A"
   ]
  },
  {
   "cell_type": "markdown",
   "id": "2c7a868a-19bd-4a1f-b7b9-91e8eed72702",
   "metadata": {},
   "source": [
    "### First, let's grab data from Kaggle and plot it"
   ]
  },
  {
   "cell_type": "code",
   "execution_count": null,
   "id": "fdddef60-98f0-46d5-8fe3-ab037253412e",
   "metadata": {},
   "outputs": [],
   "source": [
    "# if you have kaggle hub installed, you can simply run this cell. If not, use the cell below\n",
    "\n",
    "datapath = kagglehub.dataset_download(\"jonathanmushkin/lightcurve\")\n",
    "\n",
    "data=np.loadtxt(datapath+'/1987A bolometric lightcurve.txt',delimiter=',')"
   ]
  },
  {
   "cell_type": "code",
   "execution_count": null,
   "id": "9ce233ef-0fa1-49a4-8d8e-44d49fbea0eb",
   "metadata": {},
   "outputs": [],
   "source": [
    "# if you don't have kagglehub installed, you will need to download the data file \n",
    "# from https://www.kaggle.com/datasets/jonathanmushkin/lightcurve to use instead\n",
    "# and run the code below after changing the 'path2data' to the file location\n",
    "\n",
    "#specify path to data on your local machine or virtual environment\n",
    "path2data=\"\\home\\matt\"\n",
    "\n",
    "#data import\n",
    "data=np.loadtxt(path2data+'/1987A bolometric lightcurve.txt',delimiter=',')"
   ]
  },
  {
   "cell_type": "markdown",
   "id": "6fdded80-5594-45fe-bb66-9db3f642f87e",
   "metadata": {},
   "source": [
    "### Examine the data once it's been imported"
   ]
  },
  {
   "cell_type": "code",
   "execution_count": null,
   "id": "1f64d0a8-de9d-4b10-8dd5-4b4432146423",
   "metadata": {},
   "outputs": [],
   "source": [
    "#determine the shape of data\n",
    "print('Shape of data: ',np.shape(data))\n",
    "\n",
    "#Split the data into two 1D arrays\n",
    "days=_______  #fill in the blank\n",
    "loglum=_______ # fill in the blank"
   ]
  },
  {
   "cell_type": "markdown",
   "id": "9d4184fc-db95-45f7-94e6-66ecef146a87",
   "metadata": {},
   "source": [
    "### Plot the data to see what we're working with "
   ]
  },
  {
   "cell_type": "code",
   "execution_count": null,
   "id": "7e66d4c9-4f0e-475c-967a-0ae9a4b21e8a",
   "metadata": {},
   "outputs": [],
   "source": [
    "plt.figure()\n",
    "plt.scatter(days,loglum)\n",
    "plt.ylabel('Log Luminosity (erg/s)')\n",
    "plt.xlabel('Time Since Explosion (days)')\n",
    "plt.show()"
   ]
  },
  {
   "cell_type": "markdown",
   "id": "6f393c4a-f9e3-4c8d-a65a-0cc3cf44c1bc",
   "metadata": {},
   "source": [
    "### Determine where the peak (maximum) of the lightcurve occurs, and it's value in erg/s"
   ]
  },
  {
   "cell_type": "code",
   "execution_count": null,
   "id": "0536df9a-8828-4da6-b955-239502147cd6",
   "metadata": {},
   "outputs": [],
   "source": [
    "idx=_______# find the index of the maximum value of loglum\n",
    "\n",
    "maxtime=days[idx]\n",
    "maxlum=10**loglum[idx]\n",
    "\n",
    "#print the results\n",
    "print(f'The maximum lumniosity is: {maxlum[0]:.2e} erg/s at {maxtime[0]:.1f} days')\n",
    "print(f'Note, we will move to different analysis for now, but will return to this later...')"
   ]
  },
  {
   "cell_type": "markdown",
   "id": "733420b3-133f-40ba-bc21-1ede2adbf69e",
   "metadata": {},
   "source": [
    "## Activity 2: What powers a supernova explosion at late times (>120 days from explosion)?"
   ]
  },
  {
   "cell_type": "markdown",
   "id": "21ff5778-3c97-4f09-bab6-429c4f2b14cb",
   "metadata": {},
   "source": [
    "### Notice in the plot from activity 1, around 120 days is roughly where the data starts to look linear (but is not really linear because of the y-axis data is log(luminosity) rather than luminosity"
   ]
  },
  {
   "cell_type": "code",
   "execution_count": null,
   "id": "215bde89-15e0-49ff-8735-f743aa42e4f1",
   "metadata": {},
   "outputs": [],
   "source": [
    "#determine where the data excceeds 120 days\n",
    "idx=np.where(days>120)[0][0]\n",
    "\n",
    "#slice the arrays we have to only contain data greater than 120 days from explosion\n",
    "latetime=days[idx:]\n",
    "lateLClog=loglum[idx:]"
   ]
  },
  {
   "cell_type": "code",
   "execution_count": null,
   "id": "6975f082-93b9-4ee1-b5b2-c97e32fbba3e",
   "metadata": {},
   "outputs": [],
   "source": [
    "#let's convert the late time data from log luminosity to linear space which will be useful for the analysis\n",
    "lateLC=10**lateLClog"
   ]
  },
  {
   "cell_type": "code",
   "execution_count": null,
   "id": "21368622-3d56-4e34-91a0-4ecb81d32e5b",
   "metadata": {},
   "outputs": [],
   "source": [
    "# Plot the late time light curve\n",
    "# Include labels for x & y axes including units\n",
    "plt.figure()\n",
    "###\n",
    "### Insert your code here\n",
    "###\n",
    "plt.show()"
   ]
  },
  {
   "cell_type": "markdown",
   "id": "ba1b7b72-fa46-4251-a788-c7128e398d2c",
   "metadata": {},
   "source": [
    "### Notice this looks like exponential decay. That's because the late time energy is from radioactive decay!"
   ]
  },
  {
   "cell_type": "markdown",
   "id": "eef56a8e-0550-411e-8866-efd867d80da3",
   "metadata": {},
   "source": [
    "### Let's try to determine the nuclide by determining the half life"
   ]
  },
  {
   "cell_type": "code",
   "execution_count": null,
   "id": "5c75ce0e-6bf8-4bbb-9ddf-baafb862ae5e",
   "metadata": {},
   "outputs": [],
   "source": [
    "#develop a function that follows the expected decay law\n",
    "def emissionModel(t,A,tau):\n",
    "    x = A * np.exp(-t/tau)\n",
    "    return x"
   ]
  },
  {
   "cell_type": "code",
   "execution_count": null,
   "id": "91eeb23d-b3b9-4c95-93a5-d708aca374f3",
   "metadata": {},
   "outputs": [],
   "source": [
    "# let's start with a 'by eye' fitting of the data. \n",
    "\n",
    "A = 1.0E41 # Adjust value as neeed\n",
    "tau = 10. # Adjust value as needed\n",
    "\n",
    "#produce values of time and expected emission for the model for given values of A and tau\n",
    "modeltime = np.linspace(0,350,201)\n",
    "modelvalues=emissionModel(modeltime,A,tau)\n",
    "\n",
    "# note we will need to 'shift' the time of the data so that the start is near zero for the model to display correctly\n",
    "timeshifted=latetime-120."
   ]
  },
  {
   "cell_type": "code",
   "execution_count": null,
   "id": "e83dcee9-d3ee-448b-9196-9b6e116dd0f3",
   "metadata": {},
   "outputs": [],
   "source": [
    "# plot the data and model to determine the best fit 'by eye'\n",
    "# Note this doesn't have to be perfect, but we want somewhat close.\n",
    "\n",
    "plt.figure()\n",
    "plt.scatter(timeshifted,lateLC, label='Observed')\n",
    "plt.plot(modeltime,modelvalues,'r--',label='Model')\n",
    "plt.ylabel('Luminosity (erg/s)')\n",
    "plt.xlabel('Time Since Explosion (days+120)')\n",
    "plt.legend()\n",
    "plt.show()"
   ]
  },
  {
   "cell_type": "markdown",
   "id": "08353f5b-a175-467b-9a8a-2e05848fbdb4",
   "metadata": {},
   "source": [
    "### Once we have a satisfactory fit above, let's look at trying this again with scipy curve_fit"
   ]
  },
  {
   "cell_type": "code",
   "execution_count": null,
   "id": "16e550d2-efb1-450b-94bc-3fc52d72203e",
   "metadata": {},
   "outputs": [],
   "source": [
    "from scipy.optimize import curve_fit\n",
    "\n",
    "#perform curve fit\n",
    "opt=curve_fit(emissionModel,timeshifted,lateLC)\n",
    "\n",
    "#examine results\n",
    "print(f'fitted A value is: {opt[0][0]:.2e}')\n",
    "print(f'fitted tau value is: {opt[0][1]:.2e}')"
   ]
  },
  {
   "cell_type": "markdown",
   "id": "6146236a-3560-4c45-9fa5-4b6dd8fe053e",
   "metadata": {},
   "source": [
    "### Note these values clearly do not match what we determined earlier using our 'by eye' approach. That's because the fit failed!"
   ]
  },
  {
   "cell_type": "code",
   "execution_count": null,
   "id": "1452d646-3ea7-4932-9ad4-a5e06d5845d8",
   "metadata": {},
   "outputs": [],
   "source": [
    "# many complex models (things other than linear) can run into problems with auto fitting.\n",
    "# it is therefore important to provide an initial guess to improve the fitting process\n",
    "# let's use what we determiend before in the 'by eye' version\n",
    "\n",
    "#perform curve fit- take 2\n",
    "opt=curve_fit(emissionModel,timeshifted,lateLC,p0=[A,tau])\n",
    "\n",
    "#examine results\n",
    "print(f'fitted A value is: {opt[0][0]:.2e}')\n",
    "print(f'fitted tau value is: {opt[0][1]:.2e}')"
   ]
  },
  {
   "cell_type": "markdown",
   "id": "0d85b573-b91d-41f8-bc1a-f4f695f1bc33",
   "metadata": {},
   "source": [
    "### Plot the results to check for consistency"
   ]
  },
  {
   "cell_type": "code",
   "execution_count": null,
   "id": "00a6dcb6-6055-415a-86c7-314424f6b54b",
   "metadata": {},
   "outputs": [],
   "source": [
    "plt.figure()\n",
    "plt.scatter(timeshifted,lateLC, label='Observed')\n",
    "plt.plot(timeshifted,emissionModel(timeshifted,opt[0][0],opt[0][1]),'r--',label='curve_fit')\n",
    "plt.ylabel('Luminosity (erg/s)')\n",
    "plt.xlabel('Time Since Explosion (days+120)')\n",
    "plt.legend()\n",
    "plt.show()"
   ]
  },
  {
   "cell_type": "code",
   "execution_count": null,
   "id": "a9c1da83-4ea9-4eaf-8123-ebad04602137",
   "metadata": {},
   "outputs": [],
   "source": [
    "### use our tau value to determine the half life\n",
    "\n",
    "halflife=np.log(2)*tau\n",
    "\n",
    "print(f'The best-fit value for the half-life is: {halflife:.2f} days')"
   ]
  },
  {
   "cell_type": "markdown",
   "id": "7b3197d5-4b7e-4c9a-9c9d-594b4a02f2bd",
   "metadata": {},
   "source": [
    "### From spectroscopy, we know that SN explosions that have large amounts of $^{56}$Ni (6.1 days), which decays to $^{56}$Co (77.2 days), which decays to $^{56}$Fe (stable)"
   ]
  },
  {
   "cell_type": "markdown",
   "id": "824ddaf4-f34d-47d7-8683-d3ad71fad298",
   "metadata": {},
   "source": [
    "### Which species is more likely responsible? Why don't either half lives match exactly the expecation? take a moment to think on this one, but ask Dr. Hankins if you are still unsure about the way to interpret these results."
   ]
  },
  {
   "cell_type": "markdown",
   "id": "573ea0b4-9412-4189-a8ee-49d92947b388",
   "metadata": {},
   "source": [
    "## Activity 3: Estimating $^{56}$Ni Mass "
   ]
  },
  {
   "cell_type": "markdown",
   "id": "3d4e362f-7bce-473f-9948-36f60a51ecd4",
   "metadata": {},
   "source": [
    "### Clearly the decay chain from $^{56}$Ni -> $^{56}$Co -> $^{56}$Fe is important for explaining SN lightcurves at late times, but how much $^{56}$Ni is in the SN explosion?"
   ]
  },
  {
   "cell_type": "markdown",
   "id": "5f2868c9-4447-4510-9a48-71d772a8c548",
   "metadata": {},
   "source": [
    "### Arnett's law provides a relation of the peak lumnosity to the Ni-56 mass via:\n",
    "\n",
    "### $L_{peak} \\approx \\epsilon_{\\mathrm{Ni56}} M_{\\mathrm{Ni56}}  \\lambda_{\\mathrm{Ni56}} $\n",
    "\n",
    "### where $\\epsilon_{\\mathrm{Ni56}}$ is the energy produced per mass by $^{56}$Ni decay and $\\lambda$ is the decay constant"
   ]
  },
  {
   "cell_type": "code",
   "execution_count": null,
   "id": "167851cb-4c9b-47fe-be65-8d8477cc8210",
   "metadata": {},
   "outputs": [],
   "source": [
    "#look up parameters:\n",
    "epsilon=1.8E50 # energy produced by Ni-56 decay in ergs/solar mass\n",
    "Ni56_halflife=6.1*24*3600 #Ni-56 half life converted to seconds\n",
    "decay_constant=np.log(2)/Ni56_halflife #calculate decay constant\n",
    "\n",
    "#Use Arnnet's law to find the Nickle-56 mass using the values provided above. \n",
    "M_Ni56=____________ / _________________ #fill in the blanks\n",
    "\n",
    "print(f'The estimated Ni-56 mass is: {M_Ni56:.2e} the mass of the sun')"
   ]
  },
  {
   "cell_type": "markdown",
   "id": "2c0ea0f8-95d9-4d4f-88ed-836e7fa92756",
   "metadata": {},
   "source": [
    "### A short note that we should treat this estimate with caution, as Arnett's relation was originally derived for type-I supernova and SN1987A was a type II (and SN87A is even a pecular type II at that! So take this result with a 'grain of salt', but still interesting to see."
   ]
  },
  {
   "cell_type": "markdown",
   "id": "535a17d6-6e7b-4b4a-84cf-79fd26ebd270",
   "metadata": {},
   "source": [
    "# (Optional) Further reading"
   ]
  },
  {
   "cell_type": "markdown",
   "id": "f4e2e758-ac66-46aa-805a-09ae99307cc2",
   "metadata": {},
   "source": [
    "### SN 1987A- https://www.aavso.org/vsots_sn1987a and https://chandra.harvard.edu/deadstar/sn1987a.html\n",
    "\n",
    "### JWST & SN 1987A - https://science.nasa.gov/missions/webb/webb-finds-evidence-for-neutron-star-at-heart-of-young-supernova-remnant/\n",
    "\n",
    "### Example of SN Spectroscopy showing Ni, Co, Fe features - https://ui.adsabs.harvard.edu/abs/1994ApJ...426L..89K/abstract\n",
    "\n",
    "### Arnett's Law papers- https://ui.adsabs.harvard.edu/abs/1982ApJ...253..785A/abstract and https://ui.adsabs.harvard.edu/abs/1985Natur.314..337A/abstract"
   ]
  },
  {
   "cell_type": "code",
   "execution_count": null,
   "id": "712bc302-ab25-46a4-927c-288af4b5eed1",
   "metadata": {},
   "outputs": [],
   "source": []
  }
 ],
 "metadata": {
  "kernelspec": {
   "display_name": "Python 3 (ipykernel)",
   "language": "python",
   "name": "python3"
  },
  "language_info": {
   "codemirror_mode": {
    "name": "ipython",
    "version": 3
   },
   "file_extension": ".py",
   "mimetype": "text/x-python",
   "name": "python",
   "nbconvert_exporter": "python",
   "pygments_lexer": "ipython3",
   "version": "3.12.11"
  }
 },
 "nbformat": 4,
 "nbformat_minor": 5
}
