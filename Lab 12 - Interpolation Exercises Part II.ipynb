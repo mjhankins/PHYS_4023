{
 "cells": [
  {
   "cell_type": "markdown",
   "metadata": {},
   "source": [
    "# Lab 12: Interpolation Exercises Part II"
   ]
  },
  {
   "cell_type": "code",
   "execution_count": null,
   "metadata": {},
   "outputs": [],
   "source": [
    "import numpy as np\n",
    "from scipy.interpolate import lagrange\n",
    "from numpy.polynomial.polynomial import Polynomial\n",
    "import matplotlib.pyplot as plt"
   ]
  },
  {
   "cell_type": "markdown",
   "metadata": {},
   "source": [
    "### Activity 1: Legrange Interpolation\n",
    "\n",
    "What are the coefficients of the legrange polynomial for the function $f(x) = x^3$ with $x=[0,1,2]$?"
   ]
  },
  {
   "cell_type": "code",
   "execution_count": null,
   "metadata": {},
   "outputs": [],
   "source": [
    "x = np.array([0, 1, 2])\n",
    "y = x**3\n",
    "poly = lagrange(x, y)\n",
    "\n",
    "print(\"The fitted polynomial coefficients: \", poly.coef)\n",
    "print(\"Representing the equation: \", Polynomial(poly.coef[::-1]))"
   ]
  },
  {
   "cell_type": "markdown",
   "metadata": {},
   "source": [
    "Create a plot demonstrating the interpolation"
   ]
  },
  {
   "cell_type": "code",
   "execution_count": null,
   "metadata": {},
   "outputs": [],
   "source": [
    "x_new = np.arange(0, 2.1, 0.1)\n",
    "\n",
    "plt.scatter(x, y, label='data')\n",
    "\n",
    "plt.plot(x_new, Polynomial(poly.coef[::-1])(x_new), label='Interpolation')\n",
    "\n",
    "plt.plot(x_new, x_new**3, label=r\"True $f(x)$\", linestyle='-.')\n",
    "\n",
    "plt.xlabel('x')\n",
    "plt.ylabel('y') \n",
    "\n",
    "plt.legend()\n",
    "\n",
    "plt.show()"
   ]
  },
  {
   "cell_type": "markdown",
   "metadata": {},
   "source": [
    "Notice the interpolated results still travels through the provided 3 data points, but represents a different polynomial than the 'true' function. So our interpolation may deviate from expected values over the range $[0,2]$ because we haven't provided enough data to fully constrain a cubic polynomial. "
   ]
  },
  {
   "cell_type": "markdown",
   "metadata": {},
   "source": [
    "Now repeat the process using 4 data points. Still use the function $f(x) = x^3$, but use the points $x = [0,1,2,3]$ Find the new polynomial fit and compare with the result in the previous plot. "
   ]
  },
  {
   "cell_type": "code",
   "execution_count": null,
   "metadata": {},
   "outputs": [],
   "source": [
    "### Add Your Code Below ###\n",
    "\n",
    "\n",
    "\n",
    "\n"
   ]
  },
  {
   "cell_type": "code",
   "execution_count": null,
   "metadata": {},
   "outputs": [],
   "source": [
    "print(\"The fitted polynomial coefficients: \", poly.coef)\n",
    "print(\"Representing the equation: \", Polynomial(poly.coef[::-1]))"
   ]
  },
  {
   "cell_type": "markdown",
   "metadata": {},
   "source": [
    "Notice how the interpolated function now matches the 'true' function since the degree of the polynomial corresponds to $n-1$ of the $n$ sampled data points!"
   ]
  },
  {
   "cell_type": "markdown",
   "metadata": {},
   "source": [
    "### Activity 2: Barycentric Legrange Interpolation Example\n",
    "\n",
    "Consider the function $f(x) = 1/(1+25x^2)$ over the range (-1,1). Compute the interpolation, plot and compare the function and interpolation. Additionall plot the error as a function of x. "
   ]
  },
  {
   "cell_type": "code",
   "execution_count": null,
   "metadata": {},
   "outputs": [],
   "source": [
    "from scipy.interpolate import BarycentricInterpolator\n",
    "\n",
    "def func(x):\n",
    "    return 1/(1+25 * x**2)"
   ]
  },
  {
   "cell_type": "code",
   "execution_count": null,
   "metadata": {},
   "outputs": [],
   "source": [
    "#set number of data points to use\n",
    "n = 5\n",
    "\n",
    "#generate grid of 'n' x data points\n",
    "x = np.linspace(-1, 1, n)\n",
    "\n",
    "#call the Barycentric Interpolator on x\n",
    "poly = BarycentricInterpolator(x)\n",
    "\n",
    "#create polynomial function for the interpolator\n",
    "poly.set_yi(func(x))\n",
    "\n",
    "# create a more fine sampled x-grid for comparison\n",
    "xnew = np.linspace(-1, 1, 200)\n",
    "\n",
    "#perform interpolation\n",
    "y_interp = poly(xnew)\n",
    "\n",
    "# evalutate function on xnew\n",
    "yactual = func(xnew)\n",
    "\n",
    "#calculate error between interpolation and 'true' function\n",
    "efunc=np.abs(func(xnew) - poly(xnew))"
   ]
  },
  {
   "cell_type": "code",
   "execution_count": null,
   "metadata": {},
   "outputs": [],
   "source": [
    "plt.figure(figsize=(9,4))\n",
    "\n",
    "\n",
    "#create subplot comparing function with interpolation\n",
    "plt.subplot(1, 2, 1)\n",
    "plt.title('Comparing f(x) with Interpolant')\n",
    "plt.plot(xnew, func(xnew))\n",
    "plt.plot(xnew, poly(xnew))\n",
    "\n",
    "plt.xlabel('x')\n",
    "plt.ylabel('y') \n",
    "\n",
    "#create subplot for error function\n",
    "plt.subplot(1, 2, 2)\n",
    "plt.title('Error Function')\n",
    "plt.plot(xnew,efunc,'k-')\n",
    "\n",
    "plt.xlabel('x')\n",
    "plt.ylabel('y') \n",
    "\n",
    "\n",
    "plt.show()"
   ]
  },
  {
   "cell_type": "markdown",
   "metadata": {},
   "source": [
    "Try re-running the cells above for different nummber of interpolating points $N$ (E.g., try values 3, 7, 11, 21). Note the behavior where large $N$ gives better results in the middle of the data, but on the edges Runge phenomena become more significant!"
   ]
  },
  {
   "cell_type": "markdown",
   "metadata": {},
   "source": [
    "### Activity 3: Tracking a Satellite's Position via Interpolation"
   ]
  },
  {
   "cell_type": "markdown",
   "metadata": {},
   "source": [
    "Suppose we have the following data set that is tracking a satellite's altitude at 2 hour time intervals"
   ]
  },
  {
   "cell_type": "code",
   "execution_count": null,
   "metadata": {},
   "outputs": [],
   "source": [
    "time_measurements = np.array([0.0, 2.0, 4.0, 6.0, 8.0]) # in units hours\n",
    "altitude = np.array([420, 418, 422, 419, 421]) # in units km"
   ]
  },
  {
   "cell_type": "markdown",
   "metadata": {},
   "source": [
    "Use Lagrange interpolation to estimate altitude at t = 3.5 hours"
   ]
  },
  {
   "cell_type": "code",
   "execution_count": null,
   "metadata": {},
   "outputs": [],
   "source": [
    "poly = lagrange(time_measurements, altitude)\n",
    "\n",
    "# new time to find\n",
    "time_new = 3.5 \n",
    "\n",
    "#print predicted postions\n",
    "print(f\"Predicted postion at time {time_new} hours: {Polynomial(poly.coef[::-1])(time_new):.2f} \")"
   ]
  },
  {
   "cell_type": "markdown",
   "metadata": {},
   "source": [
    " Use the data provided to plot the interpolated altitude profile from t = 0 to t = 8 hours"
   ]
  },
  {
   "cell_type": "code",
   "execution_count": null,
   "metadata": {},
   "outputs": [],
   "source": [
    "### Add Your Code Below ###\n",
    "\n",
    "\n",
    "\n",
    "\n"
   ]
  },
  {
   "cell_type": "markdown",
   "metadata": {},
   "source": [
    "Find the maximum altitude predicted by the interpolation. What time is this expected to occur?"
   ]
  },
  {
   "cell_type": "code",
   "execution_count": null,
   "metadata": {},
   "outputs": [],
   "source": [
    "#define function as 'y' values\n",
    "y = Polynomial(poly.coef[::-1])(x_new)\n",
    "\n",
    "#find maximum\n",
    "maxval = np.max(y)\n",
    "\n",
    "#find time at minimum\n",
    "t_max=x_new[np.where(y==maxval)][0]\n",
    "\n",
    "print(f\"The predicted maximum altitude is: {maxval:.2f}, at time: {t_max:.1f}\")"
   ]
  },
  {
   "cell_type": "markdown",
   "metadata": {},
   "source": [
    "What is the predicted minimum value? What time is this expected to occur?"
   ]
  },
  {
   "cell_type": "code",
   "execution_count": null,
   "metadata": {},
   "outputs": [],
   "source": [
    "### ADD YOUR CODE BELOW ###\n",
    "\n",
    "\n",
    "\n"
   ]
  },
  {
   "cell_type": "markdown",
   "metadata": {},
   "source": [
    "### Activity 4: Temperature Profile Reconstruction"
   ]
  },
  {
   "cell_type": "markdown",
   "metadata": {},
   "source": [
    "Temperature sensors are placed at different positions along a 1-meter rod, providing us with the following data"
   ]
  },
  {
   "cell_type": "code",
   "execution_count": null,
   "metadata": {},
   "outputs": [],
   "source": [
    "positions = np.array([0.0, 0.2, 0.5, 0.8, 1.0])  # meters\n",
    "temperatures = np.array([100, 85, 70, 65, 60])   # Celsius"
   ]
  },
  {
   "cell_type": "markdown",
   "metadata": {},
   "source": [
    "Predict the temperature at x = 0.35 m via Legrange Interpolation"
   ]
  },
  {
   "cell_type": "code",
   "execution_count": null,
   "metadata": {},
   "outputs": [],
   "source": [
    "### Add Your Code Below ###\n",
    "\n",
    "\n",
    "\n",
    "\n"
   ]
  },
  {
   "cell_type": "markdown",
   "metadata": {},
   "source": [
    "Plot the complete temperature profile"
   ]
  },
  {
   "cell_type": "code",
   "execution_count": null,
   "metadata": {},
   "outputs": [],
   "source": [
    "x_new = np.arange(0, 1.01, 0.01)\n",
    "\n",
    "plt.scatter(positions, temperatures, label='data')\n",
    "\n",
    "plt.plot(x_new, Polynomial(poly.coef[::-1])(x_new), label='Interpolation')\n",
    "\n",
    "\n",
    "plt.xlabel('x')\n",
    "plt.ylabel('y') \n",
    "\n",
    "plt.legend()\n",
    "\n",
    "plt.show()"
   ]
  },
  {
   "cell_type": "markdown",
   "metadata": {},
   "source": [
    "We can derive even more information about the system in this case. Consider the derivative of the fitted polynomial as a way of approximating the temperature gradient across the rod. "
   ]
  },
  {
   "cell_type": "code",
   "execution_count": null,
   "metadata": {},
   "outputs": [],
   "source": [
    "print(\"Interpolated equation: \", Polynomial(poly.coef[::-1]))\n",
    "\n",
    "# define interpolated function so we don't overwrite it by mistake!\n",
    "Tprofile_poly = Polynomial(poly.coef[::-1])\n",
    "\n",
    "#Take derivative\n",
    "derivative_coefficients = np.polyder(poly.coef)\n",
    "\n",
    "print(\"Derivative of polynomial equation: \", Polynomial(derivative_coefficients[::-1]))\n",
    "\n",
    "# define interpolated function so we don't overwrite it by mistake!\n",
    "Tgrad_poly = Polynomial(derivative_coefficients[::-1])"
   ]
  },
  {
   "cell_type": "markdown",
   "metadata": {},
   "source": [
    "Take a moment to double check that the derivative is correct!"
   ]
  },
  {
   "cell_type": "markdown",
   "metadata": {},
   "source": [
    "Now plot the results"
   ]
  },
  {
   "cell_type": "code",
   "execution_count": null,
   "metadata": {},
   "outputs": [],
   "source": [
    "plt.figure(figsize=(6,8))\n",
    "\n",
    "#create subplot comparing function with interpolation\n",
    "plt.subplot(2, 1, 1)\n",
    "plt.plot(x_new, Tprofile_poly(x_new), label='Interpolation')\n",
    "plt.scatter(positions, temperatures, label='data')\n",
    "\n",
    "plt.legend()\n",
    "\n",
    "#plt.xlabel('x')\n",
    "plt.ylabel('y') \n",
    "\n",
    "#create subplot for error function\n",
    "plt.subplot(2, 1, 2)\n",
    "plt.plot(x_new, Tgrad_poly(x_new),'m-',  label = 'Gradient (predicted)')\n",
    "\n",
    "plt.xlabel('x')\n",
    "plt.ylabel('y') \n",
    "\n",
    "plt.legend()\n",
    "\n",
    "plt.show()"
   ]
  },
  {
   "cell_type": "markdown",
   "metadata": {},
   "source": [
    "Notice how these methods give us a wealth of additional information on various types of physical systems even with sparsely sampled points!"
   ]
  },
  {
   "cell_type": "code",
   "execution_count": null,
   "metadata": {},
   "outputs": [],
   "source": []
  }
 ],
 "metadata": {
  "kernelspec": {
   "display_name": "Python 3 (ipykernel)",
   "language": "python",
   "name": "python3"
  },
  "language_info": {
   "codemirror_mode": {
    "name": "ipython",
    "version": 3
   },
   "file_extension": ".py",
   "mimetype": "text/x-python",
   "name": "python",
   "nbconvert_exporter": "python",
   "pygments_lexer": "ipython3",
   "version": "3.12.11"
  }
 },
 "nbformat": 4,
 "nbformat_minor": 4
}
