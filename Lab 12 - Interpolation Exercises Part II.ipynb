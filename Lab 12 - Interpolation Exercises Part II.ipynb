{
 "cells": [
  {
   "cell_type": "markdown",
   "metadata": {},
   "source": [
    "# Lab 12: Interpolation Exercises Part II"
   ]
  },
  {
   "cell_type": "code",
   "execution_count": null,
   "metadata": {},
   "outputs": [],
   "source": [
    "import numpy as np\n",
    "from scipy.interpolate import lagrange\n",
    "from numpy.polynomial.polynomial import Polynomial\n",
    "import matplotlib.pyplot as plt"
   ]
  },
  {
   "cell_type": "markdown",
   "metadata": {},
   "source": [
    "### Activity 1: Legrange Interpolation\n",
    "\n",
    "What are the coefficients of the legrange polynomial for the function $f(x) = x^2$ with $x=[0,1,2]$?"
   ]
  },
  {
   "cell_type": "code",
   "execution_count": null,
   "metadata": {},
   "outputs": [],
   "source": [
    "x = np.array([0, 1, 2])\n",
    "y = x**3\n",
    "poly = lagrange(x, y)\n",
    "\n",
    "Polynomial(poly.coef[::-1]).coef"
   ]
  },
  {
   "cell_type": "markdown",
   "metadata": {},
   "source": [
    "Create a plot with the interpolation"
   ]
  },
  {
   "cell_type": "code",
   "execution_count": null,
   "metadata": {},
   "outputs": [],
   "source": [
    "x_new = np.arange(0, 2.1, 0.1)\n",
    "\n",
    "plt.scatter(x, y, label='data')\n",
    "\n",
    "plt.plot(x_new, Polynomial(poly.coef[::-1])(x_new), label='Polynomial')\n",
    "\n",
    "plt.plot(x_new, 3*x_new**2 - 2*x_new + 0*x_new,\n",
    "\n",
    "         label=r\"$3 x^2 - 2 x$\", linestyle='-.')\n",
    "\n",
    "plt.xlabel('x')\n",
    "plt.ylabel('y') \n",
    "\n",
    "plt.legend()\n",
    "\n",
    "plt.show()"
   ]
  },
  {
   "cell_type": "markdown",
   "metadata": {},
   "source": [
    "Now repeat the process including the $x=3$ data point from the start. Find the new polynomial fit and compare with the result in the previous plot. "
   ]
  },
  {
   "cell_type": "code",
   "execution_count": null,
   "metadata": {},
   "outputs": [],
   "source": [
    "x = np.array([0, 1, 2, 3])\n",
    "y = x**3\n",
    "poly = ...\n",
    "\n",
    "#add your code below"
   ]
  },
  {
   "cell_type": "markdown",
   "metadata": {},
   "source": [
    "### Activity 2: Barycentric Legrange Interpolation Example\n",
    "\n",
    "Consider the function $f(x) = 1/(1+25x^2)$ over the range (-1,1). Compute the interpolation, plot and compare the function and interpolation. Additionall plot the error as a function of x. "
   ]
  },
  {
   "cell_type": "code",
   "execution_count": null,
   "metadata": {},
   "outputs": [],
   "source": [
    "from scipy.interpolate import BarycentricInterpolator\n",
    "\n",
    "def func(x):\n",
    "    return 1/(1+25 * x**2)"
   ]
  },
  {
   "cell_type": "code",
   "execution_count": null,
   "metadata": {},
   "outputs": [],
   "source": [
    "#set number of data points to use\n",
    "n = 5\n",
    "\n",
    "#generate grid of 'n' x data points\n",
    "x = np.linspace(-1, 1, n)\n",
    "\n",
    "#call the Barycentric Interpolator on x\n",
    "poly = BarycentricInterpolator(x)\n",
    "\n",
    "#create polynomial function for the interpolator\n",
    "poly.set_yi(func(x))\n",
    "\n",
    "#perform interpolation\n",
    "y_interp = poly(xnew)\n",
    "\n",
    "# create a more fine sampled x-grid for comparison\n",
    "xnew = np.linspace(-1, 1, 200)\n",
    "\n",
    "# evalutate function on xnew\n",
    "yactual = func(xnew)\n",
    "\n",
    "#calculate error between interpolation and 'true' function\n",
    "efunc=np.abs(func(xnew) - poly(xnew))"
   ]
  },
  {
   "cell_type": "code",
   "execution_count": null,
   "metadata": {},
   "outputs": [],
   "source": [
    "plt.figure(figsize=(9,4))\n",
    "\n",
    "\n",
    "#create subplot comparing function with interpolation\n",
    "plt.subplot(1, 2, 1)\n",
    "plt.title('Comparing f(x) with Interpolant')\n",
    "plt.plot(xnew, func(xnew))\n",
    "plt.plot(xnew, poly(xnew))\n",
    "\n",
    "plt.xlabel('x')\n",
    "plt.ylabel('y') \n",
    "\n",
    "#create subplot for error function\n",
    "plt.subplot(1, 2, 2)\n",
    "plt.title('Error Function')\n",
    "plt.plot(xnew,efunc,'k-')\n",
    "\n",
    "plt.xlabel('x')\n",
    "plt.ylabel('y') \n",
    "\n",
    "\n",
    "plt.show()"
   ]
  },
  {
   "cell_type": "markdown",
   "metadata": {},
   "source": [
    "Try re-running the cells above for different nummber of interpolating points $N$. Note the behavior where large $N$ gives better results in the middle of the data, but on the edges Runge phenomena become more significant"
   ]
  },
  {
   "cell_type": "code",
   "execution_count": null,
   "metadata": {},
   "outputs": [],
   "source": []
  }
 ],
 "metadata": {
  "kernelspec": {
   "display_name": "Python 3 (ipykernel)",
   "language": "python",
   "name": "python3"
  },
  "language_info": {
   "codemirror_mode": {
    "name": "ipython",
    "version": 3
   },
   "file_extension": ".py",
   "mimetype": "text/x-python",
   "name": "python",
   "nbconvert_exporter": "python",
   "pygments_lexer": "ipython3",
   "version": "3.12.11"
  }
 },
 "nbformat": 4,
 "nbformat_minor": 4
}
