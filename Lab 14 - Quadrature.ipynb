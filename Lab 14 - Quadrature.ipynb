{
 "cells": [
  {
   "cell_type": "markdown",
   "metadata": {},
   "source": [
    "# Lab 14: Quadrature "
   ]
  },
  {
   "cell_type": "code",
   "execution_count": 8,
   "metadata": {},
   "outputs": [],
   "source": [
    "#import required packages\n",
    "import numpy as np\n",
    "from scipy.integrate import trapezoid\n",
    "import matplotlib.pyplot as plt"
   ]
  },
  {
   "cell_type": "markdown",
   "metadata": {},
   "source": [
    "### Activity 1: Trapizoidal Rule\n",
    "\n",
    "To start, let's take a closer look at the Trapizoidal Rule. A function is provided below that performs this calculation. Take a moment to look at it and verify it does what is expected for this method. "
   ]
  },
  {
   "cell_type": "code",
   "execution_count": 3,
   "metadata": {},
   "outputs": [],
   "source": [
    "def Trapz_quad(f,x): \n",
    "    \n",
    "    #ensure data are numpy arrays\n",
    "    x = np.array(x)\n",
    "    f = np.array(f)\n",
    "\n",
    "    # Compute the differences between consecutive x-values\n",
    "    dx = np.diff(x)\n",
    "\n",
    "    # Apply trapezoidal rule\n",
    "    area = np.sum(dx * (f[:-1] + f[1:]) / 2.0)\n",
    "\n",
    "    return area"
   ]
  },
  {
   "cell_type": "markdown",
   "metadata": {},
   "source": [
    "Try out a test case of our function - Calcualte the integral of $\\sin(x)$ over the interval $[0,\\pi]$ using 5 data points."
   ]
  },
  {
   "cell_type": "code",
   "execution_count": 22,
   "metadata": {},
   "outputs": [
    {
     "name": "stdout",
     "output_type": "stream",
     "text": [
      "The calculated integral of sin(x) over the range [0,pi] is:  1.8961188979370398\n"
     ]
    }
   ],
   "source": [
    "#number of points\n",
    "numpoints = 5\n",
    "\n",
    "#set range\n",
    "a , b = 0 , np.pi\n",
    "\n",
    "#calculate stepsize h\n",
    "h = (b - a) / (numpoints - 1)\n",
    "\n",
    "#generate array of x-data points\n",
    "x = np.linspace(a,b,numpoints)\n",
    "\n",
    "#calculate the function based on the x-array\n",
    "f=np.sin(x)\n",
    "\n",
    "#perform integration\n",
    "trapz_result1_sinx = Trapz_quad(f,x)\n",
    "\n",
    "print(f'The calculated integral of sin(x) over the range [0,pi] is: ',trapz_result1_sinx)"
   ]
  },
  {
   "cell_type": "markdown",
   "metadata": {},
   "source": [
    "Let's look at this further- Recall that integration of $\\sin(x)$ is 0 over the range $[0,2\\pi]$ because the function is oscilitory. Try calculating the integral of $\\sin(x)$ over the range $[\\pi,2\\pi]$. How does this compare with the earlier result? Does it make sense?"
   ]
  },
  {
   "cell_type": "code",
   "execution_count": 34,
   "metadata": {},
   "outputs": [
    {
     "name": "stdout",
     "output_type": "stream",
     "text": [
      "The calculated integral of sin(x) over the range [pi,2 pi] is:  -1.8961188979370402\n"
     ]
    }
   ],
   "source": [
    "#number of points\n",
    "numpoints = 5\n",
    "\n",
    "#set range\n",
    "a , b = np.pi, 2*np.pi\n",
    "\n",
    "#calculate stepsize h\n",
    "h = (b - a) / (numpoints - 1)\n",
    "\n",
    "#generate array of x-data points\n",
    "x = np.linspace(a,b,numpoints)\n",
    "\n",
    "#calculate the function based on the x-array\n",
    "f=np.sin(x)\n",
    "\n",
    "#perform integration\n",
    "trapz_result2_sinx = Trapz_quad(f,x)\n",
    "\n",
    "print(f'The calculated integral of sin(x) over the range [pi,2*pi] is: ',trapz_result2_sinx)"
   ]
  },
  {
   "cell_type": "markdown",
   "metadata": {},
   "source": [
    "How does this compare with the earlier result? Does we get zero when combining these to a range $[0,2\\pi]$?"
   ]
  },
  {
   "cell_type": "code",
   "execution_count": 35,
   "metadata": {},
   "outputs": [
    {
     "name": "stdout",
     "output_type": "stream",
     "text": [
      "The combined result over range [0, 2*pi] is:  -4.440892098500626e-16\n"
     ]
    }
   ],
   "source": [
    "trapz_result_combined = trapz_result1_sinx+trapz_result2_sinx\n",
    "\n",
    "print(f'The combined result over range [0, 2*pi] is: ',trapz_result_combined)"
   ]
  },
  {
   "cell_type": "markdown",
   "metadata": {},
   "source": [
    "Try this again using the `Trapz_quad()` function, but do the range $[0,2\\pi]$ as a single calculation"
   ]
  },
  {
   "cell_type": "code",
   "execution_count": 63,
   "metadata": {},
   "outputs": [
    {
     "name": "stdout",
     "output_type": "stream",
     "text": [
      "The calculated integral of sin(x) over the range [0,pi] is:  1.1102230246251565e-16\n"
     ]
    }
   ],
   "source": [
    "#number of points\n",
    "numpoints = 6\n",
    "\n",
    "#set range\n",
    "a , b = 0, 2*np.pi\n",
    "\n",
    "#calculate stepsize h\n",
    "h = (b - a) / (numpoints - 1)\n",
    "\n",
    "#generate array of x-data points\n",
    "x = np.linspace(a,b,numpoints)\n",
    "\n",
    "#calculate the function based on the x-array\n",
    "f=np.sin(x)\n",
    "\n",
    "#perform integration\n",
    "trapz_result2_sinx = Trapz_quad(f,x)\n",
    "\n",
    "print(f'The calculated integral of sin(x) over the range [0,pi] is: ',trapz_result2_sinx)"
   ]
  },
  {
   "cell_type": "markdown",
   "metadata": {},
   "source": [
    "Note that this doesn't exactly agree with our result before, nor is it zero. But it is very small. Keep in mind that we will encounter issues with roundoff error where the result is essentially consistent with zero. "
   ]
  },
  {
   "cell_type": "markdown",
   "metadata": {},
   "source": [
    "Now, let's try something similar, but this time with the function $\\sin^2(x)$. Determine the result of the integral over the range $[0,2\\pi]$ using the `Trapz_quad()` function. Use 11 data points in your sampling of x-values.  "
   ]
  },
  {
   "cell_type": "code",
   "execution_count": 1,
   "metadata": {},
   "outputs": [],
   "source": [
    "### Add your code here ###\n",
    "\n",
    "\n",
    "\n"
   ]
  },
  {
   "cell_type": "markdown",
   "metadata": {},
   "source": [
    "Try the same calculation, but this time use the scipy trapezoid function. Take a moment to compare with your results. "
   ]
  },
  {
   "cell_type": "code",
   "execution_count": 10,
   "metadata": {},
   "outputs": [
    {
     "name": "stdout",
     "output_type": "stream",
     "text": [
      "3.1415926535897936\n",
      "0.0\n"
     ]
    }
   ],
   "source": [
    "scipy_trapz = trapezoid(f,x)\n",
    "\n",
    "print(scipy_trapz)\n",
    "print(scipy_trapz-trapz_result)"
   ]
  },
  {
   "cell_type": "markdown",
   "metadata": {},
   "source": [
    "Last, we know the valur of the $sin^2(x)$ over the interval $[0,2\\pi]$ is $\\pi$ analyically. Calculate the difference between the known value and the function result. "
   ]
  },
  {
   "cell_type": "code",
   "execution_count": null,
   "metadata": {},
   "outputs": [],
   "source": [
    "### Add your code here ###\n",
    "\n",
    "\n",
    "\n"
   ]
  },
  {
   "cell_type": "markdown",
   "metadata": {},
   "source": [
    "### Activity 2: Simpson's Rule\n",
    "A function that calculates simpson's rule is provided below. Take a look at it to verify that it behaves as expected. "
   ]
  },
  {
   "cell_type": "code",
   "execution_count": 56,
   "metadata": {},
   "outputs": [],
   "source": [
    "def Simps_int(f, x, h):\n",
    "\n",
    "    #ensure data are arrays\n",
    "    x = np.array(x)\n",
    "    f = np.array(f)\n",
    "\n",
    "    # Check for uniform spacing\n",
    "    h_values = np.diff(x)\n",
    "    if not np.allclose(h_values, h_values[0]):\n",
    "        raise ValueError(\"x values must be evenly spaced for Simpson's rule.\")\n",
    "\n",
    "    #get h and determine number of intervals n\n",
    "    h = h_values[0]\n",
    "    n = len(x) - 1 \n",
    "\n",
    "    # Apply Simpson's rule\n",
    "    simps_result = (h / 3) * (f[0] + 4 * np.sum(f[1:n:2]) + 2 * np.sum(f[2:n-1:2]) + f[n])\n",
    "    \n",
    "    return simps_result"
   ]
  },
  {
   "cell_type": "markdown",
   "metadata": {},
   "source": [
    "Let's look at the performance of the above function. \n",
    "Repeat the earlier example by integrating the function $\\sin^2(x)$ over the interval $[0,2\\pi]$ using 11 data points. "
   ]
  },
  {
   "cell_type": "code",
   "execution_count": 59,
   "metadata": {},
   "outputs": [
    {
     "name": "stdout",
     "output_type": "stream",
     "text": [
      "The calculated integral of sin^2(x) over the range [0,pi] is:  3.1415926535897936\n"
     ]
    }
   ],
   "source": [
    "numpoints=11\n",
    "a = 0\n",
    "b = 2*np.pi\n",
    "h = (b - a) / (numpoints - 1)\n",
    "x = np.linspace(a,b,numpoints)\n",
    "f=np.sin(x)**2\n",
    "\n",
    "simps_result = Simps_int(f,x,h)\n",
    "\n",
    "print(f'The calculated integral of sin^2(x) over the range [0,pi] is: ',simps_result)"
   ]
  },
  {
   "cell_type": "markdown",
   "metadata": {},
   "source": [
    "Calculate the difference between this result and the known value of the integral ($\\pi$). "
   ]
  },
  {
   "cell_type": "code",
   "execution_count": 60,
   "metadata": {},
   "outputs": [],
   "source": [
    "### Add your code here ###\n",
    "\n",
    "\n"
   ]
  },
  {
   "cell_type": "markdown",
   "metadata": {},
   "source": [
    "Compare the accuracy of Simpson's method with the earlier implementation of the trapizodial method for this problem. Does this make sense with our understanding of these methods from class?"
   ]
  },
  {
   "cell_type": "code",
   "execution_count": 61,
   "metadata": {},
   "outputs": [],
   "source": [
    "### Add your code here ###\n",
    "\n",
    "\n"
   ]
  },
  {
   "cell_type": "markdown",
   "metadata": {},
   "source": [
    "## Gauss Legendre Method\n",
    "\n",
    "A function that calculates the integral via Gauss's method with Legendre polynomials is provided below."
   ]
  },
  {
   "cell_type": "code",
   "execution_count": 62,
   "metadata": {},
   "outputs": [],
   "source": [
    "from scipy.special import roots_legendre\n",
    "\n",
    "def GaussLeg(f,a,b,n,args=()):\n",
    "    x, w = roots_legendre(n)\n",
    "    y = (b-a)*(x+1)/2.0 + a\n",
    "    val = (b-a)/2.0 * np.sum(w*f(y, *args), axis=-1)\n",
    "    return val"
   ]
  },
  {
   "cell_type": "markdown",
   "metadata": {},
   "source": [
    "Let's test this out with our earlier example $\\sin^2(x)$ over the interval $[0,2\\pi]$ using 11 data points. Note that this version of the function doesn't allow input of number of data points, but allows us to specify the order of the polynomail, which follows as n=numpoints-1. "
   ]
  },
  {
   "cell_type": "code",
   "execution_count": null,
   "metadata": {},
   "outputs": [],
   "source": [
    "def sin2(x):\n",
    "    return np.sin(x)**2\n",
    "\n",
    "a = 0\n",
    "b = 2*np.pi\n",
    "n=10 #order of polynomial to use\n",
    "\n",
    "gauss_result = GaussLeg(sin2,a,b,n)\n",
    "\n",
    "print(f'The calculated integral of sin(x) over the range [0,pi] is: ',gauss_result)"
   ]
  },
  {
   "cell_type": "markdown",
   "metadata": {},
   "source": [
    "Calculate the difference between this result and the known value of the integral ($\\pi$)"
   ]
  },
  {
   "cell_type": "code",
   "execution_count": null,
   "metadata": {},
   "outputs": [],
   "source": [
    "### Add your code here ###\n",
    "\n",
    "\n",
    "\n"
   ]
  },
  {
   "cell_type": "markdown",
   "metadata": {},
   "source": [
    "Compare the accuracy of Gauss-Legendre for this problem with the earlier implementation of the trapezoid and simpson's rule. Does this make sense with our understanding of these methods from class?"
   ]
  },
  {
   "cell_type": "code",
   "execution_count": null,
   "metadata": {},
   "outputs": [],
   "source": [
    "### Add your code here ###\n",
    "\n",
    "\n"
   ]
  }
 ],
 "metadata": {
  "kernelspec": {
   "display_name": "Python 3 (ipykernel)",
   "language": "python",
   "name": "python3"
  },
  "language_info": {
   "codemirror_mode": {
    "name": "ipython",
    "version": 3
   },
   "file_extension": ".py",
   "mimetype": "text/x-python",
   "name": "python",
   "nbconvert_exporter": "python",
   "pygments_lexer": "ipython3",
   "version": "3.12.11"
  }
 },
 "nbformat": 4,
 "nbformat_minor": 4
}
