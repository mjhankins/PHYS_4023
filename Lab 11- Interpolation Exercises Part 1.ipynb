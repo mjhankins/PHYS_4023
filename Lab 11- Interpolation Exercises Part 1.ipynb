{
 "cells": [
  {
   "cell_type": "markdown",
   "metadata": {},
   "source": [
    "# Lab 11: Interpolation Exercises Part 1"
   ]
  },
  {
   "cell_type": "code",
   "execution_count": null,
   "metadata": {},
   "outputs": [],
   "source": [
    "import numpy as np\n",
    "from scipy.interpolate import CubicSpline, interp1d\n",
    "import matplotlib.pyplot as plt"
   ]
  },
  {
   "cell_type": "markdown",
   "metadata": {},
   "source": [
    "### Activity 1: Linear Interpolation\n",
    "\n",
    "Let's look at an example of linear interpolation similar to what we did in class\n",
    "Consider the set of x,y data below and find a linear interpolated function to represent the data. \n",
    "You will need to complete parts of this code for it work correctly :-)"
   ]
  },
  {
   "cell_type": "code",
   "execution_count": null,
   "metadata": {},
   "outputs": [],
   "source": [
    "x = [0, 1, 2, 3, 4, 5, 6, 7, 8, 9, 10]\n",
    "y = [8, 6, 3, 4, 0, 1, 2, 5, 9, 10, 7]\n",
    "\n",
    "#f = ...  ### ADD YOUR CODE HERE"
   ]
  },
  {
   "cell_type": "markdown",
   "metadata": {},
   "source": [
    "Find interpolated values for the function at $x$ = 2.5 and $x$ = 7.5. Print the results"
   ]
  },
  {
   "cell_type": "code",
   "execution_count": null,
   "metadata": {},
   "outputs": [],
   "source": [
    "### ADD CODE HERE ###\n",
    "\n"
   ]
  },
  {
   "cell_type": "markdown",
   "metadata": {},
   "source": [
    "Plot the results to demostrate the above interpolated values at $x=2.5$ and $x = 7.5$ are correct. Add code below to plot these data points as distinct markers as compared to the rest of the data. "
   ]
  },
  {
   "cell_type": "code",
   "execution_count": null,
   "metadata": {},
   "outputs": [],
   "source": [
    "plt.figure()\n",
    "plt.plot(x, y, '-ob') #note the '-' option for markers will show linear interpolation between the specified data points\n",
    "\n",
    "### ADD CODE HERE ###\n",
    "\n",
    "\n",
    "plt.title('Linear Interpolation Example')\n",
    "\n",
    "plt.xlabel('x')\n",
    "plt.ylabel('y')\n",
    "\n",
    "plt.show()"
   ]
  },
  {
   "cell_type": "markdown",
   "metadata": {},
   "source": [
    "### Now let's look at another example with on of our favorite functions: $\\sin(x)$"
   ]
  },
  {
   "cell_type": "markdown",
   "metadata": {},
   "source": [
    "Start by creating an array of 10 data points that sample the sine function from [0,9]"
   ]
  },
  {
   "cell_type": "code",
   "execution_count": null,
   "metadata": {},
   "outputs": [],
   "source": [
    "x = np.arange(10)\n",
    "y = np.sin(x)"
   ]
  },
  {
   "cell_type": "markdown",
   "metadata": {},
   "source": [
    "Plot the linear interpolation and compare with 'true' result"
   ]
  },
  {
   "cell_type": "code",
   "execution_count": null,
   "metadata": {},
   "outputs": [],
   "source": [
    "plt.figure()\n",
    "\n",
    "plt.title('Linear Interpolation')\n",
    "\n",
    "#plot points to be interpolated\n",
    "plt.plot(x, y, 'o', label='data')\n",
    "\n",
    "#show linear interpolation\n",
    "plt.plot(x, y, '-k',label='Linear Interp.')\n",
    "\n",
    "#create 'true' sin(x) that is more well sampled for comparison\n",
    "xs = np.linspace(0, 10, num=1000)\n",
    "plt.plot(xs, np.sin(xs), label='true')\n",
    "\n",
    "\n",
    "plt.xlim(-0.5, 9.5)\n",
    "plt.legend(loc='lower left')\n",
    "plt.show()"
   ]
  },
  {
   "cell_type": "markdown",
   "metadata": {},
   "source": [
    "We see that some parts of the linear interpolation match up well with the 'true' function, but other parts have large error. Let's dig into that more. Below, write a bit of code that will calculate the error at the midpoint between each x value in the data set (e.g., x = 0.5, 1.5, 2.5, ... , 8.5). Find the average of the errors and the max error. "
   ]
  },
  {
   "cell_type": "code",
   "execution_count": null,
   "metadata": {},
   "outputs": [],
   "source": [
    "x_mid=np.arange(0.5,9.5)\n",
    "\n",
    "fsin = interp1d(x, y)\n",
    "ys_mid = fsin(x_mid)\n",
    "\n",
    "### ADD CODE ### -  Calculate the % error for each data point. Print the result\n",
    "...\n"
   ]
  },
  {
   "cell_type": "markdown",
   "metadata": {},
   "source": [
    "Use the result above to find the average of the error the maximum error. What do you notice about the points where error is largest?"
   ]
  },
  {
   "cell_type": "code",
   "execution_count": null,
   "metadata": {},
   "outputs": [],
   "source": [
    "### ADD CODE ###\n",
    "\n",
    "\n"
   ]
  },
  {
   "cell_type": "markdown",
   "metadata": {},
   "source": [
    "### Activity 2: Cubic Spline Interpolation"
   ]
  },
  {
   "cell_type": "markdown",
   "metadata": {},
   "source": [
    "Let's continue with the previous example of $\\sin(x)$, but look at a cubic spline interpolation. Create a cubic spline fit for the data and then evaluate for a new set of $x$ data points between -0.5 and 9.5 in steps of 0.1."
   ]
  },
  {
   "cell_type": "code",
   "execution_count": null,
   "metadata": {},
   "outputs": [],
   "source": [
    "x = np.arange(10)\n",
    "y = np.sin(x)\n",
    "\n",
    "cspline = CubicSpline(x, y)\n",
    "xs = np.arange(-0.5, 9.6, 0.1)\n",
    "\n",
    "ys = cspline(xs)"
   ]
  },
  {
   "cell_type": "markdown",
   "metadata": {},
   "source": [
    "Plot the result for comparison"
   ]
  },
  {
   "cell_type": "code",
   "execution_count": null,
   "metadata": {},
   "outputs": [],
   "source": [
    "fig, ax = plt.subplots(figsize=(6.5, 4))\n",
    "plt.title(r'Cubic Spline for $\\sin(x)$')\n",
    "plt.plot(x, y, 'o', label='data')\n",
    "plt.plot(xs, np.sin(xs), label='true')\n",
    "plt.plot(xs, ys, label=\"S\")\n",
    "plt.xlim(-0.5, 9.5)\n",
    "plt.legend()\n",
    "plt.show()"
   ]
  },
  {
   "cell_type": "markdown",
   "metadata": {},
   "source": [
    "Cubic splines can also be used to construct derivative quantities. Let's take a look at S'(x) an compare with the known analytic derivative of our function. "
   ]
  },
  {
   "cell_type": "code",
   "execution_count": null,
   "metadata": {},
   "outputs": [],
   "source": [
    "fig, ax = plt.subplots(figsize=(6.5, 4))\n",
    "plt.title(r'Cubic Spline for $\\sin(x)$')\n",
    "\n",
    "#add data markers\n",
    "plt.plot(x, y, 'o', label='data')\n",
    "\n",
    "#add f(x) and s(x) to plot\n",
    "plt.plot(xs, np.sin(xs), label='f(x)')\n",
    "plt.plot(xs, ys, label=\"S\")\n",
    "\n",
    "#add f'(x) and s'(x) to plot\n",
    "plt.plot(xs,np.cos(xs),label='f\\'(x)')\n",
    "plt.plot(xs, cspline(xs, nu=1), label=\"S'\")\n",
    "\n",
    "plt.xlim(-0.5, 9.5)\n",
    "plt.legend(loc='lower left')\n",
    "plt.show()"
   ]
  },
  {
   "cell_type": "markdown",
   "metadata": {},
   "source": [
    "Note the spline curves $S(x)$ and $S'(x)$  do a respectable job following the data in regions of interpolation. However, outside of the data range, the results are extrapolation which starts to diverge from the true values rather quickly. This is not unexpected because extrapolation is hard... However, we might do better with a different set of boundary condidtions as shown below: "
   ]
  },
  {
   "cell_type": "code",
   "execution_count": null,
   "metadata": {},
   "outputs": [],
   "source": [
    "#specify BCs on cubic spline\n",
    "csn = CubicSpline(x, y,bc_type='natural')\n",
    "xs = np.arange(-0.5, 9.6, 0.1)\n",
    "\n",
    "fig, ax = plt.subplots(figsize=(6.5, 4))\n",
    "plt.title('Natural Boundary Conditions')\n",
    "\n",
    "plt.plot(x, y, 'o', label='data')\n",
    "\n",
    "plt.plot(xs, np.sin(xs), label='f(x)')\n",
    "plt.plot(xs, csn(xs), label=\"S\")\n",
    "\n",
    "plt.plot(xs, csn(xs, 1), label=\"S'\")\n",
    "plt.plot(xs,np.cos(xs),label='f\\'(x)')\n",
    "\n",
    "plt.xlim(-0.5, 9.5)\n",
    "plt.legend()\n",
    "plt.show()"
   ]
  },
  {
   "cell_type": "markdown",
   "metadata": {},
   "source": [
    "Take a moment to compare differences between this plot and the last plot, and consider why the 'natural' boundary conditions improve the extrapolation less than zero, but don't improve the extrapolation beyond 9. "
   ]
  },
  {
   "cell_type": "markdown",
   "metadata": {},
   "source": [
    "## Activity 3: Cubic Spline as a Linear Algebra problem\n"
   ]
  },
  {
   "cell_type": "markdown",
   "metadata": {},
   "source": [
    "Consider the data below and the matricies representing the equations of constraint for the cubic spline process. "
   ]
  },
  {
   "cell_type": "code",
   "execution_count": null,
   "metadata": {},
   "outputs": [],
   "source": [
    "# Input Data\n",
    "x = [2,3,4]\n",
    "y = [3,2,4]\n",
    "\n",
    "A = np.array([[8,4,2,1,0,0,0,0],\n",
    "              [27,9,3,1,0,0,0,0], \n",
    "              [0,0,0,0,27,9,3,1],\n",
    "              [0,0,0,0,64,16,4,1],\n",
    "              [27,6,1,0,-27,-6,-1,0],\n",
    "              [18,2,0,0,-18,-2,0,0],\n",
    "              [12,2,0,0,0,0,0,0],\n",
    "              [0,0,0,0,24,2,0,0]])\n",
    "\n",
    "b = np.array([3,2,2,4,0,0,0,0])"
   ]
  },
  {
   "cell_type": "markdown",
   "metadata": {},
   "source": [
    "Find the $x$ vector representing the solution of the system of equations (It may help to think back to our linear algebra exercises 🙂 )"
   ]
  },
  {
   "cell_type": "code",
   "execution_count": null,
   "metadata": {},
   "outputs": [],
   "source": [
    "### ADD CODE BELOW\n",
    "..."
   ]
  },
  {
   "cell_type": "markdown",
   "metadata": {},
   "source": [
    "Take the elements of $x$ and construct the appropriate polynomial equations for the peciewise functions. Plot them along with the original data. "
   ]
  },
  {
   "cell_type": "code",
   "execution_count": null,
   "metadata": {},
   "outputs": [],
   "source": [
    "### ADD CODE BELOW\n",
    "..."
   ]
  }
 ],
 "metadata": {
  "kernelspec": {
   "display_name": "Python 3 (ipykernel)",
   "language": "python",
   "name": "python3"
  },
  "language_info": {
   "codemirror_mode": {
    "name": "ipython",
    "version": 3
   },
   "file_extension": ".py",
   "mimetype": "text/x-python",
   "name": "python",
   "nbconvert_exporter": "python",
   "pygments_lexer": "ipython3",
   "version": "3.12.11"
  }
 },
 "nbformat": 4,
 "nbformat_minor": 4
}
