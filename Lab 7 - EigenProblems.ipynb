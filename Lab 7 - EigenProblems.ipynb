{
 "cells": [
  {
   "cell_type": "markdown",
   "id": "2786f3fc",
   "metadata": {},
   "source": [
    "# Lab 7 - Eigenproblems"
   ]
  },
  {
   "cell_type": "markdown",
   "id": "8a44c81e",
   "metadata": {},
   "source": [
    "In this set of lab activities, we will explore eigenvlaues, eigenvectors, and related methods. Remember from class that we have the relationship:\n",
    "\n",
    "$$\n",
    "\\mathsf{A} \\vec{v}_i = \\lambda_i \\vec{v}_i\n",
    "$$\n",
    "\n",
    "where $\\vec{v}_i$ is the eigenvector of the matrix $\\mathsf{A}$ corresponding to the eigenvalue $\\lambda_i$. "
   ]
  },
  {
   "cell_type": "markdown",
   "id": "494d9a0b",
   "metadata": {},
   "source": [
    "### Activity 1: Eigenvalues and Eigenvectors"
   ]
  },
  {
   "cell_type": "code",
   "execution_count": null,
   "id": "d7dda8be",
   "metadata": {},
   "outputs": [],
   "source": [
    "#import libraries\n",
    "import numpy as np\n",
    "import matplotlib.pyplot as plt"
   ]
  },
  {
   "cell_type": "markdown",
   "id": "7b88e6ce",
   "metadata": {},
   "source": [
    "Let's start with a simple example of a 2x2 matrix. Use `np.linalg.eig()' to find eigenvalues and eigenvectors. "
   ]
  },
  {
   "cell_type": "code",
   "execution_count": null,
   "id": "6004a7ee",
   "metadata": {},
   "outputs": [],
   "source": [
    "# Simple 2x2 matrix example\n",
    "A_2x2 = np.array([[1, 2],\n",
    "                  [4, 3]])"
   ]
  },
  {
   "cell_type": "code",
   "execution_count": null,
   "id": "3376f493",
   "metadata": {},
   "outputs": [],
   "source": [
    "eigenvals, eigenvecs = np.linalg.eig(A_2x2)\n",
    "\n",
    "print(\"Matrix A:\")\n",
    "print(A_2x2)\n",
    "print(f\"\\nEigenvalues: {eigenvals}\")\n",
    "print(f\"Eigenvectors:\\n{eigenvecs}\")"
   ]
  },
  {
   "cell_type": "markdown",
   "id": "a9681394",
   "metadata": {},
   "source": [
    "Note this 2x2 matrix example is simple enough that you can easily find the eigenvalues yourself by finding roots of the characteristic equation:\n",
    "\n",
    "$$\n",
    "\\det (A - \\lambda I) = 0\n",
    "$$\n",
    "\n",
    "In class we showed that this is equivalent to:\n",
    "\n",
    "$$\n",
    "\\lambda_i = \\frac{\\text{trace}(\\mathsf{A}) \\pm \\sqrt{(\\text{trace}(\\mathsf{A}))^2 - 4 \\det(\\mathsf{A})}}{2}\n",
    "$$\n",
    "\n",
    "for a 2x2 matrix. Try implementing this in the cell below and use it to confirm the earlier results of `np.linalg.eig`. Some code is already provided for you to help. "
   ]
  },
  {
   "cell_type": "code",
   "execution_count": null,
   "id": "23d04799",
   "metadata": {},
   "outputs": [],
   "source": [
    "#compute trace and det of A_2x2\n",
    "trace_A=np.trace(A_2x2)\n",
    "det_A=np.linalg.det(A_2x2)\n",
    "\n",
    "### ADD CODE BELOW TO COMPLETE THE FORMULAS\n",
    "lambda_1 = ...\n",
    "\n",
    "lambda_2 = ...\n",
    "\n",
    "\n",
    "\n",
    "eigenvals = np.array([lambda_1, lambda_2])\n",
    "\n",
    "print(f\"\\nEigenvalues: {eigenvals}\")"
   ]
  },
  {
   "cell_type": "markdown",
   "id": "182dc972",
   "metadata": {},
   "source": [
    "Now lets look at a more complex example using a 3x3 matrix. Consider the matrix $\\mathsf{A}$ below"
   ]
  },
  {
   "cell_type": "code",
   "execution_count": null,
   "id": "ad811c8c",
   "metadata": {},
   "outputs": [],
   "source": [
    "A_3x3=np.array([[-18.,  -8., -22.],\n",
    "               [  2.,  -1.,   2.],\n",
    "               [ 14.,   7.,  18.]])"
   ]
  },
  {
   "cell_type": "markdown",
   "id": "8c8af763",
   "metadata": {},
   "source": [
    "Recall that the characteristic equation of a 3x3 matrix is a cubic polynomial. We can write this result in a more compact form using the following notation:\n",
    "\n",
    "$$\n",
    "-\\lambda^3 + \\text{Trace}(\\mathsf{A}) \\lambda^2 - \\text{Minor\\_Sum}(\\mathsf{A}) \\lambda^2 + \\det(A) = 0\n",
    "$$\n",
    "\n",
    "Below we have implemented this as a function, which constructs the equation given a 3x3 matrix and finds roots to reveal the eigenvalues"
   ]
  },
  {
   "cell_type": "code",
   "execution_count": null,
   "id": "ceb9de5b",
   "metadata": {},
   "outputs": [],
   "source": [
    "def solve_characteristic_3x3(A):\n",
    "    \"\"\"\n",
    "    Computes the characteristic polynomial for a 3x3 matrix, demonstrating how det(A - λI) becomes a cubic polynomial\n",
    "    returns real eigenvalues of characteristic eqn. \n",
    "    \"\"\"\n",
    "    if A.shape[0] != 3:\n",
    "        print(\"This function only works for 3x3 matrices\")\n",
    "        return None\n",
    "    \n",
    "    # The determinant of (A-lambda I) produces a cubic polynomial: -λ³ + c₂λ² + c₁λ + c₀\n",
    "    # We will solve for the coefficients using the lines below\n",
    "\n",
    "    # coefficient of the square term\n",
    "    trace = np.trace(A)  # Sum of diagonal elements\n",
    "    \n",
    "    # coefficient of the linear term - Sum of 2x2 principal minors\n",
    "    minor_sum = ( A[0, 0]* A[1, 1] -  A[0, 1]* A[1, 0]) + ( A[0, 0]* A[2, 2] -  A[0, 2]* A[2, 0]) + ( A[1, 1]* A[2, 2] -  A[1, 2]* A[2, 1])\n",
    "\n",
    "    # coefficient of the constant term\n",
    "    det_A=np.round(np.linalg.det(A),7) #introduce rounding on det to improve against numeric instabilitiy\n",
    "\n",
    "    # print characteristic polynomail\n",
    "    print(f\"\\nCharacteristic polynomial: -λ³ + {trace}λ² - {minor_sum}λ + {det_A} = 0\")\n",
    "    \n",
    "    # Convert to standard form and find roots\n",
    "    coefficients = [-1, trace, -minor_sum, det_A]  # Coefficients for -λ³ + trace*λ² - minor_sum*λ + det_A\n",
    "    eigenvalues = np.roots(coefficients)\n",
    "    \n",
    "    return eigenvalues"
   ]
  },
  {
   "cell_type": "markdown",
   "id": "ee74802a",
   "metadata": {},
   "source": [
    "Review the code above to ensure that it makes sense with the given formula in the prior cell. Then let's use it to evaluate and find th eigenvalues of $\\mathsf{A}$"
   ]
  },
  {
   "cell_type": "code",
   "execution_count": null,
   "id": "c7556ae0",
   "metadata": {},
   "outputs": [],
   "source": [
    "#get eigenvalues using our function\n",
    "eigenvals=solve_characteristic_3x3(A_3x3)\n",
    "\n",
    "print(f\"\\nEigenvalues: {eigenvals}\")"
   ]
  },
  {
   "cell_type": "markdown",
   "id": "ecc88bfc",
   "metadata": {},
   "source": [
    "Confirm the results of our formula using `np.linalg.eig`"
   ]
  },
  {
   "cell_type": "code",
   "execution_count": null,
   "id": "97f009ba",
   "metadata": {},
   "outputs": [],
   "source": [
    "### ADD YOUR CODE BELOW TO COMPLETE THE EXPRESSION\n",
    "eigenvals, _ = ...\n",
    "\n",
    "print(f\"\\nEigenvalues: {eigenvals}\")"
   ]
  },
  {
   "cell_type": "markdown",
   "id": "edcbc906",
   "metadata": {},
   "source": [
    "### Activity 2: QR Decomposition"
   ]
  },
  {
   "cell_type": "markdown",
   "id": "dbc84bc1",
   "metadata": {},
   "source": [
    "In class we discussed the QR decompositon, which takes a matrix $\\mathsf{A}$ and expresses it as a product $\\mathsf{Q R}$, where $\\mathsf{Q}$ is orthogonal and $\\mathsf{R}$ is upper triangular. Numpy.linag has a built in function for QR decomposition. Let's try using it on our matrix A_3x3 from the previous activity. "
   ]
  },
  {
   "cell_type": "code",
   "execution_count": null,
   "id": "97c9b3ea",
   "metadata": {},
   "outputs": [],
   "source": [
    "Q, R = np.linalg.qr(A_3x3)\n",
    "\n",
    "print(\"Matrix Q:\")\n",
    "print(Q)\n",
    "\n",
    "print(\"\\nMatrix R:\")\n",
    "print(R)"
   ]
  },
  {
   "cell_type": "markdown",
   "id": "37c708a4",
   "metadata": {},
   "source": [
    "By printing the matricies, we can easily confirm that the matrix $\\mathsf{R}$ is upper triangular. How do we know $\\mathsf{Q}$ is orthognal? Check the relation $\\mathsf{Q^T Q = I}$. "
   ]
  },
  {
   "cell_type": "code",
   "execution_count": null,
   "id": "fb2d9e64",
   "metadata": {},
   "outputs": [],
   "source": [
    "#perform matrix multiplication. Note the use of the '@' sign which is generally prefered for multiplication in higher order matricies\n",
    "QTQ = Q.T @ Q\n",
    "\n",
    "print(\"\\nMatrix Q^T Q:\")\n",
    "print(QTQ)"
   ]
  },
  {
   "cell_type": "markdown",
   "id": "4484a1c8",
   "metadata": {},
   "source": [
    "This confirms the relation. Note the non-diagnoal elements are not zero exactly, but are small enought that they are consistent with zero due to roundoff error. "
   ]
  },
  {
   "cell_type": "markdown",
   "id": "dbe20e53",
   "metadata": {},
   "source": [
    "Last, we can check that the product $\\mathsf{QR}$ is equivalent to $\\mathsf{A}$. Thus confirming the decomposition. "
   ]
  },
  {
   "cell_type": "code",
   "execution_count": null,
   "id": "9776c852",
   "metadata": {},
   "outputs": [],
   "source": [
    "print(\"Matrix A:\")\n",
    "print(A_3x3)\n",
    "\n",
    "print(\"\\nMatrix Q * R:\")\n",
    "print(Q @ R)\n"
   ]
  },
  {
   "cell_type": "markdown",
   "id": "b50638af",
   "metadata": {},
   "source": [
    "To look at this method close, let's write our own function that does QR decomposition"
   ]
  },
  {
   "cell_type": "code",
   "execution_count": null,
   "id": "c750aef5",
   "metadata": {},
   "outputs": [],
   "source": [
    "def qr_dec(A):\n",
    "    n = A.shape[0]\n",
    "    A_working = np.copy(A)  # Working copy that we'll modify\n",
    "    Q = np.zeros((n, n))\n",
    "    R = np.zeros((n, n))\n",
    "    \n",
    "    for j in range(n):\n",
    "        # Orthogonalize current column against all previous Q columns\n",
    "        for i in range(j):\n",
    "            # Calculate projection coefficient: how much of A[:,j] is in direction Q[:,i]\n",
    "            R[i, j] = np.sum(Q[:, i] * A[:, j])\n",
    "            \n",
    "            # Remove the component of A[:,j] in direction Q[:,i]\n",
    "            A_working[:, j] -= R[i, j] * Q[:, i]\n",
    "        \n",
    "        # Calculate the length of the remaining vector\n",
    "        R[j, j] = np.sqrt(np.sum(A_working[:, j] * A_working[:, j]))\n",
    "        \n",
    "        # Normalize to get the unit vector for Q[:,j]\n",
    "        Q[:, j] = A_working[:, j] / R[j, j]\n",
    "    \n",
    "    return Q, R"
   ]
  },
  {
   "cell_type": "markdown",
   "id": "2142c2b8",
   "metadata": {},
   "source": [
    "Let's use this on our matrix A_3x3 and verify the earlier result from `np.linalg.qr()`"
   ]
  },
  {
   "cell_type": "code",
   "execution_count": null,
   "id": "355eb7ba",
   "metadata": {},
   "outputs": [],
   "source": [
    "#find the results of our function\n",
    "myQ, myR = qr_dec(A_3x3)\n",
    "\n",
    "print(\"Matrix Q:\")\n",
    "print(myQ)\n",
    "\n",
    "print(\"\\nMatrix R:\")\n",
    "print(myR)"
   ]
  },
  {
   "cell_type": "markdown",
   "id": "14fb3faf",
   "metadata": {},
   "source": [
    "Note these agree with our earlier results!"
   ]
  },
  {
   "cell_type": "markdown",
   "id": "3504d67f",
   "metadata": {},
   "source": [
    "Let's try this again now. Define your own matrix called 'B_3x3'. Use the function `qr_dec()` to find $\\mathsf{Q}$ and $\\mathsf{R}$."
   ]
  },
  {
   "cell_type": "code",
   "execution_count": null,
   "id": "8c44d5e0",
   "metadata": {},
   "outputs": [],
   "source": [
    "B_3x3=np.array([[ ... ,  ... , ... ],\n",
    "               [  ... ,  ... ,   ... ],\n",
    "               [ ... ,   ... ,  ... ]])"
   ]
  },
  {
   "cell_type": "code",
   "execution_count": null,
   "id": "ddda4a15",
   "metadata": {},
   "outputs": [],
   "source": [
    "#find the results of our function\n",
    "QB, RB = qr_dec(B_3x3)\n",
    "\n",
    "print(\"Matrix Q from B:\")\n",
    "print(QB)\n",
    "\n",
    "print(\"\\nMatrix R from B:\")\n",
    "print(RB)"
   ]
  },
  {
   "cell_type": "markdown",
   "id": "9a8f67a6",
   "metadata": {},
   "source": [
    "Verify that $\\mathsf{B}$ is upper triangular in form. If not, you might want to adjust values and re-run until it is before proceeding beyond this point. \n",
    "\n",
    "Next, verify that Q is orthogonal via the relation $\\mathsf{Q^T Q = I}$."
   ]
  },
  {
   "cell_type": "code",
   "execution_count": null,
   "id": "05ecefd5",
   "metadata": {},
   "outputs": [],
   "source": [
    "### ADD YOUR CODE BELOW ###\n",
    "\n",
    "\n",
    "\n"
   ]
  },
  {
   "cell_type": "markdown",
   "id": "998b135f",
   "metadata": {},
   "source": [
    "And finally verify the relation that our matrix $\\mathsf{B}$ can be represented as the product of $\\mathsf{Q}$ and $\\mathsf{R}$"
   ]
  },
  {
   "cell_type": "code",
   "execution_count": null,
   "id": "641b7688",
   "metadata": {},
   "outputs": [],
   "source": [
    "### ADD YOUR CODE BELOW ###\n",
    "\n",
    "\n",
    "\n"
   ]
  },
  {
   "cell_type": "markdown",
   "id": "b83f619b",
   "metadata": {},
   "source": [
    "### Activity 3: Iterative Methods using the QR Algorithm"
   ]
  },
  {
   "cell_type": "markdown",
   "id": "770f8b31",
   "metadata": {},
   "source": [
    "In class, we discussed the QR algorithm as a method of finding eigenvalues. Below we have coded a function that perfoms this proceedure. Examine the code and verify that it makes sense. "
   ]
  },
  {
   "cell_type": "code",
   "execution_count": null,
   "id": "0f4f9a99",
   "metadata": {},
   "outputs": [],
   "source": [
    "def qr_eigen(input_matrix, max_iterations=200):    \n",
    "    A = np.copy(input_matrix)  # Working copy that we'll transform\n",
    "    \n",
    "    for iteration in range(1, max_iterations):\n",
    "        # Decompose current matrix into Q * R\n",
    "        Q, R = qr_dec(A)\n",
    "        \n",
    "        # Update A by multiplying R * Q \n",
    "        A = R @ Q\n",
    "    \n",
    "    # Extract eigenvalues from the diagonal of the final matrix\n",
    "    eigenvalues = np.diag(A)\n",
    "    \n",
    "    return eigenvalues"
   ]
  },
  {
   "cell_type": "markdown",
   "id": "1a2f80d5",
   "metadata": {},
   "source": [
    "let's test this out on the A_3x3 matrix that we used in an earlier activity. Verify that we get the same results as earlier"
   ]
  },
  {
   "cell_type": "code",
   "execution_count": null,
   "id": "ab412825",
   "metadata": {},
   "outputs": [],
   "source": [
    "eigenvals = qr_eigen(A_3x3)\n",
    "\n",
    "print(f\"\\nEigenvalues: {eigenvals}\")"
   ]
  },
  {
   "cell_type": "markdown",
   "id": "6c7c1de0",
   "metadata": {},
   "source": [
    "Note that this method works very well for large matricies. For 3x3 it'a s bit of overkill, but illistrates the point. Let's try on a larger matrix next!"
   ]
  },
  {
   "cell_type": "code",
   "execution_count": null,
   "id": "faf38091",
   "metadata": {},
   "outputs": [],
   "source": [
    "A_5x5 = np.array([[-7.,  5.5,  -6.5, -1.5,  0.5],\n",
    "                 [ 5.5,   8.,  -8.5,   5.,  -3.],\n",
    "                 [-6.5,  -8.5, -6.,    7.,  -6.5],\n",
    "                 [-1.5,   5.,   7.,    7.,  -0.5],\n",
    "                 [ 0.5,  -3.,  -6.5,  -0.5, -4.]])\n"
   ]
  },
  {
   "cell_type": "markdown",
   "id": "bbcbe1c8",
   "metadata": {},
   "source": [
    "Let's run our function on the matrix above"
   ]
  },
  {
   "cell_type": "code",
   "execution_count": null,
   "id": "adeea42e",
   "metadata": {},
   "outputs": [],
   "source": [
    "eigenvals = qr_eigen(A_5x5)\n",
    "\n",
    "print(f\"\\nEigenvalues: {eigenvals}\")"
   ]
  },
  {
   "cell_type": "markdown",
   "id": "d49e40e4",
   "metadata": {},
   "source": [
    "Verify the results with `np.linalg.eig`"
   ]
  },
  {
   "cell_type": "code",
   "execution_count": null,
   "id": "f12bbf1f",
   "metadata": {},
   "outputs": [],
   "source": [
    "eigenvals, _ = np.linalg.eig(A_5x5)\n",
    "\n",
    "print(f\"\\nEigenvalues: {eigenvals}\")"
   ]
  },
  {
   "cell_type": "markdown",
   "id": "be719b97",
   "metadata": {},
   "source": [
    "verify the results are the same, but they may be listed in a different order (and that's ok!)"
   ]
  },
  {
   "cell_type": "markdown",
   "id": "ca2902d9",
   "metadata": {},
   "source": [
    "Let's try an even more complex example now. Below I have defined a function that will produce a randomly generated symetric full rank matrix. Such a matrix is garunteed to have real eigenvalues and was used to produce A_5x5 in the previous example.  "
   ]
  },
  {
   "cell_type": "code",
   "execution_count": null,
   "id": "3e9b1d52",
   "metadata": {},
   "outputs": [],
   "source": [
    "def generate_symmetric_full_rank_matrix(size=5):\n",
    "    while True:\n",
    "        # Generate a random matrix\n",
    "        matrix = np.random.randint(-20, 20, size=(size, size))\n",
    "        # Make it symmetric by averaging it with its transpose\n",
    "        symmetric_matrix = (matrix + matrix.T) / 2\n",
    "        # Check if the determinant is non-zero (i.e., matrix has full rank)\n",
    "        if np.linalg.det(symmetric_matrix) != 0:\n",
    "            return symmetric_matrix"
   ]
  },
  {
   "cell_type": "markdown",
   "id": "2e658f49",
   "metadata": {},
   "source": [
    "Use the above function to create a large matrix (e.g, $25 \\times 25$) or larger"
   ]
  },
  {
   "cell_type": "code",
   "execution_count": null,
   "id": "948d41f6",
   "metadata": {},
   "outputs": [],
   "source": [
    "# Generate the symmetric full rank matrix\n",
    "symmetric_matrix = generate_symmetric_full_rank_matrix(25)\n",
    "print(symmetric_matrix)"
   ]
  },
  {
   "cell_type": "markdown",
   "id": "f099c571",
   "metadata": {},
   "source": [
    "Note the print takes a lot of space! That said, it's worth seeing how large this is and think about how hard it would be to find the eigenvalues! Now, let's use our qr_eigen() function"
   ]
  },
  {
   "cell_type": "code",
   "execution_count": null,
   "id": "612fc1e7",
   "metadata": {},
   "outputs": [],
   "source": [
    "eigenvalues_QR = qr_eigen(symmetric_matrix)\n",
    "\n",
    "print(f\"\\nEigenvalues: {eigenvals_QR}\")"
   ]
  },
  {
   "cell_type": "markdown",
   "id": "6956c5d5",
   "metadata": {},
   "source": [
    "Note there should be as many distinct eigenvalues as $N$ of the matrix. Now let's check our work with `np.linalg.eig()`"
   ]
  },
  {
   "cell_type": "code",
   "execution_count": null,
   "id": "b8682e67",
   "metadata": {},
   "outputs": [],
   "source": [
    "eigenvalues_eig, _ = np.linalg.eig(symmetric_matrix)\n",
    "\n",
    "print(f\"\\nEigenvalues: {eigenvals_eig}\")"
   ]
  },
  {
   "cell_type": "markdown",
   "id": "967f7bc9",
   "metadata": {},
   "source": [
    "Note these lists may be difficult to compare if they are not in the same order. We can sort the arrays to make the comparison easier."
   ]
  },
  {
   "cell_type": "code",
   "execution_count": null,
   "id": "5bd451e1",
   "metadata": {},
   "outputs": [],
   "source": [
    "print(f\"\\nEigenvalues from np.linalg.eig: {np.sort(eigenvalues_eig)}\")\n",
    "\n",
    "np.sort(eigenvalues_eig)\n",
    "\n",
    "\n",
    "print(f\"\\nEigenvalues from iterative QR: {np.sort(eigenvalues_QR)}\")"
   ]
  },
  {
   "cell_type": "markdown",
   "id": "ef3a7d41",
   "metadata": {},
   "source": [
    "Note there might be slight diffrences due to rounding. But we can re-run our QR version with larger number of iterations which will converge to the np.linalg result!"
   ]
  },
  {
   "cell_type": "markdown",
   "id": "0f0777b4",
   "metadata": {},
   "source": [
    "### Activity 4: Application to Coupled Mass Spring System"
   ]
  },
  {
   "cell_type": "code",
   "execution_count": null,
   "id": "9ae9eb46",
   "metadata": {},
   "outputs": [],
   "source": [
    "def coupled_oscillator_system(m1, m2, k1, k2, k12):\n",
    "    \"\"\"\n",
    "    Analyze normal modes of two coupled oscillators\n",
    "    \n",
    "    Parameters:\n",
    "    m1, m2: masses\n",
    "    k1, k2: spring constants for individual springs\n",
    "    k12: coupling spring constant\n",
    "    \n",
    "    Returns eigenfrequencies and mode shapes\n",
    "    \"\"\"\n",
    "    \n",
    "    # Mass matrix\n",
    "    M = np.array([[m1, 0],\n",
    "                  [0, m2]])\n",
    "    \n",
    "    # Stiffness matrix\n",
    "    K = np.array([[k1 + k12, -k12],\n",
    "                  [-k12, k2 + k12]])\n",
    "    \n",
    "    # Solve generalized eigenvalue problem: K*v = ω²*M*v\n",
    "    # This becomes: M^(-1)*K*v = ω²*v\n",
    "    M_inv = np.linalg.inv(M)\n",
    "    A = M_inv @ K\n",
    "    \n",
    "    eigenvals, eigenvecs = np.linalg.eig(A)\n",
    "    \n",
    "    # Angular frequencies\n",
    "    omega = np.sqrt(eigenvals)\n",
    "    \n",
    "    # Sort by frequency\n",
    "    idx = np.argsort(omega)\n",
    "    omega = omega[idx]\n",
    "    eigenvecs = eigenvecs[:, idx]\n",
    "    \n",
    "    return omega, eigenvecs"
   ]
  },
  {
   "cell_type": "markdown",
   "id": "5fc84b85",
   "metadata": {},
   "source": [
    "System parameters"
   ]
  },
  {
   "cell_type": "code",
   "execution_count": null,
   "id": "b4d0443c",
   "metadata": {},
   "outputs": [],
   "source": [
    "m1, m2 = 1.0, 1.0  # Equal masses\n",
    "k1, k2 = 4.0, 4.0  # Equal spring constants\n",
    "k12 = 1.0           # Weak coupling"
   ]
  },
  {
   "cell_type": "markdown",
   "id": "f9cc1bf7",
   "metadata": {},
   "source": [
    "Solve motion of the system"
   ]
  },
  {
   "cell_type": "code",
   "execution_count": null,
   "id": "8415f519",
   "metadata": {},
   "outputs": [],
   "source": [
    "omega, modes = coupled_oscillator_system(m1, m2, k1, k2, k12)"
   ]
  },
  {
   "cell_type": "code",
   "execution_count": null,
   "id": "1ff9f2fd",
   "metadata": {},
   "outputs": [],
   "source": [
    "print(\"Coupled Oscillator System:\")\n",
    "print(f\"m1 = {m1} kg, m2 = {m2} kg\")\n",
    "print(f\"k1 = {k1} N/m, k2 = {k2} N/m, k12 = {k12} N/m\")\n",
    "print()\n",
    "\n",
    "print(\"Normal Mode Analysis:\")\n",
    "for i, (freq, mode) in enumerate(zip(omega, modes.T)):\n",
    "    print(f\"Mode {i+1}:\")\n",
    "    print(f\"  Frequency: ω = {freq:.3f} rad/s\")\n",
    "    print(f\"  Period: T = {2*np.pi/freq:.3f} s\")\n",
    "    print(f\"  Mode shape: [{mode[0]:.3f}, {mode[1]:.3f}]\")\n",
    "    \n",
    "    # Normalize so that the amplitude is easier to interpret\n",
    "    normalized_mode = mode / np.max(np.abs(mode))\n",
    "    print(f\"  Normalized: [{normalized_mode[0]:.3f}, {normalized_mode[1]:.3f}]\")\n",
    "    \n",
    "    if i == 0:\n",
    "        print(\"  → In-phase motion (symmetric mode)\")\n",
    "    else:\n",
    "        print(\"  → Out-of-phase motion (antisymmetric mode)\")\n",
    "    print()"
   ]
  },
  {
   "cell_type": "code",
   "execution_count": null,
   "id": "b99a7de4",
   "metadata": {},
   "outputs": [],
   "source": [
    "# Create visualization of the normal modes\n",
    "fig, axes = plt.subplots(2, 2, figsize=(12, 8))\n",
    "fig.suptitle('Coupled Mass-Spring System: Normal Mode Analysis', fontsize=14)\n",
    "\n",
    "# Parameters for visualization\n",
    "x_positions = np.array([0, 1])  # Equilibrium positions of masses\n",
    "t = np.linspace(0, 4*np.pi/omega[0], 1000)  # Time array\n",
    "\n",
    "# Plot 1: System schematic\n",
    "ax = axes[0, 0]\n",
    "ax.plot([-0.5, 0, 1, 1.5], [0, 0, 0, 0], 'k-', linewidth=2)\n",
    "ax.plot([0, 1], [0, 0], 'ro', markersize=15, label='Masses')\n",
    "ax.plot([0, 1], [-0.1, -0.1], 'ks', markersize=8)\n",
    "ax.text(0, -0.3, f'm₁={m1}', ha='center', fontsize=10)\n",
    "ax.text(1, -0.3, f'm₂={m2}', ha='center', fontsize=10)\n",
    "ax.text(0.5, 0.2, f'k₁₂={k12}', ha='center', fontsize=10)\n",
    "ax.text(-0.25, 0.1, f'k₁={k1}', ha='center', fontsize=10)\n",
    "ax.text(1.25, 0.1, f'k₂={k2}', ha='center', fontsize=10)\n",
    "ax.set_xlim(-0.6, 1.6)\n",
    "ax.set_ylim(-0.5, 0.4)\n",
    "ax.set_title('System Configuration')\n",
    "ax.set_aspect('equal')\n",
    "ax.grid(True, alpha=0.3)\n",
    "\n",
    "\n",
    "# Plot 2: Mode shapes\n",
    "ax = axes[0, 1]\n",
    "for i, (freq, mode) in enumerate(zip(omega, modes.T)):\n",
    "    normalized_mode = mode / np.max(np.abs(mode))\n",
    "    ax.plot(x_positions, normalized_mode, 'o-', linewidth=2, markersize=8,\n",
    "            label=f'Mode {i+1}: ω={freq:.2f} rad/s')\n",
    "    # Add arrows to show direction\n",
    "    for j, (x, y) in enumerate(zip(x_positions, normalized_mode)):\n",
    "        if abs(y) > 0.1:  # Only draw significant arrows\n",
    "            ax.arrow(x, 0, 0, y*0.8, head_width=0.05, head_length=0.1, \n",
    "                    fc=f'C{i}', ec=f'C{i}', alpha=0.7)\n",
    "\n",
    "ax.axhline(y=0, color='k', linestyle='--', alpha=0.5)\n",
    "ax.set_xlabel('Mass Position')\n",
    "ax.set_ylabel('Normalized Amplitude')\n",
    "ax.set_title('Normal Mode Shapes')\n",
    "ax.legend()\n",
    "ax.grid(True, alpha=0.3)\n",
    "\n",
    "# Plot 3: Time evolution of Mode 1 (easierin-phase)\n",
    "ax = axes[1, 0]\n",
    "mode1_normalized = modes[:, 0] / np.max(np.abs(modes[:, 0]))\n",
    "A1 = 1.0  # Amplitude\n",
    "x1_t = A1 * mode1_normalized[0] * np.cos(omega[0] * t)\n",
    "x2_t = A1 * mode1_normalized[1] * np.cos(omega[0] * t)\n",
    "\n",
    "ax.plot(t, x1_t, 'b-', label='Mass 1', linewidth=2)\n",
    "ax.plot(t, x2_t, 'r-', label='Mass 2', linewidth=2)\n",
    "ax.set_xlabel('Time (s)')\n",
    "ax.set_ylabel('Displacement')\n",
    "ax.set_title(f'Mode 1 Time Evolution (ω₁={omega[0]:.2f} rad/s)')\n",
    "ax.legend()\n",
    "ax.grid(True, alpha=0.3)\n",
    "\n",
    "# Plot 4: Time evolution of Mode 2 (out-of-phase)\n",
    "ax = axes[1, 1]\n",
    "mode2_normalized = modes[:, 1] / np.max(np.abs(modes[:, 1]))\n",
    "A2 = 1.0  # Amplitude\n",
    "x1_t = A2 * mode2_normalized[0] * np.cos(omega[1] * t)\n",
    "x2_t = A2 * mode2_normalized[1] * np.cos(omega[1] * t)\n",
    "\n",
    "ax.plot(t, x1_t, 'b-', label='Mass 1', linewidth=2)\n",
    "ax.plot(t, x2_t, 'r-', label='Mass 2', linewidth=2)\n",
    "ax.set_xlabel('Time (s)')\n",
    "ax.set_ylabel('Displacement')\n",
    "ax.set_title(f'Mode 2 Time Evolution (ω₂={omega[1]:.2f} rad/s)')\n",
    "ax.legend()\n",
    "ax.grid(True, alpha=0.3)\n",
    "\n",
    "plt.tight_layout()\n",
    "plt.show()\n",
    "\n",
    "print(\"Mode 1: Both masses move in-phase (symmetric mode)\")\n",
    "print(\"Mode 2: Masses move out-of-phase (antisymmetric mode)\")\n",
    "print(\"Notice how Mode 2 has higher frequency due to the coupling spring being active\")"
   ]
  },
  {
   "cell_type": "markdown",
   "id": "1bc61b46",
   "metadata": {},
   "source": [
    "Try running this again with parameters of your choice!"
   ]
  }
 ],
 "metadata": {
  "kernelspec": {
   "display_name": "Python 3 (ipykernel)",
   "language": "python",
   "name": "python3"
  },
  "language_info": {
   "codemirror_mode": {
    "name": "ipython",
    "version": 3
   },
   "file_extension": ".py",
   "mimetype": "text/x-python",
   "name": "python",
   "nbconvert_exporter": "python",
   "pygments_lexer": "ipython3",
   "version": "3.9.7"
  }
 },
 "nbformat": 4,
 "nbformat_minor": 5
}
