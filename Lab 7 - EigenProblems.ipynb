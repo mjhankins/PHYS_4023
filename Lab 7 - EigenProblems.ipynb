{
 "cells": [
  {
   "cell_type": "markdown",
   "id": "c6ab177d",
   "metadata": {},
   "source": [
    "# Lab 7 - Eigenproblems"
   ]
  },
  {
   "cell_type": "markdown",
   "id": "0c9d6fc9",
   "metadata": {},
   "source": [
    "In this set of lab activities, we will explore eigenvlaues, eigenvectors, and related methods. Remember from class that we have the relationship:\n",
    "\n",
    "$$\n",
    "\\mathsf{A} \\vec{v}_i = \\lambda_i \\vec{v}_i\n",
    "$$\n",
    "\n",
    "where $\\vec{v}_i$ is the eigenvector of the matrix $\\mathsf{A}$ corresponding to the eigenvalue $\\lambda_i$. "
   ]
  },
  {
   "cell_type": "markdown",
   "id": "0f4f56c4",
   "metadata": {},
   "source": [
    "### Activity 1: Eigenvalues and Eigenvectors"
   ]
  },
  {
   "cell_type": "code",
   "execution_count": null,
   "id": "8cac8f21",
   "metadata": {},
   "outputs": [],
   "source": [
    "#import libraries\n",
    "import numpy as np\n",
    "import matplotlib.pyplot as plt"
   ]
  },
  {
   "cell_type": "markdown",
   "id": "1404a17d",
   "metadata": {},
   "source": [
    "Let's start with a simple example of a 2x2 matrix. Use `np.linalg.eig()' to find eigenvalues and eigenvectors. "
   ]
  },
  {
   "cell_type": "code",
   "execution_count": null,
   "id": "2c123f6f",
   "metadata": {},
   "outputs": [],
   "source": [
    "# Simple 2x2 matrix example\n",
    "A_2x2 = np.array([[1, 2],\n",
    "                  [4, 3]])"
   ]
  },
  {
   "cell_type": "code",
   "execution_count": null,
   "id": "ef39057f",
   "metadata": {},
   "outputs": [],
   "source": [
    "eigenvals, eigenvecs = np.linalg.eig(A_2x2)\n",
    "\n",
    "print(\"Matrix A:\")\n",
    "print(A_2x2)\n",
    "print(f\"\\nEigenvalues: {eigenvals}\")\n",
    "print(f\"Eigenvectors:\\n{eigenvecs}\")"
   ]
  },
  {
   "cell_type": "markdown",
   "id": "1e2d5378",
   "metadata": {},
   "source": [
    "Note this 2x2 matrix example is simple enough that you can easily find the eigenvalues yourself by finding roots of the characteristic equation:\n",
    "\n",
    "$$\n",
    "\\det (A - \\lambda I) = 0\n",
    "$$\n",
    "\n",
    "In class we showed that this is equivalent to:\n",
    "\n",
    "$$\n",
    "\\lambda_i = \\frac{\\text{trace}(\\mathsf{A}) \\pm \\sqrt{(\\text{trace}(\\mathsf{A}))^2 - 4 \\det(\\mathsf{A})}}{2}\n",
    "$$\n",
    "\n",
    "for a 2x2 matrix. Try implementing this in the cell below and use it to confirm the earlier results of `np.linalg.eig`. Some code is already provided for you to help. "
   ]
  },
  {
   "cell_type": "code",
   "execution_count": null,
   "id": "579b6b84",
   "metadata": {},
   "outputs": [],
   "source": [
    "#compute trace and det of A_2x2\n",
    "trace_A=np.trace(A_2x2)\n",
    "det_A=np.linalg.det(A_2x2)\n",
    "\n",
    "### ADD CODE BELOW TO COMPLETE THE FORMULAS\n",
    "lambda_1 = ...\n",
    "\n",
    "lambda_2 = ...\n",
    "\n",
    "\n",
    "\n",
    "eigenvals = np.array([lambda_1, lambda_2])\n",
    "\n",
    "print(f\"\\nEigenvalues: {eigenvals}\")"
   ]
  },
  {
   "cell_type": "markdown",
   "id": "c25a05a4",
   "metadata": {},
   "source": [
    "Now lets look at a more complex example using a 3x3 matrix. Consider the matrix $\\mathsf{A}$ below"
   ]
  },
  {
   "cell_type": "code",
   "execution_count": null,
   "id": "a59d83ed",
   "metadata": {},
   "outputs": [],
   "source": [
    "A_3x3=np.array([[-18.,  -8., -22.],\n",
    "               [  2.,  -1.,   2.],\n",
    "               [ 14.,   7.,  18.]])"
   ]
  },
  {
   "cell_type": "markdown",
   "id": "f40134c5",
   "metadata": {},
   "source": [
    "Recall that the characteristic equation of a 3x3 matrix is a cubic polynomial. We can write this result in a more compact form using the following notation:\n",
    "\n",
    "$$\n",
    "-\\lambda^3 + \\text{Trace}(\\mathsf{A}) \\lambda^2 - \\text{Minor\\_Sum}(\\mathsf{A}) \\lambda^2 + \\det(A) = 0\n",
    "$$\n",
    "\n",
    "Below we have implemented this as a function, which constructs the equation given a 3x3 matrix and finds roots to reveal the eigenvalues"
   ]
  },
  {
   "cell_type": "code",
   "execution_count": null,
   "id": "bba5332b",
   "metadata": {},
   "outputs": [],
   "source": [
    "def solve_characteristic_3x3(A):\n",
    "    \"\"\"\n",
    "    Computes the characteristic polynomial for a 3x3 matrix, demonstrating how det(A - λI) becomes a cubic polynomial\n",
    "    returns real eigenvalues of characteristic eqn. \n",
    "    \"\"\"\n",
    "    if A.shape[0] != 3:\n",
    "        print(\"This function only works for 3x3 matrices\")\n",
    "        return None\n",
    "    \n",
    "    # The determinant of (A-lambda I) produces a cubic polynomial: -λ³ + c₂λ² + c₁λ + c₀\n",
    "    # We will solve for the coefficients using the lines below\n",
    "\n",
    "    # coefficient of the square term\n",
    "    trace = np.trace(A)  # Sum of diagonal elements\n",
    "    \n",
    "    # coefficient of the linear term - Sum of 2x2 principal minors\n",
    "    minor_sum = ( A[0, 0]* A[1, 1] -  A[0, 1]* A[1, 0]) + ( A[0, 0]* A[2, 2] -  A[0, 2]* A[2, 0]) + ( A[1, 1]* A[2, 2] -  A[1, 2]* A[2, 1])\n",
    "\n",
    "    # coefficient of the constant term\n",
    "    det_A=np.round(np.linalg.det(A),7) #introduce rounding on det to improve against numeric instabilitiy\n",
    "\n",
    "    # print characteristic polynomail\n",
    "    print(f\"\\nCharacteristic polynomial: -λ³ + {trace}λ² - {minor_sum}λ + {det_A} = 0\")\n",
    "    \n",
    "    # Convert to standard form and find roots\n",
    "    coefficients = [-1, trace, -minor_sum, det_A]  # Coefficients for -λ³ + trace*λ² - minor_sum*λ + det_A\n",
    "    eigenvalues = np.roots(coefficients)\n",
    "    \n",
    "    return eigenvalues"
   ]
  },
  {
   "cell_type": "markdown",
   "id": "753280ce",
   "metadata": {},
   "source": [
    "Review the code above to ensure that it makes sense with the given formula in the prior cell. Then let's use it to evaluate and find th eigenvalues of $\\mathsf{A}$"
   ]
  },
  {
   "cell_type": "code",
   "execution_count": null,
   "id": "fca3c26b",
   "metadata": {},
   "outputs": [],
   "source": [
    "#get eigenvalues using our function\n",
    "eigenvals=solve_characteristic_3x3(A_3x3)\n",
    "\n",
    "print(f\"\\nEigenvalues: {eigenvals}\")"
   ]
  },
  {
   "cell_type": "markdown",
   "id": "9d269095",
   "metadata": {},
   "source": [
    "Confirm the results of our formula using `np.linalg.eig`"
   ]
  },
  {
   "cell_type": "code",
   "execution_count": null,
   "id": "36601020",
   "metadata": {},
   "outputs": [],
   "source": [
    "### ADD YOUR CODE BELOW TO COMPLETE THE EXPRESSION\n",
    "eigenvals, _ = ...\n",
    "\n",
    "print(f\"\\nEigenvalues: {eigenvals}\")"
   ]
  },
  {
   "cell_type": "markdown",
   "id": "b190d9f8",
   "metadata": {},
   "source": [
    "### Activity 2: QR Decomposition"
   ]
  },
  {
   "cell_type": "markdown",
   "id": "4df7212f",
   "metadata": {},
   "source": [
    "In class we discussed the QR decompositon, which takes a matrix $\\mathsf{A}$ and expresses it as a product $\\mathsf{Q R}$, where $\\mathsf{Q}$ is orthogonal and $\\mathsf{R}$ is upper triangular. Numpy.linag has a built in function for QR decomposition. Let's try using it on our matrix A_3x3 from the previous activity. "
   ]
  },
  {
   "cell_type": "code",
   "execution_count": null,
   "id": "99896458",
   "metadata": {},
   "outputs": [],
   "source": [
    "Q, R = np.linalg.qr(A_3x3)\n",
    "\n",
    "print(\"Matrix Q:\")\n",
    "print(Q)\n",
    "\n",
    "print(\"\\nMatrix R:\")\n",
    "print(R)"
   ]
  },
  {
   "cell_type": "markdown",
   "id": "a85bc8a6",
   "metadata": {},
   "source": [
    "By printing the matricies, we can easily confirm that the matrix $\\mathsf{R}$ is upper triangular. How do we know $\\mathsf{Q}$ is orthognal? Check the relation $\\mathsf{Q^T Q = I}$. "
   ]
  },
  {
   "cell_type": "code",
   "execution_count": null,
   "id": "ec88b167",
   "metadata": {},
   "outputs": [],
   "source": [
    "#perform matrix multiplication. Note the use of the '@' sign which is generally prefered for multiplication in higher order matricies\n",
    "QTQ = Q.T @ Q\n",
    "\n",
    "print(\"\\nMatrix Q^T Q:\")\n",
    "print(QTQ)"
   ]
  },
  {
   "cell_type": "markdown",
   "id": "b6728328",
   "metadata": {},
   "source": [
    "This confirms the relation. Note the non-diagnoal elements are not zero exactly, but are small enought that they are consistent with zero due to roundoff error. "
   ]
  },
  {
   "cell_type": "markdown",
   "id": "4b3a52b9",
   "metadata": {},
   "source": [
    "Last, we can check that the product $\\mathsf{QR}$ is equivalent to $\\mathsf{A}$. Thus confirming the decomposition. "
   ]
  },
  {
   "cell_type": "code",
   "execution_count": null,
   "id": "9a9f2da5",
   "metadata": {},
   "outputs": [],
   "source": [
    "print(\"Matrix A:\")\n",
    "print(A_3x3)\n",
    "\n",
    "print(\"\\nMatrix Q * R:\")\n",
    "print(Q @ R)\n"
   ]
  },
  {
   "cell_type": "markdown",
   "id": "3cd970b0",
   "metadata": {},
   "source": [
    "To look at this method close, let's write our own function that does QR decomposition"
   ]
  },
  {
   "cell_type": "code",
   "execution_count": null,
   "id": "47939dc0",
   "metadata": {},
   "outputs": [],
   "source": [
    "def qr_dec(A):\n",
    "    n = A.shape[0]\n",
    "    A_working = np.copy(A)  # Working copy that we'll modify\n",
    "    Q = np.zeros((n, n))\n",
    "    R = np.zeros((n, n))\n",
    "    \n",
    "    for j in range(n):\n",
    "        # Orthogonalize current column against all previous Q columns\n",
    "        for i in range(j):\n",
    "            # Calculate projection coefficient: how much of A[:,j] is in direction Q[:,i]\n",
    "            R[i, j] = np.sum(Q[:, i] * A[:, j])\n",
    "            \n",
    "            # Remove the component of A[:,j] in direction Q[:,i]\n",
    "            A_working[:, j] -= R[i, j] * Q[:, i]\n",
    "        \n",
    "        # Calculate the length of the remaining vector\n",
    "        R[j, j] = np.sqrt(np.sum(A_working[:, j] * A_working[:, j]))\n",
    "        \n",
    "        # Normalize to get the unit vector for Q[:,j]\n",
    "        Q[:, j] = A_working[:, j] / R[j, j]\n",
    "    \n",
    "    return Q, R"
   ]
  },
  {
   "cell_type": "markdown",
   "id": "f71c0813",
   "metadata": {},
   "source": [
    "Let's use this on our matrix A_3x3 and verify the earlier result from `np.linalg.qr()`"
   ]
  },
  {
   "cell_type": "code",
   "execution_count": null,
   "id": "c3945c3c",
   "metadata": {},
   "outputs": [],
   "source": [
    "#find the results of our function\n",
    "myQ, myR = qr_dec(A_3x3)\n",
    "\n",
    "print(\"Matrix Q:\")\n",
    "print(myQ)\n",
    "\n",
    "print(\"\\nMatrix R:\")\n",
    "print(myR)"
   ]
  },
  {
   "cell_type": "markdown",
   "id": "b973e531",
   "metadata": {},
   "source": [
    "Note these agree with our earlier results!"
   ]
  },
  {
   "cell_type": "markdown",
   "id": "55cff019",
   "metadata": {},
   "source": [
    "Let's try this again now. Define your own matrix called 'B_3x3'. Use the function `qr_dec()` to find $\\mathsf{Q}$ and $\\mathsf{R}$."
   ]
  },
  {
   "cell_type": "code",
   "execution_count": null,
   "id": "58439332",
   "metadata": {},
   "outputs": [],
   "source": [
    "B_3x3=np.array([[ ... ,  ... , ... ],\n",
    "               [  ... ,  ... ,   ... ],\n",
    "               [ ... ,   ... ,  ... ]])"
   ]
  },
  {
   "cell_type": "code",
   "execution_count": null,
   "id": "e733ea74",
   "metadata": {},
   "outputs": [],
   "source": [
    "#find the results of our function\n",
    "QB, RB = qr_dec(B_3x3)\n",
    "\n",
    "print(\"Matrix Q from B:\")\n",
    "print(QB)\n",
    "\n",
    "print(\"\\nMatrix R from B:\")\n",
    "print(RB)"
   ]
  },
  {
   "cell_type": "markdown",
   "id": "d9fbc66f",
   "metadata": {},
   "source": [
    "Verify that $\\mathsf{B}$ is upper triangular in form. If not, you might want to adjust values and re-run until it is before proceeding beyond this point. \n",
    "\n",
    "Next, verify that Q is orthogonal via the relation $\\mathsf{Q^T Q = I}$."
   ]
  },
  {
   "cell_type": "code",
   "execution_count": null,
   "id": "2206130b",
   "metadata": {},
   "outputs": [],
   "source": [
    "### ADD YOUR CODE BELOW ###\n",
    "\n",
    "\n",
    "\n"
   ]
  },
  {
   "cell_type": "markdown",
   "id": "847249e1",
   "metadata": {},
   "source": [
    "And finally verify the relation that our matrix $\\mathsf{B}$ can be represented as the product of $\\mathsf{Q}$ and $\\mathsf{R}$"
   ]
  },
  {
   "cell_type": "code",
   "execution_count": null,
   "id": "db2c968a",
   "metadata": {},
   "outputs": [],
   "source": [
    "### ADD YOUR CODE BELOW ###\n",
    "\n",
    "\n",
    "\n"
   ]
  },
  {
   "cell_type": "markdown",
   "id": "47e858d4",
   "metadata": {},
   "source": [
    "### Activity 3: Iterative Methods using the QR Algorithm"
   ]
  },
  {
   "cell_type": "markdown",
   "id": "4210c09e",
   "metadata": {},
   "source": [
    "In class, we discussed the QR algorithm as a method of finding eigenvalues. Below we have coded a function that perfoms this proceedure. Examine the code and verify that it makes sense. "
   ]
  },
  {
   "cell_type": "code",
   "execution_count": null,
   "id": "692bfa2a",
   "metadata": {},
   "outputs": [],
   "source": [
    "def qr_eigen(input_matrix, max_iterations=200):    \n",
    "    A = np.copy(input_matrix)  # Working copy that we'll transform\n",
    "    \n",
    "    for iteration in range(1, max_iterations):\n",
    "        # Decompose current matrix into Q * R\n",
    "        Q, R = qr_dec(A)\n",
    "        \n",
    "        # Update A by multiplying R * Q \n",
    "        A = R @ Q\n",
    "    \n",
    "    # Extract eigenvalues from the diagonal of the final matrix\n",
    "    eigenvalues = np.diag(A)\n",
    "    \n",
    "    return eigenvalues"
   ]
  },
  {
   "cell_type": "markdown",
   "id": "b411a36d",
   "metadata": {},
   "source": [
    "let's test this out on the A_3x3 matrix that we used in an earlier activity. Verify that we get the same results as earlier"
   ]
  },
  {
   "cell_type": "code",
   "execution_count": null,
   "id": "d3660e7f",
   "metadata": {},
   "outputs": [],
   "source": [
    "eigenvals = qr_eigen(A_3x3)\n",
    "\n",
    "print(f\"\\nEigenvalues: {eigenvals}\")"
   ]
  },
  {
   "cell_type": "markdown",
   "id": "c849255b",
   "metadata": {},
   "source": [
    "Note that this method works very well for large matricies. For 3x3 it'a s bit of overkill, but illistrates the point. Let's try on a larger matrix next!"
   ]
  },
  {
   "cell_type": "code",
   "execution_count": null,
   "id": "d86650bd",
   "metadata": {},
   "outputs": [],
   "source": [
    "A_5x5 = np.array([[-7.,  5.5,  -6.5, -1.5,  0.5],\n",
    "                 [ 5.5,   8.,  -8.5,   5.,  -3.],\n",
    "                 [-6.5,  -8.5, -6.,    7.,  -6.5],\n",
    "                 [-1.5,   5.,   7.,    7.,  -0.5],\n",
    "                 [ 0.5,  -3.,  -6.5,  -0.5, -4.]])\n"
   ]
  },
  {
   "cell_type": "markdown",
   "id": "43094e9b",
   "metadata": {},
   "source": [
    "Let's run our function on the matrix above"
   ]
  },
  {
   "cell_type": "code",
   "execution_count": null,
   "id": "e0e7f0e0",
   "metadata": {},
   "outputs": [],
   "source": [
    "eigenvals = qr_eigen(A_5x5)\n",
    "\n",
    "print(f\"\\nEigenvalues: {eigenvals}\")"
   ]
  },
  {
   "cell_type": "markdown",
   "id": "ef04d567",
   "metadata": {},
   "source": [
    "Verify the results with `np.linalg.eig`"
   ]
  },
  {
   "cell_type": "code",
   "execution_count": null,
   "id": "91afd6ea",
   "metadata": {},
   "outputs": [],
   "source": [
    "eigenvals, _ = np.linalg.eig(A_5x5)\n",
    "\n",
    "print(f\"\\nEigenvalues: {eigenvals}\")"
   ]
  },
  {
   "cell_type": "markdown",
   "id": "aa0df48c",
   "metadata": {},
   "source": [
    "verify the results are the same, but they may be listed in a different order (and that's ok!)"
   ]
  },
  {
   "cell_type": "markdown",
   "id": "72ea735d",
   "metadata": {},
   "source": [
    "Let's try an even more complex example now. Below I have defined a function that will produce a randomly generated symetric full rank matrix. Such a matrix is garunteed to have real eigenvalues and was used to produce A_5x5 in the previous example.  "
   ]
  },
  {
   "cell_type": "code",
   "execution_count": null,
   "id": "aca63861",
   "metadata": {},
   "outputs": [],
   "source": [
    "def generate_symmetric_full_rank_matrix(size=5):\n",
    "    while True:\n",
    "        # Generate a random matrix\n",
    "        matrix = np.random.randint(-20, 20, size=(size, size))\n",
    "        # Make it symmetric by averaging it with its transpose\n",
    "        symmetric_matrix = (matrix + matrix.T) / 2\n",
    "        # Check if the determinant is non-zero (i.e., matrix has full rank)\n",
    "        if np.linalg.det(symmetric_matrix) != 0:\n",
    "            return symmetric_matrix"
   ]
  },
  {
   "cell_type": "markdown",
   "id": "0543cdd5",
   "metadata": {},
   "source": [
    "Use the above function to create a large matrix (e.g, $25 \\times 25$) or larger"
   ]
  },
  {
   "cell_type": "code",
   "execution_count": null,
   "id": "700e6630",
   "metadata": {},
   "outputs": [],
   "source": [
    "# Generate the symmetric full rank matrix\n",
    "symmetric_matrix = generate_symmetric_full_rank_matrix(25)\n",
    "print(symmetric_matrix)"
   ]
  },
  {
   "cell_type": "markdown",
   "id": "60259c63",
   "metadata": {},
   "source": [
    "Note the print takes a lot of space! That said, it's worth seeing how large this is and think about how hard it would be to find the eigenvalues! Now, let's use our qr_eigen() function"
   ]
  },
  {
   "cell_type": "code",
   "execution_count": null,
   "id": "0b759e0e",
   "metadata": {},
   "outputs": [],
   "source": [
    "eigenvalues_QR = qr_eigen(symmetric_matrix)\n",
    "\n",
    "print(f\"\\nEigenvalues: {eigenvals_QR}\")"
   ]
  },
  {
   "cell_type": "markdown",
   "id": "b85fe10a",
   "metadata": {},
   "source": [
    "Note there should be as many distinct eigenvalues as $N$ of the matrix. Now let's check our work with `np.linalg.eig()`"
   ]
  },
  {
   "cell_type": "code",
   "execution_count": null,
   "id": "7b093da1",
   "metadata": {},
   "outputs": [],
   "source": [
    "eigenvalues_eig, _ = np.linalg.eig(symmetric_matrix)\n",
    "\n",
    "print(f\"\\nEigenvalues: {eigenvals_eig}\")"
   ]
  },
  {
   "cell_type": "markdown",
   "id": "1c6aecac",
   "metadata": {},
   "source": [
    "Note these lists may be difficult to compare if they are not in the same order. We can sort the arrays to make the comparison easier."
   ]
  },
  {
   "cell_type": "code",
   "execution_count": null,
   "id": "9cf85890",
   "metadata": {},
   "outputs": [],
   "source": [
    "print(f\"\\nEigenvalues from np.linalg.eig: {np.sort(eigenvalues_eig)}\")\n",
    "\n",
    "np.sort(eigenvalues_eig)\n",
    "\n",
    "\n",
    "print(f\"\\nEigenvalues from iterative QR: {np.sort(eigenvalues_QR)}\")"
   ]
  },
  {
   "cell_type": "markdown",
   "id": "774fa256",
   "metadata": {},
   "source": [
    "Note there might be slight diffrences due to rounding. But we can re-run our QR version with larger number of iterations which will converge to the np.linalg result!"
   ]
  },
  {
   "cell_type": "markdown",
   "id": "0f9e3060",
   "metadata": {},
   "source": [
    "### Activity 4: Application to Coupled Mass Spring System"
   ]
  },
  {
   "cell_type": "markdown",
   "id": "616f06dd",
   "metadata": {},
   "source": [
    "Eigenvalues and Eigenvectors can be used to analyize the motion of various types of systems. In this activity, we will look at a coupled mass spring system. similar to the image below. "
   ]
  },
  {
   "attachments": {},
   "cell_type": "markdown",
   "id": "a10b5afe",
   "metadata": {},
   "source": [
    "![](https://www.researchgate.net/profile/Graham-Wood-2/publication/303598579/figure/fig1/AS:416829198618624@1476391233548/Mass-spring-model-of-a-2-DOF-system-consisting-of-two-coupled-resonators.png)"
   ]
  },
  {
   "cell_type": "markdown",
   "id": "0c97debc",
   "metadata": {},
   "source": [
    "Descriptions of this system depend on the masses $m_1$ and $m_2$ as well as the spring conststants $k_1$ and $k_2$. Note in this set up, we also conside coulpling of the masses represented by $k_c$. \n",
    "\n",
    "To understand the motion of this sytem, which must solve a problem of the form:\n",
    "$$\\mathsf{M^{-1} K}\\vec{v}_i = \\omega_i^2 \\vec{v_i}$$\n",
    "Where $\\mathsf{K}$ is a matrix of the spring constants, $\\mathsf{M}$ is a diagnonal matrix of the masses, $\\vec{v}_i$ are the eigenvectors (often refered to as modes) and $\\omega_i^2$ are the eigenvalues (with $\\omega_i$ often being refered to as the eigenfrequency). \n",
    "\n",
    "Below we have defined a function that performs the math operations to solve the modes and frequencies using the method described above. Take a moment to look at the code, and verify that it does the expected computation. "
   ]
  },
  {
   "cell_type": "code",
   "execution_count": null,
   "id": "ce710a5c",
   "metadata": {},
   "outputs": [],
   "source": [
    "def coupled_oscillator_system(m1, m2, k1, k2, k12):\n",
    "    \n",
    "    # Mass matrix\n",
    "    M = np.array([[m1, 0],\n",
    "                  [0, m2]])\n",
    "    \n",
    "    # Stiffness matrix\n",
    "    K = np.array([[k1 + k12, -k12],\n",
    "                  [-k12, k2 + k12]])\n",
    "    \n",
    "    M_inv = np.linalg.inv(M)\n",
    "    A = M_inv @ K\n",
    "    \n",
    "    eigenvals, eigenvecs = np.linalg.eig(A)\n",
    "    \n",
    "    # Angular frequencies\n",
    "    omega = np.sqrt(eigenvals)\n",
    "    \n",
    "    # Sort by frequency\n",
    "    idx = np.argsort(omega)\n",
    "    omega = omega[idx]\n",
    "    eigenvecs = eigenvecs[:, idx]\n",
    "    \n",
    "    return omega, eigenvecs"
   ]
  },
  {
   "cell_type": "markdown",
   "id": "69534ff8",
   "metadata": {},
   "source": [
    "To use our function above, we must have some system parameters defined. "
   ]
  },
  {
   "cell_type": "code",
   "execution_count": null,
   "id": "61fb59c2",
   "metadata": {},
   "outputs": [],
   "source": [
    "m1, m2 = 1.0, 1.0  # Equal masses\n",
    "k1, k2 = 4.0, 4.0  # Equal spring constants\n",
    "k12 = 1.0           # Weak coupling"
   ]
  },
  {
   "cell_type": "markdown",
   "id": "14483c2d",
   "metadata": {},
   "source": [
    "Use the provided parameters and our function to solve the motion of the system"
   ]
  },
  {
   "cell_type": "code",
   "execution_count": null,
   "id": "ceae7e8e",
   "metadata": {},
   "outputs": [],
   "source": [
    "omega, modes = coupled_oscillator_system(m1, m2, k1, k2, k12)"
   ]
  },
  {
   "cell_type": "markdown",
   "id": "0571fa31",
   "metadata": {},
   "source": [
    "Print the results of the solution"
   ]
  },
  {
   "cell_type": "code",
   "execution_count": null,
   "id": "521f8965",
   "metadata": {},
   "outputs": [],
   "source": [
    "print(\"Coupled Oscillator System:\")\n",
    "print(f\"m1 = {m1} kg, m2 = {m2} kg\")\n",
    "print(f\"k1 = {k1} N/m, k2 = {k2} N/m, k12 = {k12} N/m\")\n",
    "print()\n",
    "\n",
    "print(\"Normal Mode Analysis:\")\n",
    "for i, (freq, mode) in enumerate(zip(omega, modes.T)):\n",
    "    print(f\"Mode {i+1}:\")\n",
    "    print(f\"  Frequency: ω = {freq:.3f} rad/s\")\n",
    "    print(f\"  Period: T = {2*np.pi/freq:.3f} s\")\n",
    "    print(f\"  Mode shape: [{mode[0]:.3f}, {mode[1]:.3f}]\")\n",
    "    \n",
    "    # Normalize so that the amplitude is easier to interpret\n",
    "    normalized_mode = mode / np.max(np.abs(mode))\n",
    "    print(f\"  Normalized: [{normalized_mode[0]:.3f}, {normalized_mode[1]:.3f}]\")\n",
    "    \n",
    "    if i == 0:\n",
    "        print(\"  → In-phase motion (symmetric mode)\")\n",
    "    else:\n",
    "        print(\"  → Out-of-phase motion (antisymmetric mode)\")\n",
    "    print()"
   ]
  },
  {
   "cell_type": "markdown",
   "id": "fd7f6b70",
   "metadata": {},
   "source": [
    "Beyond a text summary, it's also useful to visualize the result. Run the cell below to take a look at our solution in detail. "
   ]
  },
  {
   "cell_type": "code",
   "execution_count": null,
   "id": "aa092ed4",
   "metadata": {},
   "outputs": [],
   "source": [
    "# Create visualization of the normal modes\n",
    "fig, axes = plt.subplots(2, 2, figsize=(12, 8))\n",
    "fig.suptitle('Coupled Mass-Spring System: Normal Mode Analysis', fontsize=14)\n",
    "\n",
    "# Parameters for visualization\n",
    "x_positions = np.array([0, 1])  # Equilibrium positions of masses\n",
    "t = np.linspace(0, 4*np.pi/omega[0], 1000)  # Time array\n",
    "\n",
    "# Plot 1: System schematic\n",
    "ax = axes[0, 0]\n",
    "ax.plot([-0.5, 0, 1, 1.5], [0, 0, 0, 0], 'k-', linewidth=2)\n",
    "ax.plot([0, 1], [0, 0], 'ro', markersize=15, label='Masses')\n",
    "ax.plot([0, 1], [-0.1, -0.1], 'ks', markersize=8)\n",
    "ax.text(0, -0.3, f'm₁={m1}', ha='center', fontsize=10)\n",
    "ax.text(1, -0.3, f'm₂={m2}', ha='center', fontsize=10)\n",
    "ax.text(0.5, 0.2, f'k₁₂={k12}', ha='center', fontsize=10)\n",
    "ax.text(-0.25, 0.1, f'k₁={k1}', ha='center', fontsize=10)\n",
    "ax.text(1.25, 0.1, f'k₂={k2}', ha='center', fontsize=10)\n",
    "ax.set_xlim(-0.6, 1.6)\n",
    "ax.set_ylim(-0.5, 0.4)\n",
    "ax.set_title('System Configuration')\n",
    "ax.set_aspect('equal')\n",
    "ax.grid(True, alpha=0.3)\n",
    "\n",
    "\n",
    "# Plot 2: Mode shapes\n",
    "ax = axes[0, 1]\n",
    "for i, (freq, mode) in enumerate(zip(omega, modes.T)):\n",
    "    normalized_mode = mode / np.max(np.abs(mode))\n",
    "    ax.plot(x_positions, normalized_mode, 'o-', linewidth=2, markersize=8,\n",
    "            label=f'Mode {i+1}: ω={freq:.2f} rad/s')\n",
    "    # Add arrows to show direction\n",
    "    for j, (x, y) in enumerate(zip(x_positions, normalized_mode)):\n",
    "        if abs(y) > 0.1:  # Only draw significant arrows\n",
    "            ax.arrow(x, 0, 0, y*0.8, head_width=0.05, head_length=0.1, \n",
    "                    fc=f'C{i}', ec=f'C{i}', alpha=0.7)\n",
    "\n",
    "ax.axhline(y=0, color='k', linestyle='--', alpha=0.5)\n",
    "ax.set_xlabel('Mass Position')\n",
    "ax.set_ylabel('Normalized Amplitude')\n",
    "ax.set_title('Normal Mode Shapes')\n",
    "ax.legend()\n",
    "ax.grid(True, alpha=0.3)\n",
    "\n",
    "# Plot 3: Time evolution of Mode 1 (easierin-phase)\n",
    "ax = axes[1, 0]\n",
    "mode1_normalized = modes[:, 0] / np.max(np.abs(modes[:, 0]))\n",
    "A1 = 1.0  # Amplitude\n",
    "x1_t = A1 * mode1_normalized[0] * np.cos(omega[0] * t)\n",
    "x2_t = A1 * mode1_normalized[1] * np.cos(omega[0] * t)\n",
    "\n",
    "ax.plot(t, x1_t, 'b-', label='Mass 1', linewidth=2)\n",
    "ax.plot(t, x2_t, 'r-', label='Mass 2', linewidth=2)\n",
    "ax.set_xlabel('Time (s)')\n",
    "ax.set_ylabel('Displacement')\n",
    "ax.set_title(f'Mode 1 Time Evolution (ω₁={omega[0]:.2f} rad/s)')\n",
    "ax.legend()\n",
    "ax.grid(True, alpha=0.3)\n",
    "\n",
    "# Plot 4: Time evolution of Mode 2 (out-of-phase)\n",
    "ax = axes[1, 1]\n",
    "mode2_normalized = modes[:, 1] / np.max(np.abs(modes[:, 1]))\n",
    "A2 = 1.0  # Amplitude\n",
    "x1_t = A2 * mode2_normalized[0] * np.cos(omega[1] * t)\n",
    "x2_t = A2 * mode2_normalized[1] * np.cos(omega[1] * t)\n",
    "\n",
    "ax.plot(t, x1_t, 'b-', label='Mass 1', linewidth=2)\n",
    "ax.plot(t, x2_t, 'r-', label='Mass 2', linewidth=2)\n",
    "ax.set_xlabel('Time (s)')\n",
    "ax.set_ylabel('Displacement')\n",
    "ax.set_title(f'Mode 2 Time Evolution (ω₂={omega[1]:.2f} rad/s)')\n",
    "ax.legend()\n",
    "ax.grid(True, alpha=0.3)\n",
    "\n",
    "plt.tight_layout()\n",
    "plt.show()\n",
    "\n",
    "print(\"Mode 1: Both masses move in-phase (symmetric mode)\")\n",
    "print(\"Mode 2: Masses move out-of-phase (antisymmetric mode)\")\n",
    "print(\"Notice how Mode 2 has higher frequency due to the coupling spring being active\")"
   ]
  },
  {
   "cell_type": "markdown",
   "id": "bb7c631a",
   "metadata": {},
   "source": [
    "Try running this again with parameters of your choice!"
   ]
  },
  {
   "cell_type": "code",
   "execution_count": null,
   "id": "b4299daa",
   "metadata": {},
   "outputs": [],
   "source": [
    "m1, m2 = ... , ...  # masses\n",
    "k1, k2 = ..., ... # spring constants\n",
    "k12 = ...           # coupling constant"
   ]
  },
  {
   "cell_type": "code",
   "execution_count": null,
   "id": "2f3df669",
   "metadata": {},
   "outputs": [],
   "source": [
    "# use function to find results\n",
    "omega, modes = coupled_oscillator_system(m1, m2, k1, k2, k12)\n",
    "\n",
    "# print results\n",
    "print(\"Coupled Oscillator System:\")\n",
    "print(f\"m1 = {m1} kg, m2 = {m2} kg\")\n",
    "print(f\"k1 = {k1} N/m, k2 = {k2} N/m, k12 = {k12} N/m\")\n",
    "print()\n",
    "\n",
    "print(\"Normal Mode Analysis:\")\n",
    "for i, (freq, mode) in enumerate(zip(omega, modes.T)):\n",
    "    print(f\"Mode {i+1}:\")\n",
    "    print(f\"  Frequency: ω = {freq:.3f} rad/s\")\n",
    "    print(f\"  Period: T = {2*np.pi/freq:.3f} s\")\n",
    "    print(f\"  Mode shape: [{mode[0]:.3f}, {mode[1]:.3f}]\")\n",
    "    \n",
    "    # Normalize so that the amplitude is easier to interpret\n",
    "    normalized_mode = mode / np.max(np.abs(mode))\n",
    "    print(f\"  Normalized: [{normalized_mode[0]:.3f}, {normalized_mode[1]:.3f}]\")\n",
    "    \n",
    "    if i == 0:\n",
    "        print(\"  → In-phase motion (symmetric mode)\")\n",
    "    else:\n",
    "        print(\"  → Out-of-phase motion (antisymmetric mode)\")\n",
    "    print()"
   ]
  },
  {
   "cell_type": "code",
   "execution_count": null,
   "id": "5416997c",
   "metadata": {},
   "outputs": [],
   "source": [
    "# Plot results\n",
    "fig, axes = plt.subplots(2, 2, figsize=(12, 8))\n",
    "fig.suptitle('Coupled Mass-Spring System: Normal Mode Analysis', fontsize=14)\n",
    "\n",
    "# Parameters for visualization\n",
    "x_positions = np.array([0, 1])  # Equilibrium positions of masses\n",
    "t = np.linspace(0, 4*np.pi/omega[0], 1000)  # Time array\n",
    "\n",
    "# Plot 1: System schematic\n",
    "ax = axes[0, 0]\n",
    "ax.plot([-0.5, 0, 1, 1.5], [0, 0, 0, 0], 'k-', linewidth=2)\n",
    "ax.plot([0, 1], [0, 0], 'ro', markersize=15, label='Masses')\n",
    "ax.plot([0, 1], [-0.1, -0.1], 'ks', markersize=8)\n",
    "ax.text(0, -0.3, f'm₁={m1}', ha='center', fontsize=10)\n",
    "ax.text(1, -0.3, f'm₂={m2}', ha='center', fontsize=10)\n",
    "ax.text(0.5, 0.2, f'k₁₂={k12}', ha='center', fontsize=10)\n",
    "ax.text(-0.25, 0.1, f'k₁={k1}', ha='center', fontsize=10)\n",
    "ax.text(1.25, 0.1, f'k₂={k2}', ha='center', fontsize=10)\n",
    "ax.set_xlim(-0.6, 1.6)\n",
    "ax.set_ylim(-0.5, 0.4)\n",
    "ax.set_title('System Configuration')\n",
    "ax.set_aspect('equal')\n",
    "ax.grid(True, alpha=0.3)\n",
    "\n",
    "\n",
    "# Plot 2: Mode shapes\n",
    "ax = axes[0, 1]\n",
    "for i, (freq, mode) in enumerate(zip(omega, modes.T)):\n",
    "    normalized_mode = mode / np.max(np.abs(mode))\n",
    "    ax.plot(x_positions, normalized_mode, 'o-', linewidth=2, markersize=8,\n",
    "            label=f'Mode {i+1}: ω={freq:.2f} rad/s')\n",
    "    # Add arrows to show direction\n",
    "    for j, (x, y) in enumerate(zip(x_positions, normalized_mode)):\n",
    "        if abs(y) > 0.1:  # Only draw significant arrows\n",
    "            ax.arrow(x, 0, 0, y*0.8, head_width=0.05, head_length=0.1, \n",
    "                    fc=f'C{i}', ec=f'C{i}', alpha=0.7)\n",
    "\n",
    "ax.axhline(y=0, color='k', linestyle='--', alpha=0.5)\n",
    "ax.set_xlabel('Mass Position')\n",
    "ax.set_ylabel('Normalized Amplitude')\n",
    "ax.set_title('Normal Mode Shapes')\n",
    "ax.legend()\n",
    "ax.grid(True, alpha=0.3)\n",
    "\n",
    "# Plot 3: Time evolution of Mode 1 (easierin-phase)\n",
    "ax = axes[1, 0]\n",
    "mode1_normalized = modes[:, 0] / np.max(np.abs(modes[:, 0]))\n",
    "A1 = 1.0  # Amplitude\n",
    "x1_t = A1 * mode1_normalized[0] * np.cos(omega[0] * t)\n",
    "x2_t = A1 * mode1_normalized[1] * np.cos(omega[0] * t)\n",
    "\n",
    "ax.plot(t, x1_t, 'b-', label='Mass 1', linewidth=2)\n",
    "ax.plot(t, x2_t, 'r-', label='Mass 2', linewidth=2)\n",
    "ax.set_xlabel('Time (s)')\n",
    "ax.set_ylabel('Displacement')\n",
    "ax.set_title(f'Mode 1 Time Evolution (ω₁={omega[0]:.2f} rad/s)')\n",
    "ax.legend()\n",
    "ax.grid(True, alpha=0.3)\n",
    "\n",
    "# Plot 4: Time evolution of Mode 2 (out-of-phase)\n",
    "ax = axes[1, 1]\n",
    "mode2_normalized = modes[:, 1] / np.max(np.abs(modes[:, 1]))\n",
    "A2 = 1.0  # Amplitude\n",
    "x1_t = A2 * mode2_normalized[0] * np.cos(omega[1] * t)\n",
    "x2_t = A2 * mode2_normalized[1] * np.cos(omega[1] * t)\n",
    "\n",
    "ax.plot(t, x1_t, 'b-', label='Mass 1', linewidth=2)\n",
    "ax.plot(t, x2_t, 'r-', label='Mass 2', linewidth=2)\n",
    "ax.set_xlabel('Time (s)')\n",
    "ax.set_ylabel('Displacement')\n",
    "ax.set_title(f'Mode 2 Time Evolution (ω₂={omega[1]:.2f} rad/s)')\n",
    "ax.legend()\n",
    "ax.grid(True, alpha=0.3)\n",
    "\n",
    "plt.tight_layout()\n",
    "plt.show()\n",
    "\n",
    "print(\"Mode 1: Both masses move in-phase (symmetric mode)\")\n",
    "print(\"Mode 2: Masses move out-of-phase (antisymmetric mode)\")\n",
    "print(\"Notice how Mode 2 has higher frequency due to the coupling spring being active\")"
   ]
  },
  {
   "cell_type": "markdown",
   "id": "c3539294",
   "metadata": {},
   "source": [
    "### Activity 5: Beam Vibration Analysis"
   ]
  },
  {
   "cell_type": "markdown",
   "id": "6e143b38",
   "metadata": {},
   "source": [
    "Similar to the last activity, we can perform an analysis of vibrational modes in continous objects like a metal beam. Below we have defined a function that takes care of the modeling process, which depends on the number of modes to consider (n_nodes), the Young's Modulus of the material (E), the material density $(\\rho)$, and geometric factors like the cross sectional area (A), and the length (L)\n",
    "\n",
    "Take a moment to review before moving on to the next cell. "
   ]
  },
  {
   "cell_type": "code",
   "execution_count": null,
   "id": "5070ff8f",
   "metadata": {},
   "outputs": [],
   "source": [
    "def beam_vibration_analysis(n_nodes=5, E=210e9, rho=7850, A=0.01, L=1.0):\n",
    "    \"\"\"\n",
    "    Simple finite element analysis of beam vibrations using eigenvalues/eigenvectors\n",
    "    Units on all quantites are mks standard. \n",
    "    \"\"\"\n",
    "    \n",
    "    # Element length\n",
    "    dx = L / (n_nodes - 1)\n",
    "    \n",
    "    # Simplified mass and stiffness matrices for axial vibration\n",
    "    # (This is a simplified model - real beam FEA is more complex)\n",
    "    \n",
    "    # Mass matrix (lumped mass)\n",
    "    m_element = rho * A * dx\n",
    "    M = np.eye(n_nodes) * m_element\n",
    "    \n",
    "    # Stiffness matrix (axial stiffness)\n",
    "    k_element = E * A / dx\n",
    "    K = np.zeros((n_nodes, n_nodes))\n",
    "    \n",
    "    # Fill stiffness matrix\n",
    "    for i in range(n_nodes-1):\n",
    "        K[i, i] += k_element\n",
    "        K[i, i+1] -= k_element\n",
    "        K[i+1, i] -= k_element\n",
    "        K[i+1, i+1] += k_element\n",
    "    \n",
    "    # Apply boundary condition (fixed at x=0)\n",
    "    K = K[1:, 1:]  # Remove first row/column\n",
    "    M = M[1:, 1:]  # Remove first row/column\n",
    "    \n",
    "    # Solve generalized eigenvalue problem\n",
    "    eigenvals, eigenvecs = eig(K, M)\n",
    "    \n",
    "    # Natural frequencies\n",
    "    omega = np.sqrt(np.real(eigenvals))\n",
    "    \n",
    "    # Sort by frequency\n",
    "    idx = np.argsort(omega)\n",
    "    omega = omega[idx]\n",
    "    eigenvecs = np.real(eigenvecs[:, idx])\n",
    "    \n",
    "    return omega, eigenvecs"
   ]
  },
  {
   "cell_type": "markdown",
   "id": "a6d16987",
   "metadata": {},
   "source": [
    "First, let's try running this code using the default values that are given in the function (we can change these and take a closer look later on)"
   ]
  },
  {
   "cell_type": "code",
   "execution_count": null,
   "id": "fc045b9c",
   "metadata": {},
   "outputs": [],
   "source": [
    "print(\"Beam Vibration Analysis (Simplified 1D Model):\")\n",
    "omega_beam, modes_beam = beam_vibration_analysis()"
   ]
  },
  {
   "cell_type": "markdown",
   "id": "3b8b724b",
   "metadata": {},
   "source": [
    "Print the results"
   ]
  },
  {
   "cell_type": "code",
   "execution_count": null,
   "id": "0d14b87d",
   "metadata": {},
   "outputs": [],
   "source": [
    "print(\"Natural frequencies (first 3 modes):\")\n",
    "for i in range(min(3, len(omega_beam))):\n",
    "    f_hz = omega_beam[i] / (2 * np.pi)\n",
    "    print(f\"Mode {i+1}: f = {f_hz:.2f} Hz (ω = {omega_beam[i]:.2f} rad/s)\")"
   ]
  },
  {
   "cell_type": "markdown",
   "id": "c1b0d4a4",
   "metadata": {},
   "source": [
    "Plot the results"
   ]
  },
  {
   "cell_type": "code",
   "execution_count": null,
   "id": "7cf6be23",
   "metadata": {},
   "outputs": [],
   "source": [
    "# Create beam position array (excluding fixed end at x=0)\n",
    "n_nodes = 5\n",
    "L = 1.0\n",
    "x_beam = np.linspace(L/(n_nodes-1), L, n_nodes-1)  # Exclude x=0 (fixed end)\n",
    "\n",
    "# Create visualization of beam mode shapes\n",
    "fig, axes = plt.subplots(2, 2, figsize=(12, 8))\n",
    "fig.suptitle('Beam Vibration Analysis: Mode Shapes', fontsize=14)\n",
    "\n",
    "# Plot 1: Beam schematic\n",
    "ax = axes[0, 0]\n",
    "x_full = np.linspace(0, L, 20)\n",
    "y_beam = np.zeros_like(x_full)\n",
    "ax.plot(x_full, y_beam, 'k-', linewidth=4, label='Beam')\n",
    "ax.plot(0, 0, 'ks', markersize=12, label='Fixed Support')\n",
    "ax.plot(x_beam, np.zeros_like(x_beam), 'ro', markersize=8, label='Nodes')\n",
    "\n",
    "# Add some visual elements\n",
    "ax.fill_between([-0.1, 0], [-0.05, -0.05], [0.05, 0.05], color='gray', alpha=0.7)\n",
    "ax.arrow(L*0.7, 0.15, 0, -0.1, head_width=0.02, head_length=0.02, fc='blue', ec='blue')\n",
    "ax.text(L*0.7, 0.18, 'Free End', ha='center', fontsize=10)\n",
    "\n",
    "ax.set_xlim(-0.15, L*1.1)\n",
    "ax.set_ylim(-0.1, 0.2)\n",
    "ax.set_xlabel('Position along beam (m)')\n",
    "ax.set_title('Beam Configuration (Fixed-Free)')\n",
    "ax.legend()\n",
    "ax.grid(True, alpha=0.3)\n",
    "\n",
    "# Plot 2: First three mode shapes\n",
    "ax = axes[0, 1]\n",
    "colors = ['blue', 'red', 'green']\n",
    "for i in range(min(3, len(omega_beam))):\n",
    "    # Normalize mode shape\n",
    "    mode_normalized = modes_beam[:, i] / np.max(np.abs(modes_beam[:, i]))\n",
    "    \n",
    "    # Add fixed end (displacement = 0)\n",
    "    x_plot = np.concatenate([[0], x_beam])\n",
    "    mode_plot = np.concatenate([[0], mode_normalized])\n",
    "    \n",
    "    f_hz = omega_beam[i] / (2 * np.pi)\n",
    "    ax.plot(x_plot, mode_plot, 'o-', color=colors[i], linewidth=2, \n",
    "            markersize=6, label=f'Mode {i+1}: {f_hz:.1f} Hz')\n",
    "\n",
    "ax.axhline(y=0, color='k', linestyle='--', alpha=0.5)\n",
    "ax.set_xlabel('Position along beam (m)')\n",
    "ax.set_ylabel('Normalized Displacement')\n",
    "ax.set_title('Mode Shapes')\n",
    "ax.legend()\n",
    "ax.grid(True, alpha=0.3)\n",
    "\n",
    "# Plot 3: Time evolution of first mode\n",
    "ax = axes[1, 0]\n",
    "t_beam = np.linspace(0, 3*2*np.pi/omega_beam[0], 1000)\n",
    "mode1_norm = modes_beam[:, 0] / np.max(np.abs(modes_beam[:, 0]))\n",
    "\n",
    "# Show time evolution at different points along the beam\n",
    "positions_to_show = [0, len(x_beam)//3, 2*len(x_beam)//3, len(x_beam)-1]\n",
    "for idx in positions_to_show:\n",
    "    if idx < len(mode1_norm):\n",
    "        displacement = mode1_norm[idx] * np.cos(omega_beam[0] * t_beam)\n",
    "        ax.plot(t_beam, displacement, linewidth=2, \n",
    "                label=f'x = {x_beam[idx]:.2f} m')\n",
    "\n",
    "ax.set_xlabel('Time (s)')\n",
    "ax.set_ylabel('Displacement')\n",
    "ax.set_title(f'Mode 1 Time Evolution ({omega_beam[0]/(2*np.pi):.1f} Hz)')\n",
    "ax.legend()\n",
    "ax.grid(True, alpha=0.3)\n",
    "\n",
    "# Plot 4: Frequency spectrum\n",
    "ax = axes[1, 1]\n",
    "frequencies_hz = omega_beam[:min(5, len(omega_beam))] / (2 * np.pi)\n",
    "mode_numbers = range(1, len(frequencies_hz) + 1)\n",
    "\n",
    "bars = ax.bar(mode_numbers, frequencies_hz, color='skyblue', alpha=0.7, edgecolor='blue')\n",
    "ax.set_xlabel('Mode Number')\n",
    "ax.set_ylabel('Frequency (Hz)')\n",
    "ax.set_title('Natural Frequencies')\n",
    "ax.grid(True, alpha=0.3, axis='y')\n",
    "\n",
    "# Add frequency labels on bars\n",
    "for i, (bar, freq) in enumerate(zip(bars, frequencies_hz)):\n",
    "    height = bar.get_height()\n",
    "    ax.text(bar.get_x() + bar.get_width()/2., height + 0.1,\n",
    "            f'{freq:.1f}', ha='center', va='bottom', fontsize=10)\n",
    "\n",
    "plt.tight_layout()\n",
    "plt.show()\n",
    "\n",
    "print(\"\\nKey observations from beam analysis:\")\n",
    "print(\"- Mode shapes show increasing number of nodes with higher modes\")\n",
    "print(\"- Frequencies increase with mode number (higher modes = more energy)\")\n",
    "print(\"- Fixed end always has zero displacement\")\n",
    "print(\"- Free end typically has maximum displacement\")"
   ]
  },
  {
   "cell_type": "markdown",
   "id": "ecf84d77",
   "metadata": {},
   "source": [
    "This demonstrates how eigenvalue analysis is fundamental to understanding structural dynamics and vibration behavior."
   ]
  },
  {
   "cell_type": "markdown",
   "id": "0a310a22",
   "metadata": {},
   "source": [
    "Now, let's try again with your own values"
   ]
  },
  {
   "cell_type": "code",
   "execution_count": null,
   "id": "e8943590",
   "metadata": {},
   "outputs": [],
   "source": [
    "NumNodes = ... # number of nodes to consider\n",
    "YModulus = ... # Young's Modulus in (Pa)\n",
    "density = ...  # in kg/m^3\n",
    "Area = ...     # cross sectiona area in m^2\n",
    "Lngth = ...      # Length in m"
   ]
  },
  {
   "cell_type": "markdown",
   "id": "dacaec57",
   "metadata": {},
   "source": [
    "Run the Analysis with our newly defined parameters"
   ]
  },
  {
   "cell_type": "code",
   "execution_count": null,
   "id": "d50b7199",
   "metadata": {},
   "outputs": [],
   "source": [
    "beam_vibration_analysis(n_nodes=NumNodes, E=YModulus, rho=density, A=area, L=Lngth):"
   ]
  },
  {
   "cell_type": "markdown",
   "id": "3e9c15e3",
   "metadata": {},
   "source": [
    "Print Results"
   ]
  },
  {
   "cell_type": "code",
   "execution_count": null,
   "id": "25b11dcb",
   "metadata": {},
   "outputs": [],
   "source": [
    "print(\"Natural frequencies (first 3 modes):\")\n",
    "for i in range(min(3, len(omega_beam))):\n",
    "    f_hz = omega_beam[i] / (2 * np.pi)\n",
    "    print(f\"Mode {i+1}: f = {f_hz:.2f} Hz (ω = {omega_beam[i]:.2f} rad/s)\")"
   ]
  },
  {
   "cell_type": "markdown",
   "id": "c1d024b8",
   "metadata": {},
   "source": [
    "Plot results"
   ]
  },
  {
   "cell_type": "code",
   "execution_count": null,
   "id": "53f7d566",
   "metadata": {},
   "outputs": [],
   "source": [
    "# Create beam position array (excluding fixed end at x=0)\n",
    "n_nodes = 5\n",
    "L = 1.0\n",
    "x_beam = np.linspace(L/(n_nodes-1), L, n_nodes-1)  # Exclude x=0 (fixed end)\n",
    "\n",
    "# Create visualization of beam mode shapes\n",
    "fig, axes = plt.subplots(2, 2, figsize=(12, 8))\n",
    "fig.suptitle('Beam Vibration Analysis: Mode Shapes', fontsize=14)\n",
    "\n",
    "# Plot 1: Beam schematic\n",
    "ax = axes[0, 0]\n",
    "x_full = np.linspace(0, L, 20)\n",
    "y_beam = np.zeros_like(x_full)\n",
    "ax.plot(x_full, y_beam, 'k-', linewidth=4, label='Beam')\n",
    "ax.plot(0, 0, 'ks', markersize=12, label='Fixed Support')\n",
    "ax.plot(x_beam, np.zeros_like(x_beam), 'ro', markersize=8, label='Nodes')\n",
    "\n",
    "# Add some visual elements\n",
    "ax.fill_between([-0.1, 0], [-0.05, -0.05], [0.05, 0.05], color='gray', alpha=0.7)\n",
    "ax.arrow(L*0.7, 0.15, 0, -0.1, head_width=0.02, head_length=0.02, fc='blue', ec='blue')\n",
    "ax.text(L*0.7, 0.18, 'Free End', ha='center', fontsize=10)\n",
    "\n",
    "ax.set_xlim(-0.15, L*1.1)\n",
    "ax.set_ylim(-0.1, 0.2)\n",
    "ax.set_xlabel('Position along beam (m)')\n",
    "ax.set_title('Beam Configuration (Fixed-Free)')\n",
    "ax.legend()\n",
    "ax.grid(True, alpha=0.3)\n",
    "\n",
    "# Plot 2: First three mode shapes\n",
    "ax = axes[0, 1]\n",
    "colors = ['blue', 'red', 'green']\n",
    "for i in range(min(3, len(omega_beam))):\n",
    "    # Normalize mode shape\n",
    "    mode_normalized = modes_beam[:, i] / np.max(np.abs(modes_beam[:, i]))\n",
    "    \n",
    "    # Add fixed end (displacement = 0)\n",
    "    x_plot = np.concatenate([[0], x_beam])\n",
    "    mode_plot = np.concatenate([[0], mode_normalized])\n",
    "    \n",
    "    f_hz = omega_beam[i] / (2 * np.pi)\n",
    "    ax.plot(x_plot, mode_plot, 'o-', color=colors[i], linewidth=2, \n",
    "            markersize=6, label=f'Mode {i+1}: {f_hz:.1f} Hz')\n",
    "\n",
    "ax.axhline(y=0, color='k', linestyle='--', alpha=0.5)\n",
    "ax.set_xlabel('Position along beam (m)')\n",
    "ax.set_ylabel('Normalized Displacement')\n",
    "ax.set_title('Mode Shapes')\n",
    "ax.legend()\n",
    "ax.grid(True, alpha=0.3)\n",
    "\n",
    "# Plot 3: Time evolution of first mode\n",
    "ax = axes[1, 0]\n",
    "t_beam = np.linspace(0, 3*2*np.pi/omega_beam[0], 1000)\n",
    "mode1_norm = modes_beam[:, 0] / np.max(np.abs(modes_beam[:, 0]))\n",
    "\n",
    "# Show time evolution at different points along the beam\n",
    "positions_to_show = [0, len(x_beam)//3, 2*len(x_beam)//3, len(x_beam)-1]\n",
    "for idx in positions_to_show:\n",
    "    if idx < len(mode1_norm):\n",
    "        displacement = mode1_norm[idx] * np.cos(omega_beam[0] * t_beam)\n",
    "        ax.plot(t_beam, displacement, linewidth=2, \n",
    "                label=f'x = {x_beam[idx]:.2f} m')\n",
    "\n",
    "ax.set_xlabel('Time (s)')\n",
    "ax.set_ylabel('Displacement')\n",
    "ax.set_title(f'Mode 1 Time Evolution ({omega_beam[0]/(2*np.pi):.1f} Hz)')\n",
    "ax.legend()\n",
    "ax.grid(True, alpha=0.3)\n",
    "\n",
    "# Plot 4: Frequency spectrum\n",
    "ax = axes[1, 1]\n",
    "frequencies_hz = omega_beam[:min(5, len(omega_beam))] / (2 * np.pi)\n",
    "mode_numbers = range(1, len(frequencies_hz) + 1)\n",
    "\n",
    "bars = ax.bar(mode_numbers, frequencies_hz, color='skyblue', alpha=0.7, edgecolor='blue')\n",
    "ax.set_xlabel('Mode Number')\n",
    "ax.set_ylabel('Frequency (Hz)')\n",
    "ax.set_title('Natural Frequencies')\n",
    "ax.grid(True, alpha=0.3, axis='y')\n",
    "\n",
    "# Add frequency labels on bars\n",
    "for i, (bar, freq) in enumerate(zip(bars, frequencies_hz)):\n",
    "    height = bar.get_height()\n",
    "    ax.text(bar.get_x() + bar.get_width()/2., height + 0.1,\n",
    "            f'{freq:.1f}', ha='center', va='bottom', fontsize=10)\n",
    "\n",
    "plt.tight_layout()\n",
    "plt.show()"
   ]
  },
  {
   "cell_type": "markdown",
   "id": "cfef38b7",
   "metadata": {},
   "source": [
    "Feel free to re-run the above cells multiple times to gain insights on how the the parameter values provided impact the behavior of the system. "
   ]
  },
  {
   "cell_type": "code",
   "execution_count": null,
   "id": "c7115a28",
   "metadata": {},
   "outputs": [],
   "source": []
  }
 ],
 "metadata": {
  "kernelspec": {
   "display_name": "Python 3 (ipykernel)",
   "language": "python",
   "name": "python3"
  },
  "language_info": {
   "codemirror_mode": {
    "name": "ipython",
    "version": 3
   },
   "file_extension": ".py",
   "mimetype": "text/x-python",
   "name": "python",
   "nbconvert_exporter": "python",
   "pygments_lexer": "ipython3",
   "version": "3.9.7"
  }
 },
 "nbformat": 4,
 "nbformat_minor": 5
}
