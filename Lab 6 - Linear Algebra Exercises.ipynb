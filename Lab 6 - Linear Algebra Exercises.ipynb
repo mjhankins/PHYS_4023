{
 "cells": [
  {
   "cell_type": "markdown",
   "id": "089994eb",
   "metadata": {
    "papermill": {
     "duration": 0.005391,
     "end_time": "2025-09-17T21:32:10.365514",
     "exception": false,
     "start_time": "2025-09-17T21:32:10.360123",
     "status": "completed"
    },
    "tags": []
   },
   "source": [
    "# Lab 6 - Linear Algebra Exercises"
   ]
  },
  {
   "cell_type": "markdown",
   "id": "e44811e7",
   "metadata": {},
   "source": [
    "This lab activity is a continuation of lab #5 where you were first introduced to `numpy.linalg`. Here we provide an additional example with `np.linalg.solve()` (Activity 1) as well as examples of decomposition methods using both numpy and scipy modules (activies X & Y) "
   ]
  },
  {
   "cell_type": "code",
   "execution_count": null,
   "id": "663a37a3",
   "metadata": {
    "execution": {
     "iopub.execute_input": "2025-09-17T21:32:10.375859Z",
     "iopub.status.busy": "2025-09-17T21:32:10.375544Z",
     "iopub.status.idle": "2025-09-17T21:32:10.418489Z",
     "shell.execute_reply": "2025-09-17T21:32:10.417491Z"
    },
    "papermill": {
     "duration": 0.050104,
     "end_time": "2025-09-17T21:32:10.420281",
     "exception": false,
     "start_time": "2025-09-17T21:32:10.370177",
     "status": "completed"
    },
    "tags": []
   },
   "outputs": [],
   "source": [
    "# import numpy\n",
    "import numpy as np"
   ]
  },
  {
   "cell_type": "markdown",
   "id": "1f0be2dd",
   "metadata": {},
   "source": [
    "## Activity 1: A practical example of `np.linalg.solve()`"
   ]
  },
  {
   "cell_type": "markdown",
   "id": "50bcc6c2",
   "metadata": {
    "papermill": {
     "duration": 0.004455,
     "end_time": "2025-09-17T21:32:10.429587",
     "exception": false,
     "start_time": "2025-09-17T21:32:10.425132",
     "status": "completed"
    },
    "tags": []
   },
   "source": [
    "Consider the circuit diagram shown below. You have likely seen a problem exactly like this before in physics II or even circuits I (but it's understandable if you are a bit rusty!). That said, let's see how we can use np.linalg to determine the currents $I_1, I_2$, and $I_3$. "
   ]
  },
  {
   "cell_type": "markdown",
   "id": "f720ea21",
   "metadata": {
    "papermill": {
     "duration": 0.004343,
     "end_time": "2025-09-17T21:32:10.438518",
     "exception": false,
     "start_time": "2025-09-17T21:32:10.434175",
     "status": "completed"
    },
    "tags": []
   },
   "source": [
    "![](https://s3-us-west-2.amazonaws.com/courses-images-archive-read-only/wp-content/uploads/sites/222/2014/12/20110306/Figure_22_03_05.jpg)"
   ]
  },
  {
   "cell_type": "markdown",
   "id": "943e7cf5",
   "metadata": {
    "papermill": {
     "duration": 0.004181,
     "end_time": "2025-09-17T21:32:10.447171",
     "exception": false,
     "start_time": "2025-09-17T21:32:10.442990",
     "status": "completed"
    },
    "tags": []
   },
   "source": [
    "Use Kirchoff's laws to write the system of equations that representing the circuit (Note these are provided below, but you should take a moment to verify they are in fact correct!):\n",
    "* $I_1 = I_2 + I_3$\n",
    "* $\\epsilon_1 - I_2 R_2 - I_2 r_1 -I_1 R_1 = 0$\n",
    "* $ I_1 R_1 + I_3 R_3 +I_3 r_2 -\\epsilon_2 =0$"
   ]
  },
  {
   "cell_type": "markdown",
   "id": "9bdcf127",
   "metadata": {
    "papermill": {
     "duration": 0.004277,
     "end_time": "2025-09-17T21:32:10.455888",
     "exception": false,
     "start_time": "2025-09-17T21:32:10.451611",
     "status": "completed"
    },
    "tags": []
   },
   "source": [
    "To start, the system of equations needs to be converted to matrix math in the form $A\\vec{x}=\\vec{b}$"
   ]
  },
  {
   "cell_type": "code",
   "execution_count": null,
   "id": "0607c1cc",
   "metadata": {
    "execution": {
     "iopub.execute_input": "2025-09-17T21:32:10.466622Z",
     "iopub.status.busy": "2025-09-17T21:32:10.466298Z",
     "iopub.status.idle": "2025-09-17T21:32:10.471500Z",
     "shell.execute_reply": "2025-09-17T21:32:10.470456Z"
    },
    "papermill": {
     "duration": 0.012592,
     "end_time": "2025-09-17T21:32:10.472930",
     "exception": false,
     "start_time": "2025-09-17T21:32:10.460338",
     "status": "completed"
    },
    "tags": []
   },
   "outputs": [],
   "source": [
    "### Add your code below to define the matrix A and the vector b corresponding to the equations above\n",
    "A = np.array([\n",
    "        [..., ..., ...],\n",
    "        [..., ..., ...],\n",
    "        [..., ..., ...]\n",
    "    ])\n",
    "b = np.array([..., ..., ...])"
   ]
  },
  {
   "cell_type": "markdown",
   "id": "e3da32c4",
   "metadata": {},
   "source": [
    "Print the matricies to verify they are correct"
   ]
  },
  {
   "cell_type": "code",
   "execution_count": null,
   "id": "955ce29a",
   "metadata": {},
   "outputs": [],
   "source": [
    "print(\"Matrix A:\")\n",
    "print(A)\n",
    "\n",
    "print('\\n') #newline to add space\n",
    "\n",
    "print(\"Vector b:\")\n",
    "print(b)"
   ]
  },
  {
   "cell_type": "markdown",
   "id": "e6e61445",
   "metadata": {
    "papermill": {
     "duration": 0.004229,
     "end_time": "2025-09-17T21:32:10.481888",
     "exception": false,
     "start_time": "2025-09-17T21:32:10.477659",
     "status": "completed"
    },
    "tags": []
   },
   "source": [
    "Now solve for the vector x"
   ]
  },
  {
   "cell_type": "code",
   "execution_count": null,
   "id": "ae04082c",
   "metadata": {
    "execution": {
     "iopub.execute_input": "2025-09-17T21:32:10.491864Z",
     "iopub.status.busy": "2025-09-17T21:32:10.491566Z",
     "iopub.status.idle": "2025-09-17T21:32:10.569621Z",
     "shell.execute_reply": "2025-09-17T21:32:10.568408Z"
    },
    "papermill": {
     "duration": 0.084727,
     "end_time": "2025-09-17T21:32:10.571015",
     "exception": true,
     "start_time": "2025-09-17T21:32:10.486288",
     "status": "failed"
    },
    "tags": []
   },
   "outputs": [],
   "source": [
    "x = np.linalg.solve(A, b)\n",
    "\n",
    "print(\"Vector x:\")\n",
    "print(x)"
   ]
  },
  {
   "cell_type": "markdown",
   "id": "dc0722f5",
   "metadata": {
    "papermill": {
     "duration": null,
     "end_time": null,
     "exception": null,
     "start_time": null,
     "status": "pending"
    },
    "tags": []
   },
   "source": [
    "Check - The solution should be [-4.75,  3.5,  -8.25] if everything has been set up correctly. "
   ]
  },
  {
   "cell_type": "markdown",
   "id": "e0948a8f",
   "metadata": {
    "papermill": {
     "duration": null,
     "end_time": null,
     "exception": null,
     "start_time": null,
     "status": "pending"
    },
    "tags": []
   },
   "source": [
    "## Activity 2: LU Decomposition"
   ]
  },
  {
   "cell_type": "markdown",
   "id": "b093e55a",
   "metadata": {
    "papermill": {
     "duration": null,
     "end_time": null,
     "exception": null,
     "start_time": null,
     "status": "pending"
    },
    "tags": []
   },
   "source": [
    "Recall our discussion of LU dcomposition from class. This method used when we have problems of the form $A\\vec{x}=\\vec{b}$. In it we are motivated to find two matricies, one upper triangular $U$ and one lower triangular $L$, that satisfy the relation $LU=A$."
   ]
  },
  {
   "cell_type": "code",
   "execution_count": null,
   "id": "2676cf67",
   "metadata": {
    "papermill": {
     "duration": null,
     "end_time": null,
     "exception": null,
     "start_time": null,
     "status": "pending"
    },
    "tags": []
   },
   "outputs": [],
   "source": [
    "# import lu from scipy.linalg\n",
    "from scipy.linalg import lu"
   ]
  },
  {
   "cell_type": "markdown",
   "id": "57221d50",
   "metadata": {},
   "source": [
    "For this activity, we will consider a matrix called $B$ to perform LU decomposition on"
   ]
  },
  {
   "cell_type": "code",
   "execution_count": null,
   "id": "509e8378",
   "metadata": {
    "papermill": {
     "duration": null,
     "end_time": null,
     "exception": null,
     "start_time": null,
     "status": "pending"
    },
    "tags": []
   },
   "outputs": [],
   "source": [
    "# our B matrix\n",
    "B = np.array([\n",
    "        [7, 3, -1, 2, 5],\n",
    "        [2, -4, -1, 6, 0],\n",
    "        [2, -3, 8, 1, -4],\n",
    "        [-1, 1, 4, -1, 3],\n",
    "        [6, 0, 2, 2, -4]   \n",
    "    ])"
   ]
  },
  {
   "cell_type": "markdown",
   "id": "85ca7ff1",
   "metadata": {},
   "source": [
    "Now we will perform the LU decomposition"
   ]
  },
  {
   "cell_type": "code",
   "execution_count": null,
   "id": "feb52b09",
   "metadata": {},
   "outputs": [],
   "source": [
    "P,L,U=lu(B)"
   ]
  },
  {
   "cell_type": "markdown",
   "id": "a6f934ef",
   "metadata": {},
   "source": [
    "Print both L and U. Verify they are lower and upper triangular in form"
   ]
  },
  {
   "cell_type": "code",
   "execution_count": null,
   "id": "582fc1e3",
   "metadata": {},
   "outputs": [],
   "source": [
    "print(\"Matrix L:\")\n",
    "print(L)\n",
    "\n",
    "print('\\n') #newline to add space\n",
    "\n",
    "print(\"Vector U:\")\n",
    "print(U)"
   ]
  },
  {
   "cell_type": "markdown",
   "id": "cc4c2c22",
   "metadata": {
    "papermill": {
     "duration": null,
     "end_time": null,
     "exception": null,
     "start_time": null,
     "status": "pending"
    },
    "tags": []
   },
   "source": [
    "check that LU=B for the above output to verify "
   ]
  },
  {
   "cell_type": "code",
   "execution_count": null,
   "id": "36ed609e",
   "metadata": {
    "papermill": {
     "duration": null,
     "end_time": null,
     "exception": null,
     "start_time": null,
     "status": "pending"
    },
    "tags": []
   },
   "outputs": [],
   "source": [
    "print('Product of LU:')\n",
    "print(np.dot(L,U).astype(np.int32))\n",
    "\n",
    "print('\\n') #newline to add space\n",
    "\n",
    "print('Original Matrix B')\n",
    "print(B)"
   ]
  },
  {
   "cell_type": "markdown",
   "id": "990b6e9f",
   "metadata": {
    "papermill": {
     "duration": null,
     "end_time": null,
     "exception": null,
     "start_time": null,
     "status": "pending"
    },
    "tags": []
   },
   "source": [
    "Let's look at another example to explore the Permutation Matrix 'P'.\n",
    "Here we will use the matrix 'C', which is defined below. "
   ]
  },
  {
   "cell_type": "code",
   "execution_count": null,
   "id": "df3385a3",
   "metadata": {
    "papermill": {
     "duration": null,
     "end_time": null,
     "exception": null,
     "start_time": null,
     "status": "pending"
    },
    "tags": []
   },
   "outputs": [],
   "source": [
    "C = np.array([\n",
    "        [7, 3, -1, 5, 5],\n",
    "        [8, -4, -1, 2, 0],\n",
    "        [8, -3, 5, 1, -4],\n",
    "        [-1, 0, 5, -1, 3],\n",
    "        [6, 1, -3, 3, -3]   \n",
    "    ])"
   ]
  },
  {
   "cell_type": "markdown",
   "id": "9488d6eb",
   "metadata": {},
   "source": [
    "Perform LU decomposition and check if $LU=C$"
   ]
  },
  {
   "cell_type": "code",
   "execution_count": null,
   "id": "ca967599",
   "metadata": {},
   "outputs": [],
   "source": [
    "P,L2,U2=lu(C) #perform LU decomposition"
   ]
  },
  {
   "cell_type": "code",
   "execution_count": null,
   "id": "1d0ad74b",
   "metadata": {},
   "outputs": [],
   "source": [
    "print('Product of LU (from matrix C):')\n",
    "print(np.dot(L2,U2).astype(np.int32))\n",
    "\n",
    "print('\\n') #newline to add space\n",
    "\n",
    "print('Original Matrix C')\n",
    "print(C)"
   ]
  },
  {
   "cell_type": "markdown",
   "id": "bb2d4175",
   "metadata": {
    "papermill": {
     "duration": null,
     "end_time": null,
     "exception": null,
     "start_time": null,
     "status": "pending"
    },
    "tags": []
   },
   "source": [
    "Note, the above matrix is not exactly equal to the original 'C'; however it is the same with some rows exchanged! How do we fix this?"
   ]
  },
  {
   "cell_type": "markdown",
   "id": "cfd80201",
   "metadata": {},
   "source": [
    "Try the product $PC$ and compare with $LU$"
   ]
  },
  {
   "cell_type": "code",
   "execution_count": null,
   "id": "736d3608",
   "metadata": {
    "papermill": {
     "duration": null,
     "end_time": null,
     "exception": null,
     "start_time": null,
     "status": "pending"
    },
    "tags": []
   },
   "outputs": [],
   "source": [
    "print('Product of PC:')\n",
    "print(np.dot(P,C).astype(np.int32))\n",
    "\n",
    "print('\\n') \n",
    "\n",
    "print('Product of LU (from matrix C):')\n",
    "print(np.dot(L2,U2).astype(np.int32))"
   ]
  },
  {
   "cell_type": "markdown",
   "id": "18df0f7d",
   "metadata": {
    "papermill": {
     "duration": null,
     "end_time": null,
     "exception": null,
     "start_time": null,
     "status": "pending"
    },
    "tags": []
   },
   "source": [
    "Note that PC = LU. Note it is not problematic to mulitply P by C because the multiplication is effectively unit (and the operation only exchanges rows of the original matrix 'C'"
   ]
  },
  {
   "cell_type": "markdown",
   "id": "43f89d70",
   "metadata": {
    "papermill": {
     "duration": null,
     "end_time": null,
     "exception": null,
     "start_time": null,
     "status": "pending"
    },
    "tags": []
   },
   "source": [
    "## Activity 3: Cholskey Decompostion\n",
    "While we only breifly discussed Cholskey Decomposioin in class, let's look at a breif example implementation here.  \n",
    "Consider the matrix D below"
   ]
  },
  {
   "cell_type": "code",
   "execution_count": null,
   "id": "572d7e55",
   "metadata": {
    "papermill": {
     "duration": null,
     "end_time": null,
     "exception": null,
     "start_time": null,
     "status": "pending"
    },
    "tags": []
   },
   "outputs": [],
   "source": [
    "D = np.array([\n",
    "        [1, 3, 5],\n",
    "        [3, 13, 23],\n",
    "        [5, 23, 42], \n",
    "    ])"
   ]
  },
  {
   "cell_type": "code",
   "execution_count": null,
   "id": "1a2b7543",
   "metadata": {},
   "outputs": [],
   "source": [
    "print('Original Matrix D')\n",
    "print(D)"
   ]
  },
  {
   "cell_type": "markdown",
   "id": "ff855f8c",
   "metadata": {
    "papermill": {
     "duration": null,
     "end_time": null,
     "exception": null,
     "start_time": null,
     "status": "pending"
    },
    "tags": []
   },
   "source": [
    "Perform the cholskey decomposition. Print $L$ and verify it is lower triangular."
   ]
  },
  {
   "cell_type": "code",
   "execution_count": null,
   "id": "26766e07",
   "metadata": {
    "papermill": {
     "duration": null,
     "end_time": null,
     "exception": null,
     "start_time": null,
     "status": "pending"
    },
    "tags": []
   },
   "outputs": [],
   "source": [
    "L = np.linalg.cholesky(D)\n",
    "\n",
    "print('Matrix L:')\n",
    "print(L)"
   ]
  },
  {
   "cell_type": "markdown",
   "id": "e6d951b2",
   "metadata": {},
   "source": [
    "Check if $LL^T = D$. Note this is the defined relation for this particular decompostion method."
   ]
  },
  {
   "cell_type": "code",
   "execution_count": null,
   "id": "9200d2f7",
   "metadata": {},
   "outputs": [],
   "source": [
    "print('Product of L and L^T:')\n",
    "print(np.dot(L, L.T))\n",
    "\n",
    "print('\\n') \n",
    "\n",
    "print('Original Matrix D')\n",
    "print(D)"
   ]
  },
  {
   "cell_type": "markdown",
   "id": "c671332c",
   "metadata": {
    "papermill": {
     "duration": null,
     "end_time": null,
     "exception": null,
     "start_time": null,
     "status": "pending"
    },
    "tags": []
   },
   "source": [
    "Note the agreement, thus verifying the result!"
   ]
  },
  {
   "cell_type": "markdown",
   "id": "9a9f221e",
   "metadata": {
    "papermill": {
     "duration": null,
     "end_time": null,
     "exception": null,
     "start_time": null,
     "status": "pending"
    },
    "tags": []
   },
   "source": [
    "## Activity 4: Iterative methods for solving matrices\n",
    "\n",
    "In class we discussed iterative methods for solving matricies. Below you can see an implementation of the Gauss-Siedel process. Take a moment to review the code (loops and all) to verify that it does indeed match with the algorithm for Gauss-Siedel. Then, run the code for the provided sample matrix $A$ and $b$."
   ]
  },
  {
   "cell_type": "code",
   "execution_count": null,
   "id": "a49e1491",
   "metadata": {
    "papermill": {
     "duration": null,
     "end_time": null,
     "exception": null,
     "start_time": null,
     "status": "pending"
    },
    "tags": []
   },
   "outputs": [],
   "source": [
    "ITERATION_LIMIT = 100\n",
    "\n",
    "# initialize the matrix\n",
    "A = np.array(\n",
    "    [[10.0, -1.0, 2.0, 0.0],\n",
    "     [-1.0, 11.0, -1.0, 3.0],\n",
    "     [2.0, -1.0, 10.0, -1.0],\n",
    "     [0.0, 3.0, -1.0, 8.0],\n",
    "    ])\n",
    "\n",
    "# initialize the RHS vector\n",
    "b = np.array([6.0, 25.0, -11.0, 15.0])\n",
    "\n",
    "print(\"System of equations:\")\n",
    "for i in range(A.shape[0]):\n",
    "    row = [f\"{A[i,j]:3g}*x{j+1}\" for j in range(A.shape[1])]\n",
    "    print(\"[{0}] = [{1:3g}]\".format(\" + \".join(row), b[i]))\n",
    "\n",
    "x = np.zeros_like(b, np.float_)\n",
    "for it_count in range(1, ITERATION_LIMIT):\n",
    "    x_new = np.zeros_like(x, dtype=np.float_)\n",
    "    print(f\"Iteration {it_count}: {x}\")\n",
    "    for i in range(A.shape[0]):\n",
    "        s1 = np.dot(A[i, :i], x_new[:i])\n",
    "        s2 = np.dot(A[i, i + 1 :], x[i + 1 :])\n",
    "        x_new[i] = (b[i] - s1 - s2) / A[i, i]\n",
    "    if np.allclose(x, x_new, rtol=1e-8):\n",
    "        break\n",
    "    x = x_new\n",
    "\n",
    "print(f\"Solution: {x}\")\n",
    "error = np.dot(A, x) - b\n",
    "print(f\"Error: {error}\")"
   ]
  },
  {
   "cell_type": "markdown",
   "id": "0b9d5079",
   "metadata": {
    "papermill": {
     "duration": null,
     "end_time": null,
     "exception": null,
     "start_time": null,
     "status": "pending"
    },
    "tags": []
   },
   "source": [
    "Notice the result converges very quickly, and has small error on par with the stated tolerace. "
   ]
  },
  {
   "cell_type": "markdown",
   "id": "0796a214",
   "metadata": {
    "papermill": {
     "duration": null,
     "end_time": null,
     "exception": null,
     "start_time": null,
     "status": "pending"
    },
    "tags": []
   },
   "source": [
    "Now, let's try to form a matrix that the algorithm will have a tougher time to solve but will still converge. Re-define $A$ below with values of your choice. Then run the cell below to examine convergence"
   ]
  },
  {
   "cell_type": "code",
   "execution_count": null,
   "id": "51397865",
   "metadata": {
    "papermill": {
     "duration": null,
     "end_time": null,
     "exception": null,
     "start_time": null,
     "status": "pending"
    },
    "tags": []
   },
   "outputs": [],
   "source": [
    "# initialize the matrix\n",
    "\n",
    "A = np.array(\n",
    "    [[ ... , ..., ..., ...],\n",
    "     [ ... , ..., ..., ...],\n",
    "     [ ... , ..., ..., ...],\n",
    "     [ ... , ..., ..., ...]\n",
    "    ]\n",
    ")\n",
    "\n",
    "\n",
    "\n",
    "# initialize the RHS vector\n",
    "b = np.array([ ... , ..., ..., ...])"
   ]
  },
  {
   "cell_type": "code",
   "execution_count": null,
   "id": "60d0cf84",
   "metadata": {
    "papermill": {
     "duration": null,
     "end_time": null,
     "exception": null,
     "start_time": null,
     "status": "pending"
    },
    "tags": []
   },
   "outputs": [],
   "source": [
    "ITERATION_LIMIT = 300\n",
    "\n",
    "\n",
    "print(\"System of equations:\")\n",
    "for i in range(A.shape[0]):\n",
    "    row = [f\"{A[i,j]:3g}*x{j+1}\" for j in range(A.shape[1])]\n",
    "    print(\"[{0}] = [{1:3g}]\".format(\" + \".join(row), b[i]))\n",
    "\n",
    "x = np.zeros_like(b, np.float_)\n",
    "for it_count in range(1, ITERATION_LIMIT):\n",
    "    x_new = np.zeros_like(x, dtype=np.float_)\n",
    "    print(f\"Iteration {it_count}: {x}\")\n",
    "    for i in range(A.shape[0]):\n",
    "        s1 = np.dot(A[i, :i], x_new[:i])\n",
    "        s2 = np.dot(A[i, i + 1 :], x[i + 1 :])\n",
    "        x_new[i] = (b[i] - s1 - s2) / A[i, i]\n",
    "    if np.allclose(x, x_new, rtol=1e-8):\n",
    "        break\n",
    "    x = x_new\n",
    "\n",
    "print(f\"Solution: {x}\")\n",
    "error = np.dot(A, x) - b\n",
    "print(f\"Error: {error}\")"
   ]
  },
  {
   "cell_type": "markdown",
   "id": "7df8546f",
   "metadata": {
    "papermill": {
     "duration": null,
     "end_time": null,
     "exception": null,
     "start_time": null,
     "status": "pending"
    },
    "tags": []
   },
   "source": [
    "### Actvity 5 (Optional): Can you grapically show convergence of the Gauss-Seidel process?"
   ]
  },
  {
   "cell_type": "markdown",
   "id": "b13b3960",
   "metadata": {},
   "source": [
    "For this activity, it may help to think back to the $sin(x)$ activity we did earlier. Note that you will need to modify some of the above code to track the error with each iteration. "
   ]
  },
  {
   "cell_type": "code",
   "execution_count": null,
   "id": "889c745b",
   "metadata": {},
   "outputs": [],
   "source": [
    "### ADD CODE AND CELLS BELOW AS NEEDED ####\n",
    "\n",
    "\n",
    "\n"
   ]
  },
  {
   "cell_type": "markdown",
   "id": "b8d6c42e",
   "metadata": {},
   "source": [
    "Make a plot of error vs iteration limit below. Most of the plotting code is already provided for you to use, but add a horizontal black line to indicate the value of the tolerance. "
   ]
  },
  {
   "cell_type": "code",
   "execution_count": null,
   "id": "880b9910",
   "metadata": {
    "papermill": {
     "duration": null,
     "end_time": null,
     "exception": null,
     "start_time": null,
     "status": "pending"
    },
    "tags": []
   },
   "outputs": [],
   "source": [
    "import matplotlib.pyplot as plt\n",
    "\n",
    "\n",
    "plt.plot(iterations, errors, 'r-')\n",
    "plt.ylabel('Error')\n",
    "plt.xlabel('N')\n",
    "plt.show()"
   ]
  },
  {
   "cell_type": "markdown",
   "id": "a1508d38",
   "metadata": {
    "papermill": {
     "duration": null,
     "end_time": null,
     "exception": null,
     "start_time": null,
     "status": "pending"
    },
    "tags": []
   },
   "source": [
    "### Last, let's try the same exercise again, but this time let's pick an $A$ that will not converge. Use the same plotting mechanisms developed above to examine the behavior when this method does not converge\n",
    "What are the keys to this process converging and/or not converging? - Experimentation is encouraged!"
   ]
  },
  {
   "cell_type": "code",
   "execution_count": null,
   "id": "65b6b33b",
   "metadata": {
    "papermill": {
     "duration": null,
     "end_time": null,
     "exception": null,
     "start_time": null,
     "status": "pending"
    },
    "tags": []
   },
   "outputs": [],
   "source": [
    "# initialize the matrix\n",
    "\n",
    "A = np.array(\n",
    "    [[ ... , ..., ..., ...],\n",
    "     [ ... , ..., ..., ...],\n",
    "     [ ... , ..., ..., ...],\n",
    "     [ ... , ..., ..., ...]\n",
    "    ]\n",
    ")\n",
    "\n",
    "\n",
    "\n",
    "# initialize the RHS vector\n",
    "b = np.array([ ... , ..., ..., ...])"
   ]
  },
  {
   "cell_type": "code",
   "execution_count": null,
   "id": "8090aed1",
   "metadata": {
    "papermill": {
     "duration": null,
     "end_time": null,
     "exception": null,
     "start_time": null,
     "status": "pending"
    },
    "tags": []
   },
   "outputs": [],
   "source": [
    "### ADD CODE AND CELLS BELOW AS NEEDED ####\n",
    "\n",
    "\n",
    "\n"
   ]
  }
 ],
 "metadata": {
  "kernelspec": {
   "display_name": "Python 3 (ipykernel)",
   "language": "python",
   "name": "python3"
  },
  "language_info": {
   "codemirror_mode": {
    "name": "ipython",
    "version": 3
   },
   "file_extension": ".py",
   "mimetype": "text/x-python",
   "name": "python",
   "nbconvert_exporter": "python",
   "pygments_lexer": "ipython3",
   "version": "3.9.7"
  },
  "papermill": {
   "default_parameters": {},
   "duration": 6.101253,
   "end_time": "2025-09-17T21:32:10.995743",
   "environment_variables": {},
   "exception": true,
   "input_path": "__notebook__.ipynb",
   "output_path": "__notebook__.ipynb",
   "parameters": {},
   "start_time": "2025-09-17T21:32:04.894490",
   "version": "2.6.0"
  }
 },
 "nbformat": 4,
 "nbformat_minor": 5
}
